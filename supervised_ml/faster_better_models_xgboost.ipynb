{
 "metadata": {
  "language_info": {
   "codemirror_mode": {
    "name": "ipython",
    "version": 3
   },
   "file_extension": ".py",
   "mimetype": "text/x-python",
   "name": "python",
   "nbconvert_exporter": "python",
   "pygments_lexer": "ipython3",
   "version": "3.8.0-final"
  },
  "orig_nbformat": 2,
  "kernelspec": {
   "name": "python3",
   "display_name": "Python 3.8.0 64-bit",
   "metadata": {
    "interpreter": {
     "hash": "4d21c5017a3395ea95cb512be2638581094a384049928509a361c83b57b948d5"
    }
   }
  }
 },
 "nbformat": 4,
 "nbformat_minor": 2,
 "cells": [
  {
   "cell_type": "code",
   "execution_count": 1,
   "metadata": {},
   "outputs": [],
   "source": [
    "import pandas as pd\n",
    "import numpy as np\n",
    "import xgboost as xgb\n",
    "from sklearn.datasets import load_boston\n",
    "from sklearn.model_selection import train_test_split\n",
    "from sklearn.metrics import mean_squared_error"
   ]
  },
  {
   "cell_type": "code",
   "execution_count": 2,
   "metadata": {},
   "outputs": [],
   "source": [
    "boston = load_boston()"
   ]
  },
  {
   "cell_type": "code",
   "execution_count": 3,
   "metadata": {},
   "outputs": [
    {
     "output_type": "execute_result",
     "data": {
      "text/plain": [
       "      CRIM    ZN  INDUS  CHAS    NOX     RM   AGE     DIS  RAD    TAX  \\\n",
       "0  0.00632  18.0   2.31   0.0  0.538  6.575  65.2  4.0900  1.0  296.0   \n",
       "1  0.02731   0.0   7.07   0.0  0.469  6.421  78.9  4.9671  2.0  242.0   \n",
       "2  0.02729   0.0   7.07   0.0  0.469  7.185  61.1  4.9671  2.0  242.0   \n",
       "3  0.03237   0.0   2.18   0.0  0.458  6.998  45.8  6.0622  3.0  222.0   \n",
       "4  0.06905   0.0   2.18   0.0  0.458  7.147  54.2  6.0622  3.0  222.0   \n",
       "\n",
       "   PTRATIO       B  LSTAT  Price  \n",
       "0     15.3  396.90   4.98   24.0  \n",
       "1     17.8  396.90   9.14   21.6  \n",
       "2     17.8  392.83   4.03   34.7  \n",
       "3     18.7  394.63   2.94   33.4  \n",
       "4     18.7  396.90   5.33   36.2  "
      ],
      "text/html": "<div>\n<style scoped>\n    .dataframe tbody tr th:only-of-type {\n        vertical-align: middle;\n    }\n\n    .dataframe tbody tr th {\n        vertical-align: top;\n    }\n\n    .dataframe thead th {\n        text-align: right;\n    }\n</style>\n<table border=\"1\" class=\"dataframe\">\n  <thead>\n    <tr style=\"text-align: right;\">\n      <th></th>\n      <th>CRIM</th>\n      <th>ZN</th>\n      <th>INDUS</th>\n      <th>CHAS</th>\n      <th>NOX</th>\n      <th>RM</th>\n      <th>AGE</th>\n      <th>DIS</th>\n      <th>RAD</th>\n      <th>TAX</th>\n      <th>PTRATIO</th>\n      <th>B</th>\n      <th>LSTAT</th>\n      <th>Price</th>\n    </tr>\n  </thead>\n  <tbody>\n    <tr>\n      <th>0</th>\n      <td>0.00632</td>\n      <td>18.0</td>\n      <td>2.31</td>\n      <td>0.0</td>\n      <td>0.538</td>\n      <td>6.575</td>\n      <td>65.2</td>\n      <td>4.0900</td>\n      <td>1.0</td>\n      <td>296.0</td>\n      <td>15.3</td>\n      <td>396.90</td>\n      <td>4.98</td>\n      <td>24.0</td>\n    </tr>\n    <tr>\n      <th>1</th>\n      <td>0.02731</td>\n      <td>0.0</td>\n      <td>7.07</td>\n      <td>0.0</td>\n      <td>0.469</td>\n      <td>6.421</td>\n      <td>78.9</td>\n      <td>4.9671</td>\n      <td>2.0</td>\n      <td>242.0</td>\n      <td>17.8</td>\n      <td>396.90</td>\n      <td>9.14</td>\n      <td>21.6</td>\n    </tr>\n    <tr>\n      <th>2</th>\n      <td>0.02729</td>\n      <td>0.0</td>\n      <td>7.07</td>\n      <td>0.0</td>\n      <td>0.469</td>\n      <td>7.185</td>\n      <td>61.1</td>\n      <td>4.9671</td>\n      <td>2.0</td>\n      <td>242.0</td>\n      <td>17.8</td>\n      <td>392.83</td>\n      <td>4.03</td>\n      <td>34.7</td>\n    </tr>\n    <tr>\n      <th>3</th>\n      <td>0.03237</td>\n      <td>0.0</td>\n      <td>2.18</td>\n      <td>0.0</td>\n      <td>0.458</td>\n      <td>6.998</td>\n      <td>45.8</td>\n      <td>6.0622</td>\n      <td>3.0</td>\n      <td>222.0</td>\n      <td>18.7</td>\n      <td>394.63</td>\n      <td>2.94</td>\n      <td>33.4</td>\n    </tr>\n    <tr>\n      <th>4</th>\n      <td>0.06905</td>\n      <td>0.0</td>\n      <td>2.18</td>\n      <td>0.0</td>\n      <td>0.458</td>\n      <td>7.147</td>\n      <td>54.2</td>\n      <td>6.0622</td>\n      <td>3.0</td>\n      <td>222.0</td>\n      <td>18.7</td>\n      <td>396.90</td>\n      <td>5.33</td>\n      <td>36.2</td>\n    </tr>\n  </tbody>\n</table>\n</div>"
     },
     "metadata": {},
     "execution_count": 3
    }
   ],
   "source": [
    "df = pd.DataFrame(boston.data,columns=boston.feature_names)\n",
    "df['Price'] = boston.target\n",
    "df.head()"
   ]
  },
  {
   "cell_type": "code",
   "execution_count": 4,
   "metadata": {},
   "outputs": [],
   "source": [
    "x = boston.data\n",
    "y = boston.target"
   ]
  },
  {
   "source": [
    "### we need to convert it to Dmatrix for doing Model Training"
   ],
   "cell_type": "markdown",
   "metadata": {}
  },
  {
   "cell_type": "code",
   "execution_count": 5,
   "metadata": {},
   "outputs": [
    {
     "output_type": "execute_result",
     "data": {
      "text/plain": [
       "<xgboost.core.DMatrix at 0x1c06828dcd0>"
      ]
     },
     "metadata": {},
     "execution_count": 5
    }
   ],
   "source": [
    "data_matrix = xgb.DMatrix(data= x,label = y)\n",
    "data_matrix"
   ]
  },
  {
   "cell_type": "code",
   "execution_count": 6,
   "metadata": {},
   "outputs": [],
   "source": [
    "trainx,testx,trainy,testy = train_test_split(x,y,random_state=0)"
   ]
  },
  {
   "cell_type": "code",
   "execution_count": 7,
   "metadata": {},
   "outputs": [
    {
     "output_type": "execute_result",
     "data": {
      "text/plain": [
       "9.777224181641056"
      ]
     },
     "metadata": {},
     "execution_count": 7
    }
   ],
   "source": [
    "xreg = xgb.XGBRegressor(learning_rate=.1,max_depth=5,n_estimators=10)\n",
    "xreg.fit(trainx,trainy)\n",
    "ypred=xreg.predict(testx)\n",
    "rmse = np.sqrt(mean_squared_error(testy,ypred))\n",
    "rmse"
   ]
  },
  {
   "cell_type": "code",
   "execution_count": 8,
   "metadata": {},
   "outputs": [],
   "source": [
    "params = {\n",
    "    'learning_rate':.1,\n",
    "    'max_depth':5,\n",
    "    'alpha':.5\n",
    "}"
   ]
  },
  {
   "cell_type": "code",
   "execution_count": 9,
   "metadata": {},
   "outputs": [
    {
     "output_type": "execute_result",
     "data": {
      "text/plain": [
       "    train-rmse-mean  train-rmse-std  test-rmse-mean  test-rmse-std\n",
       "0         21.616619        0.303411       21.635874       0.671068\n",
       "1         19.587602        0.277160       19.626687       0.646785\n",
       "2         17.757449        0.250927       17.814894       0.612731\n",
       "3         16.103320        0.224683       16.197803       0.588456\n",
       "4         14.614581        0.204207       14.746067       0.562735\n",
       "..              ...             ...             ...            ...\n",
       "95         0.584155        0.049964        3.767220       0.418035\n",
       "96         0.576827        0.050399        3.766854       0.418206\n",
       "97         0.571370        0.049767        3.766755       0.418596\n",
       "98         0.564301        0.048055        3.765382       0.419699\n",
       "99         0.554901        0.048464        3.763886       0.418166\n",
       "\n",
       "[100 rows x 4 columns]"
      ],
      "text/html": "<div>\n<style scoped>\n    .dataframe tbody tr th:only-of-type {\n        vertical-align: middle;\n    }\n\n    .dataframe tbody tr th {\n        vertical-align: top;\n    }\n\n    .dataframe thead th {\n        text-align: right;\n    }\n</style>\n<table border=\"1\" class=\"dataframe\">\n  <thead>\n    <tr style=\"text-align: right;\">\n      <th></th>\n      <th>train-rmse-mean</th>\n      <th>train-rmse-std</th>\n      <th>test-rmse-mean</th>\n      <th>test-rmse-std</th>\n    </tr>\n  </thead>\n  <tbody>\n    <tr>\n      <th>0</th>\n      <td>21.616619</td>\n      <td>0.303411</td>\n      <td>21.635874</td>\n      <td>0.671068</td>\n    </tr>\n    <tr>\n      <th>1</th>\n      <td>19.587602</td>\n      <td>0.277160</td>\n      <td>19.626687</td>\n      <td>0.646785</td>\n    </tr>\n    <tr>\n      <th>2</th>\n      <td>17.757449</td>\n      <td>0.250927</td>\n      <td>17.814894</td>\n      <td>0.612731</td>\n    </tr>\n    <tr>\n      <th>3</th>\n      <td>16.103320</td>\n      <td>0.224683</td>\n      <td>16.197803</td>\n      <td>0.588456</td>\n    </tr>\n    <tr>\n      <th>4</th>\n      <td>14.614581</td>\n      <td>0.204207</td>\n      <td>14.746067</td>\n      <td>0.562735</td>\n    </tr>\n    <tr>\n      <th>...</th>\n      <td>...</td>\n      <td>...</td>\n      <td>...</td>\n      <td>...</td>\n    </tr>\n    <tr>\n      <th>95</th>\n      <td>0.584155</td>\n      <td>0.049964</td>\n      <td>3.767220</td>\n      <td>0.418035</td>\n    </tr>\n    <tr>\n      <th>96</th>\n      <td>0.576827</td>\n      <td>0.050399</td>\n      <td>3.766854</td>\n      <td>0.418206</td>\n    </tr>\n    <tr>\n      <th>97</th>\n      <td>0.571370</td>\n      <td>0.049767</td>\n      <td>3.766755</td>\n      <td>0.418596</td>\n    </tr>\n    <tr>\n      <th>98</th>\n      <td>0.564301</td>\n      <td>0.048055</td>\n      <td>3.765382</td>\n      <td>0.419699</td>\n    </tr>\n    <tr>\n      <th>99</th>\n      <td>0.554901</td>\n      <td>0.048464</td>\n      <td>3.763886</td>\n      <td>0.418166</td>\n    </tr>\n  </tbody>\n</table>\n<p>100 rows × 4 columns</p>\n</div>"
     },
     "metadata": {},
     "execution_count": 9
    }
   ],
   "source": [
    "result = xgb.cv(dtrain= data_matrix,\n",
    "                params= params,\n",
    "                nfold = 3,\n",
    "                num_boost_round=100,\n",
    "                early_stopping_rounds=10,\n",
    "                metrics='rmse',\n",
    "                seed = 0 )\n",
    "result"
   ]
  },
  {
   "cell_type": "code",
   "execution_count": 10,
   "metadata": {},
   "outputs": [
    {
     "output_type": "execute_result",
     "data": {
      "text/plain": [
       "<AxesSubplot:>"
      ]
     },
     "metadata": {},
     "execution_count": 10
    },
    {
     "output_type": "display_data",
     "data": {
      "text/plain": "<Figure size 432x288 with 1 Axes>",
      "image/svg+xml": "<?xml version=\"1.0\" encoding=\"utf-8\" standalone=\"no\"?>\r\n<!DOCTYPE svg PUBLIC \"-//W3C//DTD SVG 1.1//EN\"\r\n  \"http://www.w3.org/Graphics/SVG/1.1/DTD/svg11.dtd\">\r\n<!-- Created with matplotlib (https://matplotlib.org/) -->\r\n<svg height=\"248.518125pt\" version=\"1.1\" viewBox=\"0 0 368.925 248.518125\" width=\"368.925pt\" xmlns=\"http://www.w3.org/2000/svg\" xmlns:xlink=\"http://www.w3.org/1999/xlink\">\r\n <metadata>\r\n  <rdf:RDF xmlns:cc=\"http://creativecommons.org/ns#\" xmlns:dc=\"http://purl.org/dc/elements/1.1/\" xmlns:rdf=\"http://www.w3.org/1999/02/22-rdf-syntax-ns#\">\r\n   <cc:Work>\r\n    <dc:type rdf:resource=\"http://purl.org/dc/dcmitype/StillImage\"/>\r\n    <dc:date>2020-12-07T17:12:14.434674</dc:date>\r\n    <dc:format>image/svg+xml</dc:format>\r\n    <dc:creator>\r\n     <cc:Agent>\r\n      <dc:title>Matplotlib v3.3.2, https://matplotlib.org/</dc:title>\r\n     </cc:Agent>\r\n    </dc:creator>\r\n   </cc:Work>\r\n  </rdf:RDF>\r\n </metadata>\r\n <defs>\r\n  <style type=\"text/css\">*{stroke-linecap:butt;stroke-linejoin:round;}</style>\r\n </defs>\r\n <g id=\"figure_1\">\r\n  <g id=\"patch_1\">\r\n   <path d=\"M -0 248.518125 \r\nL 368.925 248.518125 \r\nL 368.925 0 \r\nL -0 0 \r\nz\r\n\" style=\"fill:none;\"/>\r\n  </g>\r\n  <g id=\"axes_1\">\r\n   <g id=\"patch_2\">\r\n    <path d=\"M 26.925 224.64 \r\nL 361.725 224.64 \r\nL 361.725 7.2 \r\nL 26.925 7.2 \r\nz\r\n\" style=\"fill:#ffffff;\"/>\r\n   </g>\r\n   <g id=\"matplotlib.axis_1\">\r\n    <g id=\"xtick_1\">\r\n     <g id=\"line2d_1\">\r\n      <defs>\r\n       <path d=\"M 0 0 \r\nL 0 3.5 \r\n\" id=\"m7eb9d15793\" style=\"stroke:#000000;stroke-width:0.8;\"/>\r\n      </defs>\r\n      <g>\r\n       <use style=\"stroke:#000000;stroke-width:0.8;\" x=\"42.143182\" xlink:href=\"#m7eb9d15793\" y=\"224.64\"/>\r\n      </g>\r\n     </g>\r\n     <g id=\"text_1\">\r\n      <!-- 0 -->\r\n      <g transform=\"translate(38.961932 239.238437)scale(0.1 -0.1)\">\r\n       <defs>\r\n        <path d=\"M 31.78125 66.40625 \r\nQ 24.171875 66.40625 20.328125 58.90625 \r\nQ 16.5 51.421875 16.5 36.375 \r\nQ 16.5 21.390625 20.328125 13.890625 \r\nQ 24.171875 6.390625 31.78125 6.390625 \r\nQ 39.453125 6.390625 43.28125 13.890625 \r\nQ 47.125 21.390625 47.125 36.375 \r\nQ 47.125 51.421875 43.28125 58.90625 \r\nQ 39.453125 66.40625 31.78125 66.40625 \r\nz\r\nM 31.78125 74.21875 \r\nQ 44.046875 74.21875 50.515625 64.515625 \r\nQ 56.984375 54.828125 56.984375 36.375 \r\nQ 56.984375 17.96875 50.515625 8.265625 \r\nQ 44.046875 -1.421875 31.78125 -1.421875 \r\nQ 19.53125 -1.421875 13.0625 8.265625 \r\nQ 6.59375 17.96875 6.59375 36.375 \r\nQ 6.59375 54.828125 13.0625 64.515625 \r\nQ 19.53125 74.21875 31.78125 74.21875 \r\nz\r\n\" id=\"DejaVuSans-48\"/>\r\n       </defs>\r\n       <use xlink:href=\"#DejaVuSans-48\"/>\r\n      </g>\r\n     </g>\r\n    </g>\r\n    <g id=\"xtick_2\">\r\n     <g id=\"line2d_2\">\r\n      <g>\r\n       <use style=\"stroke:#000000;stroke-width:0.8;\" x=\"103.630785\" xlink:href=\"#m7eb9d15793\" y=\"224.64\"/>\r\n      </g>\r\n     </g>\r\n     <g id=\"text_2\">\r\n      <!-- 20 -->\r\n      <g transform=\"translate(97.268285 239.238437)scale(0.1 -0.1)\">\r\n       <defs>\r\n        <path d=\"M 19.1875 8.296875 \r\nL 53.609375 8.296875 \r\nL 53.609375 0 \r\nL 7.328125 0 \r\nL 7.328125 8.296875 \r\nQ 12.9375 14.109375 22.625 23.890625 \r\nQ 32.328125 33.6875 34.8125 36.53125 \r\nQ 39.546875 41.84375 41.421875 45.53125 \r\nQ 43.3125 49.21875 43.3125 52.78125 \r\nQ 43.3125 58.59375 39.234375 62.25 \r\nQ 35.15625 65.921875 28.609375 65.921875 \r\nQ 23.96875 65.921875 18.8125 64.3125 \r\nQ 13.671875 62.703125 7.8125 59.421875 \r\nL 7.8125 69.390625 \r\nQ 13.765625 71.78125 18.9375 73 \r\nQ 24.125 74.21875 28.421875 74.21875 \r\nQ 39.75 74.21875 46.484375 68.546875 \r\nQ 53.21875 62.890625 53.21875 53.421875 \r\nQ 53.21875 48.921875 51.53125 44.890625 \r\nQ 49.859375 40.875 45.40625 35.40625 \r\nQ 44.1875 33.984375 37.640625 27.21875 \r\nQ 31.109375 20.453125 19.1875 8.296875 \r\nz\r\n\" id=\"DejaVuSans-50\"/>\r\n       </defs>\r\n       <use xlink:href=\"#DejaVuSans-50\"/>\r\n       <use x=\"63.623047\" xlink:href=\"#DejaVuSans-48\"/>\r\n      </g>\r\n     </g>\r\n    </g>\r\n    <g id=\"xtick_3\">\r\n     <g id=\"line2d_3\">\r\n      <g>\r\n       <use style=\"stroke:#000000;stroke-width:0.8;\" x=\"165.118388\" xlink:href=\"#m7eb9d15793\" y=\"224.64\"/>\r\n      </g>\r\n     </g>\r\n     <g id=\"text_3\">\r\n      <!-- 40 -->\r\n      <g transform=\"translate(158.755888 239.238437)scale(0.1 -0.1)\">\r\n       <defs>\r\n        <path d=\"M 37.796875 64.3125 \r\nL 12.890625 25.390625 \r\nL 37.796875 25.390625 \r\nz\r\nM 35.203125 72.90625 \r\nL 47.609375 72.90625 \r\nL 47.609375 25.390625 \r\nL 58.015625 25.390625 \r\nL 58.015625 17.1875 \r\nL 47.609375 17.1875 \r\nL 47.609375 0 \r\nL 37.796875 0 \r\nL 37.796875 17.1875 \r\nL 4.890625 17.1875 \r\nL 4.890625 26.703125 \r\nz\r\n\" id=\"DejaVuSans-52\"/>\r\n       </defs>\r\n       <use xlink:href=\"#DejaVuSans-52\"/>\r\n       <use x=\"63.623047\" xlink:href=\"#DejaVuSans-48\"/>\r\n      </g>\r\n     </g>\r\n    </g>\r\n    <g id=\"xtick_4\">\r\n     <g id=\"line2d_4\">\r\n      <g>\r\n       <use style=\"stroke:#000000;stroke-width:0.8;\" x=\"226.605992\" xlink:href=\"#m7eb9d15793\" y=\"224.64\"/>\r\n      </g>\r\n     </g>\r\n     <g id=\"text_4\">\r\n      <!-- 60 -->\r\n      <g transform=\"translate(220.243492 239.238437)scale(0.1 -0.1)\">\r\n       <defs>\r\n        <path d=\"M 33.015625 40.375 \r\nQ 26.375 40.375 22.484375 35.828125 \r\nQ 18.609375 31.296875 18.609375 23.390625 \r\nQ 18.609375 15.53125 22.484375 10.953125 \r\nQ 26.375 6.390625 33.015625 6.390625 \r\nQ 39.65625 6.390625 43.53125 10.953125 \r\nQ 47.40625 15.53125 47.40625 23.390625 \r\nQ 47.40625 31.296875 43.53125 35.828125 \r\nQ 39.65625 40.375 33.015625 40.375 \r\nz\r\nM 52.59375 71.296875 \r\nL 52.59375 62.3125 \r\nQ 48.875 64.0625 45.09375 64.984375 \r\nQ 41.3125 65.921875 37.59375 65.921875 \r\nQ 27.828125 65.921875 22.671875 59.328125 \r\nQ 17.53125 52.734375 16.796875 39.40625 \r\nQ 19.671875 43.65625 24.015625 45.921875 \r\nQ 28.375 48.1875 33.59375 48.1875 \r\nQ 44.578125 48.1875 50.953125 41.515625 \r\nQ 57.328125 34.859375 57.328125 23.390625 \r\nQ 57.328125 12.15625 50.6875 5.359375 \r\nQ 44.046875 -1.421875 33.015625 -1.421875 \r\nQ 20.359375 -1.421875 13.671875 8.265625 \r\nQ 6.984375 17.96875 6.984375 36.375 \r\nQ 6.984375 53.65625 15.1875 63.9375 \r\nQ 23.390625 74.21875 37.203125 74.21875 \r\nQ 40.921875 74.21875 44.703125 73.484375 \r\nQ 48.484375 72.75 52.59375 71.296875 \r\nz\r\n\" id=\"DejaVuSans-54\"/>\r\n       </defs>\r\n       <use xlink:href=\"#DejaVuSans-54\"/>\r\n       <use x=\"63.623047\" xlink:href=\"#DejaVuSans-48\"/>\r\n      </g>\r\n     </g>\r\n    </g>\r\n    <g id=\"xtick_5\">\r\n     <g id=\"line2d_5\">\r\n      <g>\r\n       <use style=\"stroke:#000000;stroke-width:0.8;\" x=\"288.093595\" xlink:href=\"#m7eb9d15793\" y=\"224.64\"/>\r\n      </g>\r\n     </g>\r\n     <g id=\"text_5\">\r\n      <!-- 80 -->\r\n      <g transform=\"translate(281.731095 239.238437)scale(0.1 -0.1)\">\r\n       <defs>\r\n        <path d=\"M 31.78125 34.625 \r\nQ 24.75 34.625 20.71875 30.859375 \r\nQ 16.703125 27.09375 16.703125 20.515625 \r\nQ 16.703125 13.921875 20.71875 10.15625 \r\nQ 24.75 6.390625 31.78125 6.390625 \r\nQ 38.8125 6.390625 42.859375 10.171875 \r\nQ 46.921875 13.96875 46.921875 20.515625 \r\nQ 46.921875 27.09375 42.890625 30.859375 \r\nQ 38.875 34.625 31.78125 34.625 \r\nz\r\nM 21.921875 38.8125 \r\nQ 15.578125 40.375 12.03125 44.71875 \r\nQ 8.5 49.078125 8.5 55.328125 \r\nQ 8.5 64.0625 14.71875 69.140625 \r\nQ 20.953125 74.21875 31.78125 74.21875 \r\nQ 42.671875 74.21875 48.875 69.140625 \r\nQ 55.078125 64.0625 55.078125 55.328125 \r\nQ 55.078125 49.078125 51.53125 44.71875 \r\nQ 48 40.375 41.703125 38.8125 \r\nQ 48.828125 37.15625 52.796875 32.3125 \r\nQ 56.78125 27.484375 56.78125 20.515625 \r\nQ 56.78125 9.90625 50.3125 4.234375 \r\nQ 43.84375 -1.421875 31.78125 -1.421875 \r\nQ 19.734375 -1.421875 13.25 4.234375 \r\nQ 6.78125 9.90625 6.78125 20.515625 \r\nQ 6.78125 27.484375 10.78125 32.3125 \r\nQ 14.796875 37.15625 21.921875 38.8125 \r\nz\r\nM 18.3125 54.390625 \r\nQ 18.3125 48.734375 21.84375 45.5625 \r\nQ 25.390625 42.390625 31.78125 42.390625 \r\nQ 38.140625 42.390625 41.71875 45.5625 \r\nQ 45.3125 48.734375 45.3125 54.390625 \r\nQ 45.3125 60.0625 41.71875 63.234375 \r\nQ 38.140625 66.40625 31.78125 66.40625 \r\nQ 25.390625 66.40625 21.84375 63.234375 \r\nQ 18.3125 60.0625 18.3125 54.390625 \r\nz\r\n\" id=\"DejaVuSans-56\"/>\r\n       </defs>\r\n       <use xlink:href=\"#DejaVuSans-56\"/>\r\n       <use x=\"63.623047\" xlink:href=\"#DejaVuSans-48\"/>\r\n      </g>\r\n     </g>\r\n    </g>\r\n    <g id=\"xtick_6\">\r\n     <g id=\"line2d_6\">\r\n      <g>\r\n       <use style=\"stroke:#000000;stroke-width:0.8;\" x=\"349.581198\" xlink:href=\"#m7eb9d15793\" y=\"224.64\"/>\r\n      </g>\r\n     </g>\r\n     <g id=\"text_6\">\r\n      <!-- 100 -->\r\n      <g transform=\"translate(340.037448 239.238437)scale(0.1 -0.1)\">\r\n       <defs>\r\n        <path d=\"M 12.40625 8.296875 \r\nL 28.515625 8.296875 \r\nL 28.515625 63.921875 \r\nL 10.984375 60.40625 \r\nL 10.984375 69.390625 \r\nL 28.421875 72.90625 \r\nL 38.28125 72.90625 \r\nL 38.28125 8.296875 \r\nL 54.390625 8.296875 \r\nL 54.390625 0 \r\nL 12.40625 0 \r\nz\r\n\" id=\"DejaVuSans-49\"/>\r\n       </defs>\r\n       <use xlink:href=\"#DejaVuSans-49\"/>\r\n       <use x=\"63.623047\" xlink:href=\"#DejaVuSans-48\"/>\r\n       <use x=\"127.246094\" xlink:href=\"#DejaVuSans-48\"/>\r\n      </g>\r\n     </g>\r\n    </g>\r\n   </g>\r\n   <g id=\"matplotlib.axis_2\">\r\n    <g id=\"ytick_1\">\r\n     <g id=\"line2d_7\">\r\n      <defs>\r\n       <path d=\"M 0 0 \r\nL -3.5 0 \r\n\" id=\"m0a13248b0e\" style=\"stroke:#000000;stroke-width:0.8;\"/>\r\n      </defs>\r\n      <g>\r\n       <use style=\"stroke:#000000;stroke-width:0.8;\" x=\"26.925\" xlink:href=\"#m0a13248b0e\" y=\"219.96433\"/>\r\n      </g>\r\n     </g>\r\n     <g id=\"text_7\">\r\n      <!-- 0 -->\r\n      <g transform=\"translate(13.5625 223.763549)scale(0.1 -0.1)\">\r\n       <use xlink:href=\"#DejaVuSans-48\"/>\r\n      </g>\r\n     </g>\r\n    </g>\r\n    <g id=\"ytick_2\">\r\n     <g id=\"line2d_8\">\r\n      <g>\r\n       <use style=\"stroke:#000000;stroke-width:0.8;\" x=\"26.925\" xlink:href=\"#m0a13248b0e\" y=\"173.037313\"/>\r\n      </g>\r\n     </g>\r\n     <g id=\"text_8\">\r\n      <!-- 5 -->\r\n      <g transform=\"translate(13.5625 176.836532)scale(0.1 -0.1)\">\r\n       <defs>\r\n        <path d=\"M 10.796875 72.90625 \r\nL 49.515625 72.90625 \r\nL 49.515625 64.59375 \r\nL 19.828125 64.59375 \r\nL 19.828125 46.734375 \r\nQ 21.96875 47.46875 24.109375 47.828125 \r\nQ 26.265625 48.1875 28.421875 48.1875 \r\nQ 40.625 48.1875 47.75 41.5 \r\nQ 54.890625 34.8125 54.890625 23.390625 \r\nQ 54.890625 11.625 47.5625 5.09375 \r\nQ 40.234375 -1.421875 26.90625 -1.421875 \r\nQ 22.3125 -1.421875 17.546875 -0.640625 \r\nQ 12.796875 0.140625 7.71875 1.703125 \r\nL 7.71875 11.625 \r\nQ 12.109375 9.234375 16.796875 8.0625 \r\nQ 21.484375 6.890625 26.703125 6.890625 \r\nQ 35.15625 6.890625 40.078125 11.328125 \r\nQ 45.015625 15.765625 45.015625 23.390625 \r\nQ 45.015625 31 40.078125 35.4375 \r\nQ 35.15625 39.890625 26.703125 39.890625 \r\nQ 22.75 39.890625 18.8125 39.015625 \r\nQ 14.890625 38.140625 10.796875 36.28125 \r\nz\r\n\" id=\"DejaVuSans-53\"/>\r\n       </defs>\r\n       <use xlink:href=\"#DejaVuSans-53\"/>\r\n      </g>\r\n     </g>\r\n    </g>\r\n    <g id=\"ytick_3\">\r\n     <g id=\"line2d_9\">\r\n      <g>\r\n       <use style=\"stroke:#000000;stroke-width:0.8;\" x=\"26.925\" xlink:href=\"#m0a13248b0e\" y=\"126.110296\"/>\r\n      </g>\r\n     </g>\r\n     <g id=\"text_9\">\r\n      <!-- 10 -->\r\n      <g transform=\"translate(7.2 129.909514)scale(0.1 -0.1)\">\r\n       <use xlink:href=\"#DejaVuSans-49\"/>\r\n       <use x=\"63.623047\" xlink:href=\"#DejaVuSans-48\"/>\r\n      </g>\r\n     </g>\r\n    </g>\r\n    <g id=\"ytick_4\">\r\n     <g id=\"line2d_10\">\r\n      <g>\r\n       <use style=\"stroke:#000000;stroke-width:0.8;\" x=\"26.925\" xlink:href=\"#m0a13248b0e\" y=\"79.183278\"/>\r\n      </g>\r\n     </g>\r\n     <g id=\"text_10\">\r\n      <!-- 15 -->\r\n      <g transform=\"translate(7.2 82.982497)scale(0.1 -0.1)\">\r\n       <use xlink:href=\"#DejaVuSans-49\"/>\r\n       <use x=\"63.623047\" xlink:href=\"#DejaVuSans-53\"/>\r\n      </g>\r\n     </g>\r\n    </g>\r\n    <g id=\"ytick_5\">\r\n     <g id=\"line2d_11\">\r\n      <g>\r\n       <use style=\"stroke:#000000;stroke-width:0.8;\" x=\"26.925\" xlink:href=\"#m0a13248b0e\" y=\"32.256261\"/>\r\n      </g>\r\n     </g>\r\n     <g id=\"text_11\">\r\n      <!-- 20 -->\r\n      <g transform=\"translate(7.2 36.05548)scale(0.1 -0.1)\">\r\n       <use xlink:href=\"#DejaVuSans-50\"/>\r\n       <use x=\"63.623047\" xlink:href=\"#DejaVuSans-48\"/>\r\n      </g>\r\n     </g>\r\n    </g>\r\n   </g>\r\n   <g id=\"line2d_12\">\r\n    <path clip-path=\"url(#p48c330a1f6)\" d=\"M 42.143182 17.083636 \r\nL 45.217562 36.12678 \r\nL 48.291942 53.30351 \r\nL 51.366322 68.828172 \r\nL 54.440702 82.800591 \r\nL 57.515083 95.440192 \r\nL 60.589463 106.777632 \r\nL 63.663843 116.987699 \r\nL 66.738223 126.214183 \r\nL 69.812603 134.569185 \r\nL 72.886983 142.052727 \r\nL 75.961364 148.805274 \r\nL 79.035744 154.906381 \r\nL 82.110124 160.424022 \r\nL 85.184504 165.412827 \r\nL 88.258884 169.907778 \r\nL 91.333264 173.939244 \r\nL 94.407645 177.583903 \r\nL 97.482025 180.866914 \r\nL 100.556405 183.839646 \r\nL 103.630785 186.515585 \r\nL 106.705165 188.888568 \r\nL 109.779545 191.02823 \r\nL 112.853926 192.962875 \r\nL 115.928306 194.681286 \r\nL 119.002686 196.227819 \r\nL 122.077066 197.643294 \r\nL 125.151446 198.890205 \r\nL 128.225826 199.986035 \r\nL 131.300207 200.960697 \r\nL 134.374587 201.819239 \r\nL 137.448967 202.606562 \r\nL 140.523347 203.359956 \r\nL 143.597727 203.958135 \r\nL 146.672107 204.576401 \r\nL 149.746488 205.081004 \r\nL 152.820868 205.573388 \r\nL 155.895248 206.003968 \r\nL 158.969628 206.357088 \r\nL 162.044008 206.744608 \r\nL 165.118388 207.132982 \r\nL 168.192769 207.462494 \r\nL 171.267149 207.747232 \r\nL 174.341529 207.998288 \r\nL 177.415909 208.277914 \r\nL 180.490289 208.481414 \r\nL 183.564669 208.709207 \r\nL 186.63905 208.880904 \r\nL 189.71343 209.081029 \r\nL 192.78781 209.270811 \r\nL 195.86219 209.508647 \r\nL 198.93657 209.644519 \r\nL 202.01095 209.820924 \r\nL 205.085331 209.951976 \r\nL 208.159711 210.205948 \r\nL 211.234091 210.364026 \r\nL 214.308471 210.539299 \r\nL 217.382851 210.748584 \r\nL 220.457231 210.907019 \r\nL 223.531612 211.097283 \r\nL 226.605992 211.254579 \r\nL 229.680372 211.38828 \r\nL 232.754752 211.517749 \r\nL 235.829132 211.656149 \r\nL 238.903512 211.74129 \r\nL 241.977893 211.859659 \r\nL 245.052273 211.984219 \r\nL 248.126653 212.113628 \r\nL 251.201033 212.232197 \r\nL 254.275413 212.345269 \r\nL 257.349793 212.453899 \r\nL 260.424174 212.533809 \r\nL 263.498554 212.6328 \r\nL 266.572934 212.733506 \r\nL 269.647314 212.819241 \r\nL 272.721694 212.930649 \r\nL 275.796074 213.027178 \r\nL 278.870455 213.114944 \r\nL 281.944835 213.207428 \r\nL 285.019215 213.299968 \r\nL 288.093595 213.375305 \r\nL 291.167975 213.462357 \r\nL 294.242355 213.529788 \r\nL 297.316736 213.624687 \r\nL 300.391116 213.716054 \r\nL 303.465496 213.804086 \r\nL 306.539876 213.860711 \r\nL 309.614256 213.924179 \r\nL 312.688636 214.002891 \r\nL 315.763017 214.081247 \r\nL 318.837397 214.170664 \r\nL 321.911777 214.251739 \r\nL 324.986157 214.320781 \r\nL 328.060537 214.361041 \r\nL 331.134917 214.423038 \r\nL 334.209298 214.481803 \r\nL 337.283678 214.550573 \r\nL 340.358058 214.601792 \r\nL 343.432438 214.668138 \r\nL 346.506818 214.756364 \r\n\" style=\"fill:none;stroke:#1f77b4;stroke-linecap:square;stroke-width:1.5;\"/>\r\n   </g>\r\n   <g id=\"patch_3\">\r\n    <path d=\"M 26.925 224.64 \r\nL 26.925 7.2 \r\n\" style=\"fill:none;stroke:#000000;stroke-linecap:square;stroke-linejoin:miter;stroke-width:0.8;\"/>\r\n   </g>\r\n   <g id=\"patch_4\">\r\n    <path d=\"M 361.725 224.64 \r\nL 361.725 7.2 \r\n\" style=\"fill:none;stroke:#000000;stroke-linecap:square;stroke-linejoin:miter;stroke-width:0.8;\"/>\r\n   </g>\r\n   <g id=\"patch_5\">\r\n    <path d=\"M 26.925 224.64 \r\nL 361.725 224.64 \r\n\" style=\"fill:none;stroke:#000000;stroke-linecap:square;stroke-linejoin:miter;stroke-width:0.8;\"/>\r\n   </g>\r\n   <g id=\"patch_6\">\r\n    <path d=\"M 26.925 7.2 \r\nL 361.725 7.2 \r\n\" style=\"fill:none;stroke:#000000;stroke-linecap:square;stroke-linejoin:miter;stroke-width:0.8;\"/>\r\n   </g>\r\n  </g>\r\n </g>\r\n <defs>\r\n  <clipPath id=\"p48c330a1f6\">\r\n   <rect height=\"217.44\" width=\"334.8\" x=\"26.925\" y=\"7.2\"/>\r\n  </clipPath>\r\n </defs>\r\n</svg>\r\n",
      "image/png": "[encoded data removed]"
     },
     "metadata": {
      "needs_background": "light"
     }
    }
   ],
   "source": [
    "result['train-rmse-mean'].plot()"
   ]
  },
  {
   "source": [
    "# hyperparameter tuning in xgboost\n",
    "### to find the best parameter for the algorithm we will use gridsearch"
   ],
   "cell_type": "markdown",
   "metadata": {}
  },
  {
   "cell_type": "code",
   "execution_count": 14,
   "metadata": {},
   "outputs": [],
   "source": [
    "gridsearch_params = [\n",
    "    (max_depth,min_child_weight,learning_rate,subsample,colsample_bytree)\n",
    "    for max_depth in  range(3,12)\n",
    "    for min_child_weight in range(5,10)\n",
    "    for learning_rate in np.arange(.1,1,.05)\n",
    "    for subsample in np.arange(.1,1)\n",
    "    for colsample_bytree in np.arange(.1,1)\n",
    "]"
   ]
  },
  {
   "cell_type": "code",
   "execution_count": 15,
   "metadata": {},
   "outputs": [],
   "source": [
    "from tqdm import tqdm"
   ]
  },
  {
   "cell_type": "code",
   "execution_count": 16,
   "metadata": {
    "tags": []
   },
   "outputs": [
    {
     "output_type": "stream",
     "name": "stderr",
     "text": [
      "100%|██████████| 810/810 [01:57<00:00,  6.88it/s]Best Params: 3,5,0.25000000000000006,0.1,0.1 with rmse: 4.6239364\n",
      "\n"
     ]
    }
   ],
   "source": [
    "# initial parameter for variable\n",
    "min_rmse = float('inf')\n",
    "best_params = None\n",
    "for max_depth,min_child_weight,lr,ss,cs_bytree in tqdm(gridsearch_params):\n",
    "    params['max_depth'] = max_depth\n",
    "    params['min_child_weight'] = min_child_weight\n",
    "    params['learning_rate'] = lr\n",
    "    params['subsample'] = ss\n",
    "    params['colsample_bytree'] = cs_bytree\n",
    "    result = xgb.cv(dtrain= data_matrix,\n",
    "                    params= params,\n",
    "                    nfold = 5,\n",
    "                    num_boost_round=100,\n",
    "                    early_stopping_rounds=10,\n",
    "                    metrics='rmse',\n",
    "                    seed = 0 )\n",
    "    mean_rmse = result['test-rmse-mean'].min()\n",
    "    boost_rounds = result['test-rmse-mean'].argmin()\n",
    "    if mean_rmse < min_rmse:\n",
    "        min_rmse = mean_rmse\n",
    "        best_params = (max_depth,min_child_weight,lr,ss,cs_bytree)\n",
    "print(f'Best Params: {best_params[0]},{best_params[1]},{best_params[2]},{best_params[3]},{best_params[4]} with rmse: {min_rmse}')"
   ]
  },
  {
   "cell_type": "code",
   "execution_count": 14,
   "metadata": {},
   "outputs": [
    {
     "output_type": "execute_result",
     "data": {
      "text/plain": [
       "{'learning_rate': 0.15, 'max_depth': 4, 'alpha': 0.5, 'min_child_weight': 7}"
      ]
     },
     "metadata": {},
     "execution_count": 14
    }
   ],
   "source": [
    "params['max_depth'] = 4\n",
    "params['min_child_weight'] = 7\n",
    "params['learning_rate'] = 0.15\n",
    "params['alpha'] = .5\n",
    "params"
   ]
  },
  {
   "source": [
    "## model training"
   ],
   "cell_type": "markdown",
   "metadata": {}
  },
  {
   "cell_type": "code",
   "execution_count": 15,
   "metadata": {},
   "outputs": [],
   "source": [
    "trainx,testx,trainy,testy = train_test_split(x,y,test_size=.2,random_state=0)\n",
    "dtrain = xgb.DMatrix(data=trainx,label=trainy)\n",
    "dtest = xgb.DMatrix(data=testx,label=testy)"
   ]
  },
  {
   "cell_type": "code",
   "execution_count": 16,
   "metadata": {},
   "outputs": [
    {
     "output_type": "stream",
     "name": "stdout",
     "text": [
      "[0]\tTest-rmse:20.26882\n",
      "Will train until Test-rmse hasn't improved in 10 rounds.\n",
      "[1]\tTest-rmse:17.51834\n",
      "[2]\tTest-rmse:15.16920\n",
      "[3]\tTest-rmse:13.24647\n",
      "[4]\tTest-rmse:11.61087\n",
      "[5]\tTest-rmse:10.25640\n",
      "[6]\tTest-rmse:9.20160\n",
      "[7]\tTest-rmse:8.31116\n",
      "[8]\tTest-rmse:7.57763\n",
      "[9]\tTest-rmse:7.02559\n",
      "[10]\tTest-rmse:6.61641\n",
      "[11]\tTest-rmse:6.26306\n",
      "[12]\tTest-rmse:5.93847\n",
      "[13]\tTest-rmse:5.74773\n",
      "[14]\tTest-rmse:5.57630\n",
      "[15]\tTest-rmse:5.46043\n",
      "[16]\tTest-rmse:5.37922\n",
      "[17]\tTest-rmse:5.32826\n",
      "[18]\tTest-rmse:5.27910\n",
      "[19]\tTest-rmse:5.15989\n",
      "[20]\tTest-rmse:5.13882\n",
      "[21]\tTest-rmse:5.12583\n",
      "[22]\tTest-rmse:5.06174\n",
      "[23]\tTest-rmse:5.06877\n",
      "[24]\tTest-rmse:5.04505\n",
      "[25]\tTest-rmse:4.96298\n",
      "[26]\tTest-rmse:4.96728\n",
      "[27]\tTest-rmse:4.95127\n",
      "[28]\tTest-rmse:4.94864\n",
      "[29]\tTest-rmse:4.93313\n",
      "[30]\tTest-rmse:4.89716\n",
      "[31]\tTest-rmse:4.87823\n",
      "[32]\tTest-rmse:4.87322\n",
      "[33]\tTest-rmse:4.84334\n",
      "[34]\tTest-rmse:4.82127\n",
      "[35]\tTest-rmse:4.80808\n",
      "[36]\tTest-rmse:4.80999\n",
      "[37]\tTest-rmse:4.81696\n",
      "[38]\tTest-rmse:4.82491\n",
      "[39]\tTest-rmse:4.81899\n",
      "[40]\tTest-rmse:4.79839\n",
      "[41]\tTest-rmse:4.78949\n",
      "[42]\tTest-rmse:4.79889\n",
      "[43]\tTest-rmse:4.78320\n",
      "[44]\tTest-rmse:4.77204\n",
      "[45]\tTest-rmse:4.76397\n",
      "[46]\tTest-rmse:4.76480\n",
      "[47]\tTest-rmse:4.76018\n",
      "[48]\tTest-rmse:4.75566\n",
      "[49]\tTest-rmse:4.76262\n",
      "[50]\tTest-rmse:4.76431\n",
      "[51]\tTest-rmse:4.76204\n",
      "[52]\tTest-rmse:4.75568\n",
      "[53]\tTest-rmse:4.75437\n",
      "[54]\tTest-rmse:4.75037\n",
      "[55]\tTest-rmse:4.74746\n",
      "[56]\tTest-rmse:4.75964\n",
      "[57]\tTest-rmse:4.76663\n",
      "[58]\tTest-rmse:4.76609\n",
      "[59]\tTest-rmse:4.76114\n",
      "[60]\tTest-rmse:4.76319\n",
      "[61]\tTest-rmse:4.76111\n",
      "[62]\tTest-rmse:4.73925\n",
      "[63]\tTest-rmse:4.73670\n",
      "[64]\tTest-rmse:4.73483\n",
      "[65]\tTest-rmse:4.73281\n",
      "[66]\tTest-rmse:4.72083\n",
      "[67]\tTest-rmse:4.72043\n",
      "[68]\tTest-rmse:4.72266\n",
      "[69]\tTest-rmse:4.72380\n",
      "[70]\tTest-rmse:4.72254\n",
      "[71]\tTest-rmse:4.71839\n",
      "[72]\tTest-rmse:4.70929\n",
      "[73]\tTest-rmse:4.70835\n",
      "[74]\tTest-rmse:4.70711\n",
      "[75]\tTest-rmse:4.70282\n",
      "[76]\tTest-rmse:4.69448\n",
      "[77]\tTest-rmse:4.69264\n",
      "[78]\tTest-rmse:4.68541\n",
      "[79]\tTest-rmse:4.68054\n",
      "[80]\tTest-rmse:4.67827\n",
      "[81]\tTest-rmse:4.67898\n",
      "[82]\tTest-rmse:4.67416\n",
      "[83]\tTest-rmse:4.66623\n",
      "[84]\tTest-rmse:4.65472\n",
      "[85]\tTest-rmse:4.65627\n",
      "[86]\tTest-rmse:4.65105\n",
      "[87]\tTest-rmse:4.65494\n",
      "[88]\tTest-rmse:4.65086\n",
      "[89]\tTest-rmse:4.65891\n",
      "[90]\tTest-rmse:4.66203\n",
      "[91]\tTest-rmse:4.66256\n",
      "[92]\tTest-rmse:4.66566\n",
      "[93]\tTest-rmse:4.66705\n",
      "[94]\tTest-rmse:4.65623\n",
      "[95]\tTest-rmse:4.65308\n",
      "[96]\tTest-rmse:4.65625\n",
      "[97]\tTest-rmse:4.65394\n",
      "[98]\tTest-rmse:4.65493\n",
      "Stopping. Best iteration:\n",
      "[88]\tTest-rmse:4.65086\n",
      "\n"
     ]
    }
   ],
   "source": [
    "model = xgb.train(\n",
    "    params,\n",
    "    dtrain,\n",
    "    num_boost_round = 100,\n",
    "    evals=[(dtest,'Test')],\n",
    "    early_stopping_rounds=10\n",
    ")"
   ]
  },
  {
   "source": [
    "## model saving"
   ],
   "cell_type": "markdown",
   "metadata": {}
  },
  {
   "cell_type": "code",
   "execution_count": 17,
   "metadata": {},
   "outputs": [
    {
     "output_type": "stream",
     "name": "stdout",
     "text": [
      "[0]\tTest-rmse:20.26882\n",
      "[1]\tTest-rmse:17.51834\n",
      "[2]\tTest-rmse:15.16920\n",
      "[3]\tTest-rmse:13.24647\n",
      "[4]\tTest-rmse:11.61087\n",
      "[5]\tTest-rmse:10.25640\n",
      "[6]\tTest-rmse:9.20160\n",
      "[7]\tTest-rmse:8.31116\n",
      "[8]\tTest-rmse:7.57763\n",
      "[9]\tTest-rmse:7.02559\n",
      "[10]\tTest-rmse:6.61641\n",
      "[11]\tTest-rmse:6.26306\n",
      "[12]\tTest-rmse:5.93847\n",
      "[13]\tTest-rmse:5.74773\n",
      "[14]\tTest-rmse:5.57630\n",
      "[15]\tTest-rmse:5.46043\n",
      "[16]\tTest-rmse:5.37922\n",
      "[17]\tTest-rmse:5.32826\n",
      "[18]\tTest-rmse:5.27910\n",
      "[19]\tTest-rmse:5.15989\n",
      "[20]\tTest-rmse:5.13882\n",
      "[21]\tTest-rmse:5.12583\n",
      "[22]\tTest-rmse:5.06174\n",
      "[23]\tTest-rmse:5.06877\n",
      "[24]\tTest-rmse:5.04505\n",
      "[25]\tTest-rmse:4.96298\n",
      "[26]\tTest-rmse:4.96728\n",
      "[27]\tTest-rmse:4.95127\n",
      "[28]\tTest-rmse:4.94864\n",
      "[29]\tTest-rmse:4.93313\n",
      "[30]\tTest-rmse:4.89716\n",
      "[31]\tTest-rmse:4.87823\n",
      "[32]\tTest-rmse:4.87322\n",
      "[33]\tTest-rmse:4.84334\n",
      "[34]\tTest-rmse:4.82127\n",
      "[35]\tTest-rmse:4.80808\n",
      "[36]\tTest-rmse:4.80999\n",
      "[37]\tTest-rmse:4.81696\n",
      "[38]\tTest-rmse:4.82491\n",
      "[39]\tTest-rmse:4.81899\n",
      "[40]\tTest-rmse:4.79839\n",
      "[41]\tTest-rmse:4.78949\n",
      "[42]\tTest-rmse:4.79889\n",
      "[43]\tTest-rmse:4.78320\n",
      "[44]\tTest-rmse:4.77204\n",
      "[45]\tTest-rmse:4.76397\n",
      "[46]\tTest-rmse:4.76480\n",
      "[47]\tTest-rmse:4.76018\n",
      "[48]\tTest-rmse:4.75566\n",
      "[49]\tTest-rmse:4.76262\n",
      "[50]\tTest-rmse:4.76431\n",
      "[51]\tTest-rmse:4.76204\n",
      "[52]\tTest-rmse:4.75568\n",
      "[53]\tTest-rmse:4.75437\n",
      "[54]\tTest-rmse:4.75037\n",
      "[55]\tTest-rmse:4.74746\n",
      "[56]\tTest-rmse:4.75964\n",
      "[57]\tTest-rmse:4.76663\n",
      "[58]\tTest-rmse:4.76609\n",
      "[59]\tTest-rmse:4.76114\n",
      "[60]\tTest-rmse:4.76319\n",
      "[61]\tTest-rmse:4.76111\n",
      "[62]\tTest-rmse:4.73925\n",
      "[63]\tTest-rmse:4.73670\n",
      "[64]\tTest-rmse:4.73483\n",
      "[65]\tTest-rmse:4.73281\n",
      "[66]\tTest-rmse:4.72083\n",
      "[67]\tTest-rmse:4.72043\n",
      "[68]\tTest-rmse:4.72266\n",
      "[69]\tTest-rmse:4.72380\n",
      "[70]\tTest-rmse:4.72254\n",
      "[71]\tTest-rmse:4.71839\n",
      "[72]\tTest-rmse:4.70929\n",
      "[73]\tTest-rmse:4.70835\n",
      "[74]\tTest-rmse:4.70711\n",
      "[75]\tTest-rmse:4.70282\n",
      "[76]\tTest-rmse:4.69448\n",
      "[77]\tTest-rmse:4.69264\n",
      "[78]\tTest-rmse:4.68541\n",
      "[79]\tTest-rmse:4.68054\n",
      "[80]\tTest-rmse:4.67827\n",
      "[81]\tTest-rmse:4.67898\n",
      "[82]\tTest-rmse:4.67416\n",
      "[83]\tTest-rmse:4.66623\n",
      "[84]\tTest-rmse:4.65472\n",
      "[85]\tTest-rmse:4.65627\n",
      "[86]\tTest-rmse:4.65105\n",
      "[87]\tTest-rmse:4.65494\n",
      "[88]\tTest-rmse:4.65086\n"
     ]
    }
   ],
   "source": [
    "num_round = model.best_iteration + 1\n",
    "best_model = xgb.train(\n",
    "    params,\n",
    "    dtrain,\n",
    "    num_boost_round= num_round,\n",
    "    evals = [(dtest,'Test')]\n",
    ")"
   ]
  },
  {
   "cell_type": "code",
   "execution_count": 18,
   "metadata": {},
   "outputs": [
    {
     "output_type": "execute_result",
     "data": {
      "text/plain": [
       "4.650862951909819"
      ]
     },
     "metadata": {},
     "execution_count": 18
    }
   ],
   "source": [
    "pred = best_model.predict(dtest)\n",
    "np.sqrt(mean_squared_error(testy,pred))"
   ]
  },
  {
   "cell_type": "code",
   "execution_count": null,
   "metadata": {},
   "outputs": [],
   "source": []
  }
 ]
}