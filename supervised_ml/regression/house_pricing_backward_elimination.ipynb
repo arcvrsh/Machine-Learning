{
 "metadata": {
  "language_info": {
   "codemirror_mode": {
    "name": "ipython",
    "version": 3
   },
   "file_extension": ".py",
   "mimetype": "text/x-python",
   "name": "python",
   "nbconvert_exporter": "python",
   "pygments_lexer": "ipython3",
   "version": "3.8.0-final"
  },
  "orig_nbformat": 2,
  "kernelspec": {
   "name": "Python 3.8.0 64-bit",
   "display_name": "Python 3.8.0 64-bit",
   "metadata": {
    "interpreter": {
     "hash": "4d21c5017a3395ea95cb512be2638581094a384049928509a361c83b57b948d5"
    }
   }
  }
 },
 "nbformat": 4,
 "nbformat_minor": 2,
 "cells": [
  {
   "cell_type": "code",
   "execution_count": 1,
   "metadata": {},
   "outputs": [],
   "source": [
    "import pandas as pd\n",
    "import numpy as np\n",
    "import matplotlib.pyplot as plt\n",
    "import statsmodels.regression.linear_model as sm\n",
    "\n",
    "# algo and estimators\n",
    "from sklearn.model_selection import train_test_split\n",
    "from sklearn.linear_model import LinearRegression\n",
    "from sklearn.preprocessing import OneHotEncoder"
   ]
  },
  {
   "cell_type": "code",
   "execution_count": 2,
   "metadata": {},
   "outputs": [
    {
     "output_type": "execute_result",
     "data": {
      "text/plain": [
       "         City         Type  Beds  Baths  SquareFeet      Price\n",
       "0  SACRAMENTO  Residential     2      1         836  138159.85\n",
       "1  SACRAMENTO  Residential     3      1        1167  167541.46\n",
       "2  SACRAMENTO  Residential     2      1         796  119095.12\n",
       "3  SACRAMENTO  Residential     2      1         852  130904.95\n",
       "4  SACRAMENTO  Residential     2      1         797  120266.19"
      ],
      "text/html": "<div>\n<style scoped>\n    .dataframe tbody tr th:only-of-type {\n        vertical-align: middle;\n    }\n\n    .dataframe tbody tr th {\n        vertical-align: top;\n    }\n\n    .dataframe thead th {\n        text-align: right;\n    }\n</style>\n<table border=\"1\" class=\"dataframe\">\n  <thead>\n    <tr style=\"text-align: right;\">\n      <th></th>\n      <th>City</th>\n      <th>Type</th>\n      <th>Beds</th>\n      <th>Baths</th>\n      <th>SquareFeet</th>\n      <th>Price</th>\n    </tr>\n  </thead>\n  <tbody>\n    <tr>\n      <th>0</th>\n      <td>SACRAMENTO</td>\n      <td>Residential</td>\n      <td>2</td>\n      <td>1</td>\n      <td>836</td>\n      <td>138159.85</td>\n    </tr>\n    <tr>\n      <th>1</th>\n      <td>SACRAMENTO</td>\n      <td>Residential</td>\n      <td>3</td>\n      <td>1</td>\n      <td>1167</td>\n      <td>167541.46</td>\n    </tr>\n    <tr>\n      <th>2</th>\n      <td>SACRAMENTO</td>\n      <td>Residential</td>\n      <td>2</td>\n      <td>1</td>\n      <td>796</td>\n      <td>119095.12</td>\n    </tr>\n    <tr>\n      <th>3</th>\n      <td>SACRAMENTO</td>\n      <td>Residential</td>\n      <td>2</td>\n      <td>1</td>\n      <td>852</td>\n      <td>130904.95</td>\n    </tr>\n    <tr>\n      <th>4</th>\n      <td>SACRAMENTO</td>\n      <td>Residential</td>\n      <td>2</td>\n      <td>1</td>\n      <td>797</td>\n      <td>120266.19</td>\n    </tr>\n  </tbody>\n</table>\n</div>"
     },
     "metadata": {},
     "execution_count": 2
    }
   ],
   "source": [
    "df = pd.read_csv('../../datasets/house_pricing.csv')\n",
    "df.head()"
   ]
  },
  {
   "cell_type": "code",
   "execution_count": 3,
   "metadata": {},
   "outputs": [
    {
     "output_type": "stream",
     "name": "stdout",
     "text": [
      "<class 'pandas.core.frame.DataFrame'>\nRangeIndex: 814 entries, 0 to 813\nData columns (total 6 columns):\n #   Column      Non-Null Count  Dtype  \n---  ------      --------------  -----  \n 0   City        814 non-null    object \n 1   Type        814 non-null    object \n 2   Beds        814 non-null    int64  \n 3   Baths       814 non-null    int64  \n 4   SquareFeet  814 non-null    int64  \n 5   Price       814 non-null    float64\ndtypes: float64(1), int64(3), object(2)\nmemory usage: 38.3+ KB\n"
     ]
    }
   ],
   "source": [
    "df.info()"
   ]
  },
  {
   "cell_type": "code",
   "execution_count": 4,
   "metadata": {},
   "outputs": [
    {
     "output_type": "execute_result",
     "data": {
      "text/plain": [
       "              City         Type\n",
       "count          814          814\n",
       "unique          36            3\n",
       "top     SACRAMENTO  Residential\n",
       "freq           424          759"
      ],
      "text/html": "<div>\n<style scoped>\n    .dataframe tbody tr th:only-of-type {\n        vertical-align: middle;\n    }\n\n    .dataframe tbody tr th {\n        vertical-align: top;\n    }\n\n    .dataframe thead th {\n        text-align: right;\n    }\n</style>\n<table border=\"1\" class=\"dataframe\">\n  <thead>\n    <tr style=\"text-align: right;\">\n      <th></th>\n      <th>City</th>\n      <th>Type</th>\n    </tr>\n  </thead>\n  <tbody>\n    <tr>\n      <th>count</th>\n      <td>814</td>\n      <td>814</td>\n    </tr>\n    <tr>\n      <th>unique</th>\n      <td>36</td>\n      <td>3</td>\n    </tr>\n    <tr>\n      <th>top</th>\n      <td>SACRAMENTO</td>\n      <td>Residential</td>\n    </tr>\n    <tr>\n      <th>freq</th>\n      <td>424</td>\n      <td>759</td>\n    </tr>\n  </tbody>\n</table>\n</div>"
     },
     "metadata": {},
     "execution_count": 4
    }
   ],
   "source": [
    "df.describe(include='object')"
   ]
  },
  {
   "cell_type": "code",
   "execution_count": 5,
   "metadata": {},
   "outputs": [],
   "source": [
    "city_henc = OneHotEncoder(drop='first')\n",
    "city_dummies = city_henc.fit_transform(df[['City']]).toarray()"
   ]
  },
  {
   "cell_type": "code",
   "execution_count": 6,
   "metadata": {},
   "outputs": [
    {
     "output_type": "execute_result",
     "data": {
      "text/plain": [
       "(814, 35)"
      ]
     },
     "metadata": {},
     "execution_count": 6
    }
   ],
   "source": [
    "city_dummies.shape"
   ]
  },
  {
   "cell_type": "code",
   "execution_count": 7,
   "metadata": {},
   "outputs": [],
   "source": [
    "type_henc = OneHotEncoder(drop='first')\n",
    "type_dummies = type_henc.fit_transform(df[['Type']]).toarray()"
   ]
  },
  {
   "cell_type": "code",
   "execution_count": 8,
   "metadata": {},
   "outputs": [
    {
     "output_type": "execute_result",
     "data": {
      "text/plain": [
       "(814, 2)"
      ]
     },
     "metadata": {},
     "execution_count": 8
    }
   ],
   "source": [
    "type_dummies.shape"
   ]
  },
  {
   "cell_type": "code",
   "execution_count": 9,
   "metadata": {},
   "outputs": [],
   "source": [
    "df.drop(labels=['City','Type'],axis=1,inplace=True)"
   ]
  },
  {
   "cell_type": "code",
   "execution_count": 10,
   "metadata": {},
   "outputs": [
    {
     "output_type": "execute_result",
     "data": {
      "text/plain": [
       "array([[2.0000000e+00, 1.0000000e+00, 8.3600000e+02, 1.3815985e+05],\n",
       "       [3.0000000e+00, 1.0000000e+00, 1.1670000e+03, 1.6754146e+05],\n",
       "       [2.0000000e+00, 1.0000000e+00, 7.9600000e+02, 1.1909512e+05],\n",
       "       ...,\n",
       "       [3.0000000e+00, 2.0000000e+00, 1.2160000e+03, 1.8174698e+05],\n",
       "       [4.0000000e+00, 2.0000000e+00, 1.6850000e+03, 2.4538559e+05],\n",
       "       [3.0000000e+00, 2.0000000e+00, 1.3620000e+03, 2.6335513e+05]])"
      ]
     },
     "metadata": {},
     "execution_count": 10
    }
   ],
   "source": [
    "df.values"
   ]
  },
  {
   "cell_type": "code",
   "execution_count": 11,
   "metadata": {},
   "outputs": [],
   "source": [
    "y = df['Price']"
   ]
  },
  {
   "cell_type": "code",
   "execution_count": 12,
   "metadata": {},
   "outputs": [],
   "source": [
    "X = df.drop(labels=['Price'],axis=1).values"
   ]
  },
  {
   "cell_type": "code",
   "execution_count": 13,
   "metadata": {},
   "outputs": [
    {
     "output_type": "execute_result",
     "data": {
      "text/plain": [
       "(814, 3)"
      ]
     },
     "metadata": {},
     "execution_count": 13
    }
   ],
   "source": [
    "X.shape"
   ]
  },
  {
   "cell_type": "code",
   "execution_count": 14,
   "metadata": {},
   "outputs": [],
   "source": [
    "X = np.concatenate((X,city_dummies,type_dummies),axis=1)"
   ]
  },
  {
   "cell_type": "code",
   "execution_count": 15,
   "metadata": {},
   "outputs": [
    {
     "output_type": "execute_result",
     "data": {
      "text/plain": [
       "(814, 40)"
      ]
     },
     "metadata": {},
     "execution_count": 15
    }
   ],
   "source": [
    "X.shape"
   ]
  },
  {
   "cell_type": "code",
   "execution_count": 16,
   "metadata": {},
   "outputs": [],
   "source": [
    "X = np.append(np.ones((814,1)),values=X,axis=1)"
   ]
  },
  {
   "cell_type": "code",
   "execution_count": 83,
   "metadata": {},
   "outputs": [
    {
     "output_type": "execute_result",
     "data": {
      "text/plain": [
       "<class 'statsmodels.iolib.summary.Summary'>\n",
       "\"\"\"\n",
       "                            OLS Regression Results                            \n",
       "==============================================================================\n",
       "Dep. Variable:                  Price   R-squared:                       0.881\n",
       "Model:                            OLS   Adj. R-squared:                  0.878\n",
       "Method:                 Least Squares   F-statistic:                     367.6\n",
       "Date:                Wed, 04 Nov 2020   Prob (F-statistic):               0.00\n",
       "Time:                        11:40:24   Log-Likelihood:                -9640.7\n",
       "No. Observations:                 814   AIC:                         1.932e+04\n",
       "Df Residuals:                     797   BIC:                         1.940e+04\n",
       "Df Model:                          16                                         \n",
       "Covariance Type:            nonrobust                                         \n",
       "==============================================================================\n",
       "                 coef    std err          t      P>|t|      [0.025      0.975]\n",
       "------------------------------------------------------------------------------\n",
       "const       2.968e+04   3269.304      9.079      0.000    2.33e+04    3.61e+04\n",
       "x1           127.9755      1.928     66.384      0.000     124.191     131.760\n",
       "x2          1.143e+05   1.97e+04      5.805      0.000    7.57e+04    1.53e+05\n",
       "x3          1.224e+05   3.41e+04      3.591      0.000    5.55e+04    1.89e+05\n",
       "x4          7.689e+04   7716.227      9.964      0.000    6.17e+04     9.2e+04\n",
       "x5          6.985e+04   1.14e+04      6.118      0.000    4.74e+04    9.23e+04\n",
       "x6          1.098e+05   8966.462     12.242      0.000    9.22e+04    1.27e+05\n",
       "x7           902.2751   7717.606      0.117      0.907   -1.42e+04    1.61e+04\n",
       "x8          8.274e+04   1.97e+04      4.194      0.000     4.4e+04    1.21e+05\n",
       "x9          3.255e+05   3.41e+04      9.556      0.000    2.59e+05    3.92e+05\n",
       "x10         5.064e+04   1.97e+04      2.571      0.010     1.2e+04    8.93e+04\n",
       "x11        -7612.0503   2.43e+04     -0.314      0.754   -5.52e+04       4e+04\n",
       "x12         1.114e+04   9930.133      1.122      0.262   -8351.439    3.06e+04\n",
       "x13        -7.628e+05    3.5e+04    -21.771      0.000   -8.32e+05   -6.94e+05\n",
       "x14         1.306e+05   3.41e+04      3.833      0.000    6.37e+04    1.97e+05\n",
       "x15         6822.1176   3.41e+04      0.200      0.841   -6.01e+04    7.37e+04\n",
       "x16         1.614e+05   1.75e+04      9.237      0.000    1.27e+05    1.96e+05\n",
       "==============================================================================\n",
       "Omnibus:                      988.310   Durbin-Watson:                   1.860\n",
       "Prob(Omnibus):                  0.000   Jarque-Bera (JB):            96003.681\n",
       "Skew:                           6.147   Prob(JB):                         0.00\n",
       "Kurtosis:                      54.763   Cond. No.                     5.07e+04\n",
       "==============================================================================\n",
       "\n",
       "Notes:\n",
       "[1] Standard Errors assume that the covariance matrix of the errors is correctly specified.\n",
       "[2] The condition number is large, 5.07e+04. This might indicate that there are\n",
       "strong multicollinearity or other numerical problems.\n",
       "\"\"\""
      ],
      "text/html": "<table class=\"simpletable\">\n<caption>OLS Regression Results</caption>\n<tr>\n  <th>Dep. Variable:</th>          <td>Price</td>      <th>  R-squared:         </th> <td>   0.881</td> \n</tr>\n<tr>\n  <th>Model:</th>                   <td>OLS</td>       <th>  Adj. R-squared:    </th> <td>   0.878</td> \n</tr>\n<tr>\n  <th>Method:</th>             <td>Least Squares</td>  <th>  F-statistic:       </th> <td>   367.6</td> \n</tr>\n<tr>\n  <th>Date:</th>             <td>Wed, 04 Nov 2020</td> <th>  Prob (F-statistic):</th>  <td>  0.00</td>  \n</tr>\n<tr>\n  <th>Time:</th>                 <td>11:40:24</td>     <th>  Log-Likelihood:    </th> <td> -9640.7</td> \n</tr>\n<tr>\n  <th>No. Observations:</th>      <td>   814</td>      <th>  AIC:               </th> <td>1.932e+04</td>\n</tr>\n<tr>\n  <th>Df Residuals:</th>          <td>   797</td>      <th>  BIC:               </th> <td>1.940e+04</td>\n</tr>\n<tr>\n  <th>Df Model:</th>              <td>    16</td>      <th>                     </th>     <td> </td>    \n</tr>\n<tr>\n  <th>Covariance Type:</th>      <td>nonrobust</td>    <th>                     </th>     <td> </td>    \n</tr>\n</table>\n<table class=\"simpletable\">\n<tr>\n    <td></td>       <th>coef</th>     <th>std err</th>      <th>t</th>      <th>P>|t|</th>  <th>[0.025</th>    <th>0.975]</th>  \n</tr>\n<tr>\n  <th>const</th> <td> 2.968e+04</td> <td> 3269.304</td> <td>    9.079</td> <td> 0.000</td> <td> 2.33e+04</td> <td> 3.61e+04</td>\n</tr>\n<tr>\n  <th>x1</th>    <td>  127.9755</td> <td>    1.928</td> <td>   66.384</td> <td> 0.000</td> <td>  124.191</td> <td>  131.760</td>\n</tr>\n<tr>\n  <th>x2</th>    <td> 1.143e+05</td> <td> 1.97e+04</td> <td>    5.805</td> <td> 0.000</td> <td> 7.57e+04</td> <td> 1.53e+05</td>\n</tr>\n<tr>\n  <th>x3</th>    <td> 1.224e+05</td> <td> 3.41e+04</td> <td>    3.591</td> <td> 0.000</td> <td> 5.55e+04</td> <td> 1.89e+05</td>\n</tr>\n<tr>\n  <th>x4</th>    <td> 7.689e+04</td> <td> 7716.227</td> <td>    9.964</td> <td> 0.000</td> <td> 6.17e+04</td> <td>  9.2e+04</td>\n</tr>\n<tr>\n  <th>x5</th>    <td> 6.985e+04</td> <td> 1.14e+04</td> <td>    6.118</td> <td> 0.000</td> <td> 4.74e+04</td> <td> 9.23e+04</td>\n</tr>\n<tr>\n  <th>x6</th>    <td> 1.098e+05</td> <td> 8966.462</td> <td>   12.242</td> <td> 0.000</td> <td> 9.22e+04</td> <td> 1.27e+05</td>\n</tr>\n<tr>\n  <th>x7</th>    <td>  902.2751</td> <td> 7717.606</td> <td>    0.117</td> <td> 0.907</td> <td>-1.42e+04</td> <td> 1.61e+04</td>\n</tr>\n<tr>\n  <th>x8</th>    <td> 8.274e+04</td> <td> 1.97e+04</td> <td>    4.194</td> <td> 0.000</td> <td>  4.4e+04</td> <td> 1.21e+05</td>\n</tr>\n<tr>\n  <th>x9</th>    <td> 3.255e+05</td> <td> 3.41e+04</td> <td>    9.556</td> <td> 0.000</td> <td> 2.59e+05</td> <td> 3.92e+05</td>\n</tr>\n<tr>\n  <th>x10</th>   <td> 5.064e+04</td> <td> 1.97e+04</td> <td>    2.571</td> <td> 0.010</td> <td>  1.2e+04</td> <td> 8.93e+04</td>\n</tr>\n<tr>\n  <th>x11</th>   <td>-7612.0503</td> <td> 2.43e+04</td> <td>   -0.314</td> <td> 0.754</td> <td>-5.52e+04</td> <td>    4e+04</td>\n</tr>\n<tr>\n  <th>x12</th>   <td> 1.114e+04</td> <td> 9930.133</td> <td>    1.122</td> <td> 0.262</td> <td>-8351.439</td> <td> 3.06e+04</td>\n</tr>\n<tr>\n  <th>x13</th>   <td>-7.628e+05</td> <td>  3.5e+04</td> <td>  -21.771</td> <td> 0.000</td> <td>-8.32e+05</td> <td>-6.94e+05</td>\n</tr>\n<tr>\n  <th>x14</th>   <td> 1.306e+05</td> <td> 3.41e+04</td> <td>    3.833</td> <td> 0.000</td> <td> 6.37e+04</td> <td> 1.97e+05</td>\n</tr>\n<tr>\n  <th>x15</th>   <td> 6822.1176</td> <td> 3.41e+04</td> <td>    0.200</td> <td> 0.841</td> <td>-6.01e+04</td> <td> 7.37e+04</td>\n</tr>\n<tr>\n  <th>x16</th>   <td> 1.614e+05</td> <td> 1.75e+04</td> <td>    9.237</td> <td> 0.000</td> <td> 1.27e+05</td> <td> 1.96e+05</td>\n</tr>\n</table>\n<table class=\"simpletable\">\n<tr>\n  <th>Omnibus:</th>       <td>988.310</td> <th>  Durbin-Watson:     </th> <td>   1.860</td> \n</tr>\n<tr>\n  <th>Prob(Omnibus):</th> <td> 0.000</td>  <th>  Jarque-Bera (JB):  </th> <td>96003.681</td>\n</tr>\n<tr>\n  <th>Skew:</th>          <td> 6.147</td>  <th>  Prob(JB):          </th> <td>    0.00</td> \n</tr>\n<tr>\n  <th>Kurtosis:</th>      <td>54.763</td>  <th>  Cond. No.          </th> <td>5.07e+04</td> \n</tr>\n</table><br/><br/>Notes:<br/>[1] Standard Errors assume that the covariance matrix of the errors is correctly specified.<br/>[2] The condition number is large, 5.07e+04. This might indicate that there are<br/>strong multicollinearity or other numerical problems."
     },
     "metadata": {},
     "execution_count": 83
    }
   ],
   "source": [
    "z = [0,3,4,5,6,14,15,16,17,26,28,30,31,35,36,37,38]\n",
    "X_opt = X[:,z]\n",
    "regressor = sm.OLS(endog=y,exog=X_opt).fit()\n",
    "regressor.summary()"
   ]
  },
  {
   "cell_type": "code",
   "execution_count": 84,
   "metadata": {},
   "outputs": [
    {
     "output_type": "execute_result",
     "data": {
      "text/plain": [
       "x7       9.069598e-01\n",
       "x15      8.414185e-01\n",
       "x11      7.537006e-01\n",
       "x12      2.622322e-01\n",
       "x10      1.033002e-02\n",
       "x3       3.494249e-04\n",
       "x14      1.365296e-04\n",
       "x8       3.051416e-05\n",
       "x2       9.306833e-09\n",
       "x5       1.488749e-09\n",
       "const    8.448303e-19\n",
       "x16      2.248079e-19\n",
       "x9       1.473126e-20\n",
       "x4       4.030878e-22\n",
       "x6       1.068613e-31\n",
       "x13      7.916157e-83\n",
       "x1       0.000000e+00\n",
       "dtype: float64"
      ]
     },
     "metadata": {},
     "execution_count": 84
    }
   ],
   "source": [
    "regressor.pvalues.sort_values(ascending=False)"
   ]
  },
  {
   "cell_type": "code",
   "execution_count": null,
   "metadata": {},
   "outputs": [],
   "source": []
  }
 ]
}