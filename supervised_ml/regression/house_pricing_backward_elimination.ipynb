{
 "metadata": {
  "language_info": {
   "codemirror_mode": {
    "name": "ipython",
    "version": 3
   },
   "file_extension": ".py",
   "mimetype": "text/x-python",
   "name": "python",
   "nbconvert_exporter": "python",
   "pygments_lexer": "ipython3",
   "version": "3.8.0-final"
  },
  "orig_nbformat": 2,
  "kernelspec": {
   "name": "Python 3.8.0 64-bit",
   "display_name": "Python 3.8.0 64-bit",
   "metadata": {
    "interpreter": {
     "hash": "4d21c5017a3395ea95cb512be2638581094a384049928509a361c83b57b948d5"
    }
   }
  }
 },
 "nbformat": 4,
 "nbformat_minor": 2,
 "cells": [
  {
   "cell_type": "code",
<<<<<<< HEAD
   "execution_count": 19,
=======
   "execution_count": 1,
>>>>>>> b76659e7f17657d41387540279ef7eff4469e0cd
   "metadata": {},
   "outputs": [],
   "source": [
    "import pandas as pd\n",
    "import numpy as np\n",
    "import matplotlib.pyplot as plt\n",
    "import statsmodels.regression.linear_model as sm\n",
<<<<<<< HEAD
    "import seaborn as sns\n",
=======
>>>>>>> b76659e7f17657d41387540279ef7eff4469e0cd
    "\n",
    "# algo and estimators\n",
    "from sklearn.model_selection import train_test_split\n",
    "from sklearn.linear_model import LinearRegression\n",
    "from sklearn.preprocessing import OneHotEncoder"
   ]
  },
  {
   "cell_type": "code",
<<<<<<< HEAD
   "execution_count": 20,
=======
   "execution_count": 2,
>>>>>>> b76659e7f17657d41387540279ef7eff4469e0cd
   "metadata": {},
   "outputs": [
    {
     "output_type": "execute_result",
     "data": {
      "text/plain": [
       "         City         Type  Beds  Baths  SquareFeet      Price\n",
       "0  SACRAMENTO  Residential     2      1         836  138159.85\n",
       "1  SACRAMENTO  Residential     3      1        1167  167541.46\n",
       "2  SACRAMENTO  Residential     2      1         796  119095.12\n",
       "3  SACRAMENTO  Residential     2      1         852  130904.95\n",
       "4  SACRAMENTO  Residential     2      1         797  120266.19"
      ],
      "text/html": "<div>\n<style scoped>\n    .dataframe tbody tr th:only-of-type {\n        vertical-align: middle;\n    }\n\n    .dataframe tbody tr th {\n        vertical-align: top;\n    }\n\n    .dataframe thead th {\n        text-align: right;\n    }\n</style>\n<table border=\"1\" class=\"dataframe\">\n  <thead>\n    <tr style=\"text-align: right;\">\n      <th></th>\n      <th>City</th>\n      <th>Type</th>\n      <th>Beds</th>\n      <th>Baths</th>\n      <th>SquareFeet</th>\n      <th>Price</th>\n    </tr>\n  </thead>\n  <tbody>\n    <tr>\n      <th>0</th>\n      <td>SACRAMENTO</td>\n      <td>Residential</td>\n      <td>2</td>\n      <td>1</td>\n      <td>836</td>\n      <td>138159.85</td>\n    </tr>\n    <tr>\n      <th>1</th>\n      <td>SACRAMENTO</td>\n      <td>Residential</td>\n      <td>3</td>\n      <td>1</td>\n      <td>1167</td>\n      <td>167541.46</td>\n    </tr>\n    <tr>\n      <th>2</th>\n      <td>SACRAMENTO</td>\n      <td>Residential</td>\n      <td>2</td>\n      <td>1</td>\n      <td>796</td>\n      <td>119095.12</td>\n    </tr>\n    <tr>\n      <th>3</th>\n      <td>SACRAMENTO</td>\n      <td>Residential</td>\n      <td>2</td>\n      <td>1</td>\n      <td>852</td>\n      <td>130904.95</td>\n    </tr>\n    <tr>\n      <th>4</th>\n      <td>SACRAMENTO</td>\n      <td>Residential</td>\n      <td>2</td>\n      <td>1</td>\n      <td>797</td>\n      <td>120266.19</td>\n    </tr>\n  </tbody>\n</table>\n</div>"
     },
     "metadata": {},
<<<<<<< HEAD
     "execution_count": 20
=======
     "execution_count": 2
>>>>>>> b76659e7f17657d41387540279ef7eff4469e0cd
    }
   ],
   "source": [
    "df = pd.read_csv('../../datasets/house_pricing.csv')\n",
    "df.head()"
   ]
  },
  {
   "cell_type": "code",
<<<<<<< HEAD
   "execution_count": 21,
=======
   "execution_count": 3,
>>>>>>> b76659e7f17657d41387540279ef7eff4469e0cd
   "metadata": {},
   "outputs": [
    {
     "output_type": "stream",
     "name": "stdout",
     "text": [
      "<class 'pandas.core.frame.DataFrame'>\nRangeIndex: 814 entries, 0 to 813\nData columns (total 6 columns):\n #   Column      Non-Null Count  Dtype  \n---  ------      --------------  -----  \n 0   City        814 non-null    object \n 1   Type        814 non-null    object \n 2   Beds        814 non-null    int64  \n 3   Baths       814 non-null    int64  \n 4   SquareFeet  814 non-null    int64  \n 5   Price       814 non-null    float64\ndtypes: float64(1), int64(3), object(2)\nmemory usage: 38.3+ KB\n"
     ]
    }
   ],
   "source": [
    "df.info()"
   ]
  },
  {
   "cell_type": "code",
<<<<<<< HEAD
   "execution_count": 22,
=======
   "execution_count": 4,
>>>>>>> b76659e7f17657d41387540279ef7eff4469e0cd
   "metadata": {},
   "outputs": [
    {
     "output_type": "execute_result",
     "data": {
      "text/plain": [
       "              City         Type\n",
       "count          814          814\n",
       "unique          36            3\n",
       "top     SACRAMENTO  Residential\n",
       "freq           424          759"
      ],
      "text/html": "<div>\n<style scoped>\n    .dataframe tbody tr th:only-of-type {\n        vertical-align: middle;\n    }\n\n    .dataframe tbody tr th {\n        vertical-align: top;\n    }\n\n    .dataframe thead th {\n        text-align: right;\n    }\n</style>\n<table border=\"1\" class=\"dataframe\">\n  <thead>\n    <tr style=\"text-align: right;\">\n      <th></th>\n      <th>City</th>\n      <th>Type</th>\n    </tr>\n  </thead>\n  <tbody>\n    <tr>\n      <th>count</th>\n      <td>814</td>\n      <td>814</td>\n    </tr>\n    <tr>\n      <th>unique</th>\n      <td>36</td>\n      <td>3</td>\n    </tr>\n    <tr>\n      <th>top</th>\n      <td>SACRAMENTO</td>\n      <td>Residential</td>\n    </tr>\n    <tr>\n      <th>freq</th>\n      <td>424</td>\n      <td>759</td>\n    </tr>\n  </tbody>\n</table>\n</div>"
     },
     "metadata": {},
<<<<<<< HEAD
     "execution_count": 22
=======
     "execution_count": 4
>>>>>>> b76659e7f17657d41387540279ef7eff4469e0cd
    }
   ],
   "source": [
    "df.describe(include='object')"
   ]
  },
  {
   "cell_type": "code",
<<<<<<< HEAD
   "execution_count": 23,
=======
   "execution_count": 5,
>>>>>>> b76659e7f17657d41387540279ef7eff4469e0cd
   "metadata": {},
   "outputs": [],
   "source": [
    "city_henc = OneHotEncoder(drop='first')\n",
    "city_dummies = city_henc.fit_transform(df[['City']]).toarray()"
   ]
  },
  {
   "cell_type": "code",
<<<<<<< HEAD
   "execution_count": 24,
   "metadata": {},
   "outputs": [],
   "source": [
    "type_henc = OneHotEncoder(drop='first')\n",
    "type_dummies = type_henc.fit_transform(df[['Type']]).toarray()"
=======
   "execution_count": 6,
   "metadata": {},
   "outputs": [
    {
     "output_type": "execute_result",
     "data": {
      "text/plain": [
       "(814, 35)"
      ]
     },
     "metadata": {},
     "execution_count": 6
    }
   ],
   "source": [
    "city_dummies.shape"
>>>>>>> b76659e7f17657d41387540279ef7eff4469e0cd
   ]
  },
  {
   "cell_type": "code",
<<<<<<< HEAD
   "execution_count": 25,
   "metadata": {},
   "outputs": [],
   "source": [
    "y = df['Price']"
=======
   "execution_count": 7,
   "metadata": {},
   "outputs": [],
   "source": [
    "type_henc = OneHotEncoder(drop='first')\n",
    "type_dummies = type_henc.fit_transform(df[['Type']]).toarray()"
>>>>>>> b76659e7f17657d41387540279ef7eff4469e0cd
   ]
  },
  {
   "cell_type": "code",
<<<<<<< HEAD
   "execution_count": 26,
   "metadata": {},
   "outputs": [],
   "source": [
    "df.drop(labels=['City','Type','Price'],axis=1,inplace=True)"
=======
   "execution_count": 8,
   "metadata": {},
   "outputs": [
    {
     "output_type": "execute_result",
     "data": {
      "text/plain": [
       "(814, 2)"
      ]
     },
     "metadata": {},
     "execution_count": 8
    }
   ],
   "source": [
    "type_dummies.shape"
>>>>>>> b76659e7f17657d41387540279ef7eff4469e0cd
   ]
  },
  {
   "cell_type": "code",
<<<<<<< HEAD
   "execution_count": 27,
   "metadata": {},
   "outputs": [],
   "source": [
    "b0 =np.ones((df.shape[0],1))"
=======
   "execution_count": 9,
   "metadata": {},
   "outputs": [],
   "source": [
    "df.drop(labels=['City','Type'],axis=1,inplace=True)"
>>>>>>> b76659e7f17657d41387540279ef7eff4469e0cd
   ]
  },
  {
   "cell_type": "code",
<<<<<<< HEAD
   "execution_count": 28,
=======
   "execution_count": 10,
>>>>>>> b76659e7f17657d41387540279ef7eff4469e0cd
   "metadata": {},
   "outputs": [
    {
     "output_type": "execute_result",
     "data": {
      "text/plain": [
<<<<<<< HEAD
       "(814, 41)"
      ]
     },
     "metadata": {},
     "execution_count": 28
    }
   ],
   "source": [
    "X = np.concatenate((b0,type_dummies,city_dummies,df),axis=1)\n",
    "X.shape"
=======
       "array([[2.0000000e+00, 1.0000000e+00, 8.3600000e+02, 1.3815985e+05],\n",
       "       [3.0000000e+00, 1.0000000e+00, 1.1670000e+03, 1.6754146e+05],\n",
       "       [2.0000000e+00, 1.0000000e+00, 7.9600000e+02, 1.1909512e+05],\n",
       "       ...,\n",
       "       [3.0000000e+00, 2.0000000e+00, 1.2160000e+03, 1.8174698e+05],\n",
       "       [4.0000000e+00, 2.0000000e+00, 1.6850000e+03, 2.4538559e+05],\n",
       "       [3.0000000e+00, 2.0000000e+00, 1.3620000e+03, 2.6335513e+05]])"
      ]
     },
     "metadata": {},
     "execution_count": 10
    }
   ],
   "source": [
    "df.values"
>>>>>>> b76659e7f17657d41387540279ef7eff4469e0cd
   ]
  },
  {
   "cell_type": "code",
<<<<<<< HEAD
   "execution_count": 29,
   "metadata": {},
   "outputs": [
    {
     "output_type": "execute_result",
     "data": {
      "text/plain": [
       "(814, 41)"
      ]
     },
     "metadata": {},
     "execution_count": 29
    }
   ],
   "source": [
    "X.shape"
=======
   "execution_count": 11,
   "metadata": {},
   "outputs": [],
   "source": [
    "y = df['Price']"
>>>>>>> b76659e7f17657d41387540279ef7eff4469e0cd
   ]
  },
  {
   "cell_type": "code",
<<<<<<< HEAD
   "execution_count": 121,
   "metadata": {},
   "outputs": [
    {
     "output_type": "execute_result",
     "data": {
      "text/plain": [
       "<class 'statsmodels.iolib.summary.Summary'>\n",
       "\"\"\"\n",
       "                            OLS Regression Results                            \n",
       "==============================================================================\n",
       "Dep. Variable:                  Price   R-squared:                       0.997\n",
       "Model:                            OLS   Adj. R-squared:                  0.997\n",
       "Method:                 Least Squares   F-statistic:                     7111.\n",
       "Date:                Thu, 05 Nov 2020   Prob (F-statistic):               0.00\n",
       "Time:                        15:58:50   Log-Likelihood:                -8181.9\n",
       "No. Observations:                 814   AIC:                         1.643e+04\n",
       "Df Residuals:                     780   BIC:                         1.659e+04\n",
       "Df Model:                          33                                         \n",
       "Covariance Type:            nonrobust                                         \n",
       "==============================================================================\n",
       "                 coef    std err          t      P>|t|      [0.025      0.975]\n",
       "------------------------------------------------------------------------------\n",
       "const       3.871e+04    862.690     44.870      0.000     3.7e+04    4.04e+04\n",
       "x1          1.181e+05   3378.878     34.938      0.000    1.11e+05    1.25e+05\n",
       "x2          1.305e+05   5775.051     22.600      0.000    1.19e+05    1.42e+05\n",
       "x3           8.11e+04   1451.181     55.886      0.000    7.83e+04    8.39e+04\n",
       "x4          9.625e+04   5772.778     16.673      0.000    8.49e+04    1.08e+05\n",
       "x5          3.848e+04   5773.297      6.666      0.000    2.72e+04    4.98e+04\n",
       "x6          6.281e+04   4110.790     15.280      0.000    5.47e+04    7.09e+04\n",
       "x7          5.416e+04   3379.953     16.024      0.000    4.75e+04    6.08e+04\n",
       "x8          6202.9050    889.943      6.970      0.000    4455.938    7949.872\n",
       "x9         -4.193e+04   2947.657    -14.225      0.000   -4.77e+04   -3.61e+04\n",
       "x10         7.497e+04   2028.751     36.956      0.000     7.1e+04     7.9e+04\n",
       "x11         1.196e+05   1645.241     72.674      0.000    1.16e+05    1.23e+05\n",
       "x12         5848.0122   1451.582      4.029      0.000    2998.542    8697.482\n",
       "x13         9.229e+04   3386.052     27.256      0.000    8.56e+04    9.89e+04\n",
       "x14         2.936e+05   3414.868     85.973      0.000    2.87e+05       3e+05\n",
       "x15         2.635e+04   5790.265      4.551      0.000     1.5e+04    3.77e+04\n",
       "x16         4.386e+04   2437.266     17.996      0.000    3.91e+04    4.86e+04\n",
       "x17         3.676e+05   4110.228     89.443      0.000     3.6e+05    3.76e+05\n",
       "x18        -3.861e+04   5775.868     -6.684      0.000   -4.99e+04   -2.73e+04\n",
       "x19         4.702e+04   5773.782      8.144      0.000    3.57e+04    5.84e+04\n",
       "x20        -2.928e+04   1430.246    -20.469      0.000   -3.21e+04   -2.65e+04\n",
       "x21         5.471e+04   1857.856     29.446      0.000    5.11e+04    5.84e+04\n",
       "x22         3.277e+05   5773.202     56.768      0.000    3.16e+05    3.39e+05\n",
       "x23         1.707e+05   2652.996     64.348      0.000    1.66e+05    1.76e+05\n",
       "x24         5.293e+04   3379.630     15.662      0.000    4.63e+04    5.96e+04\n",
       "x25        -1.019e+04   1427.162     -7.140      0.000    -1.3e+04   -7387.695\n",
       "x26         1.247e+04   1792.702      6.956      0.000    8950.064     1.6e+04\n",
       "x27         8.179e+04   2140.865     38.205      0.000    7.76e+04     8.6e+04\n",
       "x28         5.443e+04   1281.580     42.468      0.000    5.19e+04    5.69e+04\n",
       "x29        -5969.0498    735.812     -8.112      0.000   -7413.455   -4524.644\n",
       "x30        -7.222e+05   5958.517   -121.198      0.000   -7.34e+05    -7.1e+05\n",
       "x31         1.363e+05   5773.073     23.603      0.000    1.25e+05    1.48e+05\n",
       "x32         1.823e+05   3023.192     60.301      0.000    1.76e+05    1.88e+05\n",
       "x33          119.4502      0.345    346.530      0.000     118.774     120.127\n",
       "==============================================================================\n",
       "Omnibus:                      417.171   Durbin-Watson:                   2.060\n",
       "Prob(Omnibus):                  0.000   Jarque-Bera (JB):               45.266\n",
       "Skew:                          -0.012   Prob(JB):                     1.48e-10\n",
       "Kurtosis:                       1.845   Cond. No.                     5.43e+04\n",
       "==============================================================================\n",
       "\n",
       "Notes:\n",
       "[1] Standard Errors assume that the covariance matrix of the errors is correctly specified.\n",
       "[2] The condition number is large, 5.43e+04. This might indicate that there are\n",
       "strong multicollinearity or other numerical problems.\n",
       "\"\"\""
      ],
      "text/html": "<table class=\"simpletable\">\n<caption>OLS Regression Results</caption>\n<tr>\n  <th>Dep. Variable:</th>          <td>Price</td>      <th>  R-squared:         </th> <td>   0.997</td> \n</tr>\n<tr>\n  <th>Model:</th>                   <td>OLS</td>       <th>  Adj. R-squared:    </th> <td>   0.997</td> \n</tr>\n<tr>\n  <th>Method:</th>             <td>Least Squares</td>  <th>  F-statistic:       </th> <td>   7111.</td> \n</tr>\n<tr>\n  <th>Date:</th>             <td>Thu, 05 Nov 2020</td> <th>  Prob (F-statistic):</th>  <td>  0.00</td>  \n</tr>\n<tr>\n  <th>Time:</th>                 <td>15:58:50</td>     <th>  Log-Likelihood:    </th> <td> -8181.9</td> \n</tr>\n<tr>\n  <th>No. Observations:</th>      <td>   814</td>      <th>  AIC:               </th> <td>1.643e+04</td>\n</tr>\n<tr>\n  <th>Df Residuals:</th>          <td>   780</td>      <th>  BIC:               </th> <td>1.659e+04</td>\n</tr>\n<tr>\n  <th>Df Model:</th>              <td>    33</td>      <th>                     </th>     <td> </td>    \n</tr>\n<tr>\n  <th>Covariance Type:</th>      <td>nonrobust</td>    <th>                     </th>     <td> </td>    \n</tr>\n</table>\n<table class=\"simpletable\">\n<tr>\n    <td></td>       <th>coef</th>     <th>std err</th>      <th>t</th>      <th>P>|t|</th>  <th>[0.025</th>    <th>0.975]</th>  \n</tr>\n<tr>\n  <th>const</th> <td> 3.871e+04</td> <td>  862.690</td> <td>   44.870</td> <td> 0.000</td> <td>  3.7e+04</td> <td> 4.04e+04</td>\n</tr>\n<tr>\n  <th>x1</th>    <td> 1.181e+05</td> <td> 3378.878</td> <td>   34.938</td> <td> 0.000</td> <td> 1.11e+05</td> <td> 1.25e+05</td>\n</tr>\n<tr>\n  <th>x2</th>    <td> 1.305e+05</td> <td> 5775.051</td> <td>   22.600</td> <td> 0.000</td> <td> 1.19e+05</td> <td> 1.42e+05</td>\n</tr>\n<tr>\n  <th>x3</th>    <td>  8.11e+04</td> <td> 1451.181</td> <td>   55.886</td> <td> 0.000</td> <td> 7.83e+04</td> <td> 8.39e+04</td>\n</tr>\n<tr>\n  <th>x4</th>    <td> 9.625e+04</td> <td> 5772.778</td> <td>   16.673</td> <td> 0.000</td> <td> 8.49e+04</td> <td> 1.08e+05</td>\n</tr>\n<tr>\n  <th>x5</th>    <td> 3.848e+04</td> <td> 5773.297</td> <td>    6.666</td> <td> 0.000</td> <td> 2.72e+04</td> <td> 4.98e+04</td>\n</tr>\n<tr>\n  <th>x6</th>    <td> 6.281e+04</td> <td> 4110.790</td> <td>   15.280</td> <td> 0.000</td> <td> 5.47e+04</td> <td> 7.09e+04</td>\n</tr>\n<tr>\n  <th>x7</th>    <td> 5.416e+04</td> <td> 3379.953</td> <td>   16.024</td> <td> 0.000</td> <td> 4.75e+04</td> <td> 6.08e+04</td>\n</tr>\n<tr>\n  <th>x8</th>    <td> 6202.9050</td> <td>  889.943</td> <td>    6.970</td> <td> 0.000</td> <td> 4455.938</td> <td> 7949.872</td>\n</tr>\n<tr>\n  <th>x9</th>    <td>-4.193e+04</td> <td> 2947.657</td> <td>  -14.225</td> <td> 0.000</td> <td>-4.77e+04</td> <td>-3.61e+04</td>\n</tr>\n<tr>\n  <th>x10</th>   <td> 7.497e+04</td> <td> 2028.751</td> <td>   36.956</td> <td> 0.000</td> <td>  7.1e+04</td> <td>  7.9e+04</td>\n</tr>\n<tr>\n  <th>x11</th>   <td> 1.196e+05</td> <td> 1645.241</td> <td>   72.674</td> <td> 0.000</td> <td> 1.16e+05</td> <td> 1.23e+05</td>\n</tr>\n<tr>\n  <th>x12</th>   <td> 5848.0122</td> <td> 1451.582</td> <td>    4.029</td> <td> 0.000</td> <td> 2998.542</td> <td> 8697.482</td>\n</tr>\n<tr>\n  <th>x13</th>   <td> 9.229e+04</td> <td> 3386.052</td> <td>   27.256</td> <td> 0.000</td> <td> 8.56e+04</td> <td> 9.89e+04</td>\n</tr>\n<tr>\n  <th>x14</th>   <td> 2.936e+05</td> <td> 3414.868</td> <td>   85.973</td> <td> 0.000</td> <td> 2.87e+05</td> <td>    3e+05</td>\n</tr>\n<tr>\n  <th>x15</th>   <td> 2.635e+04</td> <td> 5790.265</td> <td>    4.551</td> <td> 0.000</td> <td>  1.5e+04</td> <td> 3.77e+04</td>\n</tr>\n<tr>\n  <th>x16</th>   <td> 4.386e+04</td> <td> 2437.266</td> <td>   17.996</td> <td> 0.000</td> <td> 3.91e+04</td> <td> 4.86e+04</td>\n</tr>\n<tr>\n  <th>x17</th>   <td> 3.676e+05</td> <td> 4110.228</td> <td>   89.443</td> <td> 0.000</td> <td>  3.6e+05</td> <td> 3.76e+05</td>\n</tr>\n<tr>\n  <th>x18</th>   <td>-3.861e+04</td> <td> 5775.868</td> <td>   -6.684</td> <td> 0.000</td> <td>-4.99e+04</td> <td>-2.73e+04</td>\n</tr>\n<tr>\n  <th>x19</th>   <td> 4.702e+04</td> <td> 5773.782</td> <td>    8.144</td> <td> 0.000</td> <td> 3.57e+04</td> <td> 5.84e+04</td>\n</tr>\n<tr>\n  <th>x20</th>   <td>-2.928e+04</td> <td> 1430.246</td> <td>  -20.469</td> <td> 0.000</td> <td>-3.21e+04</td> <td>-2.65e+04</td>\n</tr>\n<tr>\n  <th>x21</th>   <td> 5.471e+04</td> <td> 1857.856</td> <td>   29.446</td> <td> 0.000</td> <td> 5.11e+04</td> <td> 5.84e+04</td>\n</tr>\n<tr>\n  <th>x22</th>   <td> 3.277e+05</td> <td> 5773.202</td> <td>   56.768</td> <td> 0.000</td> <td> 3.16e+05</td> <td> 3.39e+05</td>\n</tr>\n<tr>\n  <th>x23</th>   <td> 1.707e+05</td> <td> 2652.996</td> <td>   64.348</td> <td> 0.000</td> <td> 1.66e+05</td> <td> 1.76e+05</td>\n</tr>\n<tr>\n  <th>x24</th>   <td> 5.293e+04</td> <td> 3379.630</td> <td>   15.662</td> <td> 0.000</td> <td> 4.63e+04</td> <td> 5.96e+04</td>\n</tr>\n<tr>\n  <th>x25</th>   <td>-1.019e+04</td> <td> 1427.162</td> <td>   -7.140</td> <td> 0.000</td> <td> -1.3e+04</td> <td>-7387.695</td>\n</tr>\n<tr>\n  <th>x26</th>   <td> 1.247e+04</td> <td> 1792.702</td> <td>    6.956</td> <td> 0.000</td> <td> 8950.064</td> <td>  1.6e+04</td>\n</tr>\n<tr>\n  <th>x27</th>   <td> 8.179e+04</td> <td> 2140.865</td> <td>   38.205</td> <td> 0.000</td> <td> 7.76e+04</td> <td>  8.6e+04</td>\n</tr>\n<tr>\n  <th>x28</th>   <td> 5.443e+04</td> <td> 1281.580</td> <td>   42.468</td> <td> 0.000</td> <td> 5.19e+04</td> <td> 5.69e+04</td>\n</tr>\n<tr>\n  <th>x29</th>   <td>-5969.0498</td> <td>  735.812</td> <td>   -8.112</td> <td> 0.000</td> <td>-7413.455</td> <td>-4524.644</td>\n</tr>\n<tr>\n  <th>x30</th>   <td>-7.222e+05</td> <td> 5958.517</td> <td> -121.198</td> <td> 0.000</td> <td>-7.34e+05</td> <td> -7.1e+05</td>\n</tr>\n<tr>\n  <th>x31</th>   <td> 1.363e+05</td> <td> 5773.073</td> <td>   23.603</td> <td> 0.000</td> <td> 1.25e+05</td> <td> 1.48e+05</td>\n</tr>\n<tr>\n  <th>x32</th>   <td> 1.823e+05</td> <td> 3023.192</td> <td>   60.301</td> <td> 0.000</td> <td> 1.76e+05</td> <td> 1.88e+05</td>\n</tr>\n<tr>\n  <th>x33</th>   <td>  119.4502</td> <td>    0.345</td> <td>  346.530</td> <td> 0.000</td> <td>  118.774</td> <td>  120.127</td>\n</tr>\n</table>\n<table class=\"simpletable\">\n<tr>\n  <th>Omnibus:</th>       <td>417.171</td> <th>  Durbin-Watson:     </th> <td>   2.060</td>\n</tr>\n<tr>\n  <th>Prob(Omnibus):</th> <td> 0.000</td>  <th>  Jarque-Bera (JB):  </th> <td>  45.266</td>\n</tr>\n<tr>\n  <th>Skew:</th>          <td>-0.012</td>  <th>  Prob(JB):          </th> <td>1.48e-10</td>\n</tr>\n<tr>\n  <th>Kurtosis:</th>      <td> 1.845</td>  <th>  Cond. No.          </th> <td>5.43e+04</td>\n</tr>\n</table><br/><br/>Notes:<br/>[1] Standard Errors assume that the covariance matrix of the errors is correctly specified.<br/>[2] The condition number is large, 5.43e+04. This might indicate that there are<br/>strong multicollinearity or other numerical problems."
     },
     "metadata": {},
     "execution_count": 121
    }
   ],
   "source": [
    "z = [0,3,4,5,7,8,9,10,11,12,13,14,15,16,17,18,19,20,21,22,23,24,25,26,27,28,30,31,32,33,34,35,37,40]\n",
    "X_opt = X[:,z]\n",
    "regressor = sm.OLS(endog=y,exog=X_opt).fit()\n",
    "regressor.summary()"
=======
   "execution_count": 12,
   "metadata": {},
   "outputs": [],
   "source": [
    "X = df.drop(labels=['Price'],axis=1).values"
>>>>>>> b76659e7f17657d41387540279ef7eff4469e0cd
   ]
  },
  {
   "cell_type": "code",
<<<<<<< HEAD
   "execution_count": 122,
=======
   "execution_count": 13,
>>>>>>> b76659e7f17657d41387540279ef7eff4469e0cd
   "metadata": {},
   "outputs": [
    {
     "output_type": "execute_result",
     "data": {
      "text/plain": [
<<<<<<< HEAD
       "x12       6.157057e-05\n",
       "x15       6.199228e-06\n",
       "x5        4.971562e-11\n",
       "x18       4.420022e-11\n",
       "x26       7.439297e-12\n",
       "x8        6.752367e-12\n",
       "x25       2.147103e-12\n",
       "x29       1.926835e-15\n",
       "x19       1.509154e-15\n",
       "x9        5.356734e-41\n",
       "x6        2.649553e-46\n",
       "x24       2.820243e-48\n",
       "x7        3.594164e-50\n",
       "x4        1.306011e-53\n",
       "x16       7.937140e-61\n",
       "x20       7.283637e-75\n",
       "x2        2.198138e-87\n",
       "x31       2.292218e-93\n",
       "x13      1.950877e-115\n",
       "x21      9.805643e-129\n",
       "x1       1.048823e-161\n",
       "x10      1.431117e-173\n",
       "x27      7.942363e-181\n",
       "x28      4.887416e-205\n",
       "const    2.860452e-218\n",
       "x3       5.792917e-275\n",
       "x22      3.201556e-279\n",
       "x32      6.974671e-296\n",
       "x23      3.304594e-314\n",
       "x11       0.000000e+00\n",
       "x14       0.000000e+00\n",
       "x17       0.000000e+00\n",
       "x30       0.000000e+00\n",
       "x33       0.000000e+00\n",
       "dtype: float64"
      ]
     },
     "metadata": {},
     "execution_count": 122
    }
   ],
   "source": [
    "regressor.pvalues.sort_values(ascending=False)"
=======
       "(814, 3)"
      ]
     },
     "metadata": {},
     "execution_count": 13
    }
   ],
   "source": [
    "X.shape"
>>>>>>> b76659e7f17657d41387540279ef7eff4469e0cd
   ]
  },
  {
   "cell_type": "code",
<<<<<<< HEAD
   "execution_count": 32,
   "metadata": {},
   "outputs": [
    {
     "output_type": "execute_result",
     "data": {
      "text/plain": [
       "     0    1    2    3    4    5    6    7    8    9  ...   32   33   34   35  \\\n",
       "0  1.0  0.0  1.0  0.0  0.0  0.0  0.0  0.0  0.0  0.0  ...  0.0  1.0  0.0  0.0   \n",
       "1  1.0  0.0  1.0  0.0  0.0  0.0  0.0  0.0  0.0  0.0  ...  0.0  1.0  0.0  0.0   \n",
       "2  1.0  0.0  1.0  0.0  0.0  0.0  0.0  0.0  0.0  0.0  ...  0.0  1.0  0.0  0.0   \n",
       "3  1.0  0.0  1.0  0.0  0.0  0.0  0.0  0.0  0.0  0.0  ...  0.0  1.0  0.0  0.0   \n",
       "4  1.0  0.0  1.0  0.0  0.0  0.0  0.0  0.0  0.0  0.0  ...  0.0  1.0  0.0  0.0   \n",
       "\n",
       "    36   37   38   39      40      price  \n",
       "0  0.0  0.0  2.0  1.0   836.0  138159.85  \n",
       "1  0.0  0.0  3.0  1.0  1167.0  167541.46  \n",
       "2  0.0  0.0  2.0  1.0   796.0  119095.12  \n",
       "3  0.0  0.0  2.0  1.0   852.0  130904.95  \n",
       "4  0.0  0.0  2.0  1.0   797.0  120266.19  \n",
       "\n",
       "[5 rows x 42 columns]"
      ],
      "text/html": "<div>\n<style scoped>\n    .dataframe tbody tr th:only-of-type {\n        vertical-align: middle;\n    }\n\n    .dataframe tbody tr th {\n        vertical-align: top;\n    }\n\n    .dataframe thead th {\n        text-align: right;\n    }\n</style>\n<table border=\"1\" class=\"dataframe\">\n  <thead>\n    <tr style=\"text-align: right;\">\n      <th></th>\n      <th>0</th>\n      <th>1</th>\n      <th>2</th>\n      <th>3</th>\n      <th>4</th>\n      <th>5</th>\n      <th>6</th>\n      <th>7</th>\n      <th>8</th>\n      <th>9</th>\n      <th>...</th>\n      <th>32</th>\n      <th>33</th>\n      <th>34</th>\n      <th>35</th>\n      <th>36</th>\n      <th>37</th>\n      <th>38</th>\n      <th>39</th>\n      <th>40</th>\n      <th>price</th>\n    </tr>\n  </thead>\n  <tbody>\n    <tr>\n      <th>0</th>\n      <td>1.0</td>\n      <td>0.0</td>\n      <td>1.0</td>\n      <td>0.0</td>\n      <td>0.0</td>\n      <td>0.0</td>\n      <td>0.0</td>\n      <td>0.0</td>\n      <td>0.0</td>\n      <td>0.0</td>\n      <td>...</td>\n      <td>0.0</td>\n      <td>1.0</td>\n      <td>0.0</td>\n      <td>0.0</td>\n      <td>0.0</td>\n      <td>0.0</td>\n      <td>2.0</td>\n      <td>1.0</td>\n      <td>836.0</td>\n      <td>138159.85</td>\n    </tr>\n    <tr>\n      <th>1</th>\n      <td>1.0</td>\n      <td>0.0</td>\n      <td>1.0</td>\n      <td>0.0</td>\n      <td>0.0</td>\n      <td>0.0</td>\n      <td>0.0</td>\n      <td>0.0</td>\n      <td>0.0</td>\n      <td>0.0</td>\n      <td>...</td>\n      <td>0.0</td>\n      <td>1.0</td>\n      <td>0.0</td>\n      <td>0.0</td>\n      <td>0.0</td>\n      <td>0.0</td>\n      <td>3.0</td>\n      <td>1.0</td>\n      <td>1167.0</td>\n      <td>167541.46</td>\n    </tr>\n    <tr>\n      <th>2</th>\n      <td>1.0</td>\n      <td>0.0</td>\n      <td>1.0</td>\n      <td>0.0</td>\n      <td>0.0</td>\n      <td>0.0</td>\n      <td>0.0</td>\n      <td>0.0</td>\n      <td>0.0</td>\n      <td>0.0</td>\n      <td>...</td>\n      <td>0.0</td>\n      <td>1.0</td>\n      <td>0.0</td>\n      <td>0.0</td>\n      <td>0.0</td>\n      <td>0.0</td>\n      <td>2.0</td>\n      <td>1.0</td>\n      <td>796.0</td>\n      <td>119095.12</td>\n    </tr>\n    <tr>\n      <th>3</th>\n      <td>1.0</td>\n      <td>0.0</td>\n      <td>1.0</td>\n      <td>0.0</td>\n      <td>0.0</td>\n      <td>0.0</td>\n      <td>0.0</td>\n      <td>0.0</td>\n      <td>0.0</td>\n      <td>0.0</td>\n      <td>...</td>\n      <td>0.0</td>\n      <td>1.0</td>\n      <td>0.0</td>\n      <td>0.0</td>\n      <td>0.0</td>\n      <td>0.0</td>\n      <td>2.0</td>\n      <td>1.0</td>\n      <td>852.0</td>\n      <td>130904.95</td>\n    </tr>\n    <tr>\n      <th>4</th>\n      <td>1.0</td>\n      <td>0.0</td>\n      <td>1.0</td>\n      <td>0.0</td>\n      <td>0.0</td>\n      <td>0.0</td>\n      <td>0.0</td>\n      <td>0.0</td>\n      <td>0.0</td>\n      <td>0.0</td>\n      <td>...</td>\n      <td>0.0</td>\n      <td>1.0</td>\n      <td>0.0</td>\n      <td>0.0</td>\n      <td>0.0</td>\n      <td>0.0</td>\n      <td>2.0</td>\n      <td>1.0</td>\n      <td>797.0</td>\n      <td>120266.19</td>\n    </tr>\n  </tbody>\n</table>\n<p>5 rows × 42 columns</p>\n</div>"
     },
     "metadata": {},
     "execution_count": 32
    }
   ],
   "source": [
    "newdf = pd.DataFrame(X)\n",
    "newdf['price']= y\n",
    "newdf.head()"
=======
   "execution_count": 14,
   "metadata": {},
   "outputs": [],
   "source": [
    "X = np.concatenate((X,city_dummies,type_dummies),axis=1)"
>>>>>>> b76659e7f17657d41387540279ef7eff4469e0cd
   ]
  },
  {
   "cell_type": "code",
<<<<<<< HEAD
   "execution_count": 33,
=======
   "execution_count": 15,
>>>>>>> b76659e7f17657d41387540279ef7eff4469e0cd
   "metadata": {},
   "outputs": [
    {
     "output_type": "execute_result",
     "data": {
      "text/plain": [
<<<<<<< HEAD
       "<AxesSubplot:>"
      ]
     },
     "metadata": {},
     "execution_count": 33
    },
    {
     "output_type": "display_data",
     "data": {
      "text/plain": "<Figure size 1080x432 with 1 Axes>",
      "image/svg+xml": "<?xml version=\"1.0\" encoding=\"utf-8\" standalone=\"no\"?>\r\n<!DOCTYPE svg PUBLIC \"-//W3C//DTD SVG 1.1//EN\"\r\n  \"http://www.w3.org/Graphics/SVG/1.1/DTD/svg11.dtd\">\r\n<!-- Created with matplotlib (https://matplotlib.org/) -->\r\n<svg height=\"372.449062pt\" version=\"1.1\" viewBox=\"0 0 882.682813 372.449062\" width=\"882.682813pt\" xmlns=\"http://www.w3.org/2000/svg\" xmlns:xlink=\"http://www.w3.org/1999/xlink\">\r\n <metadata>\r\n  <rdf:RDF xmlns:cc=\"http://creativecommons.org/ns#\" xmlns:dc=\"http://purl.org/dc/elements/1.1/\" xmlns:rdf=\"http://www.w3.org/1999/02/22-rdf-syntax-ns#\">\r\n   <cc:Work>\r\n    <dc:type rdf:resource=\"http://purl.org/dc/dcmitype/StillImage\"/>\r\n    <dc:date>2020-11-05T15:40:07.143249</dc:date>\r\n    <dc:format>image/svg+xml</dc:format>\r\n    <dc:creator>\r\n     <cc:Agent>\r\n      <dc:title>Matplotlib v3.3.2, https://matplotlib.org/</dc:title>\r\n     </cc:Agent>\r\n    </dc:creator>\r\n   </cc:Work>\r\n  </rdf:RDF>\r\n </metadata>\r\n <defs>\r\n  <style type=\"text/css\">*{stroke-linecap:butt;stroke-linejoin:round;}</style>\r\n </defs>\r\n <g id=\"figure_1\">\r\n  <g id=\"patch_1\">\r\n   <path d=\"M 0 372.449062 \r\nL 882.682813 372.449062 \r\nL 882.682813 0 \r\nL 0 0 \r\nz\r\n\" style=\"fill:none;\"/>\r\n  </g>\r\n  <g id=\"axes_1\">\r\n   <g id=\"patch_2\">\r\n    <path d=\"M 38.482813 333.36 \r\nL 875.482813 333.36 \r\nL 875.482813 7.2 \r\nL 38.482813 7.2 \r\nz\r\n\" style=\"fill:#ffffff;\"/>\r\n   </g>\r\n   <g id=\"patch_3\">\r\n    <path clip-path=\"url(#p09a26c7000)\" d=\"M 43.464955 238.660316 \r\nL 53.429241 238.660316 \r\nL 53.429241 238.660316 \r\nL 43.464955 238.660316 \r\nz\r\n\" style=\"fill:#1f77b4;\"/>\r\n   </g>\r\n   <g id=\"patch_4\">\r\n    <path clip-path=\"url(#p09a26c7000)\" d=\"M 63.393527 238.660316 \r\nL 73.357813 238.660316 \r\nL 73.357813 225.308167 \r\nL 63.393527 225.308167 \r\nz\r\n\" style=\"fill:#1f77b4;\"/>\r\n   </g>\r\n   <g id=\"patch_5\">\r\n    <path clip-path=\"url(#p09a26c7000)\" d=\"M 83.322098 238.660316 \r\nL 93.286384 238.660316 \r\nL 93.286384 212.364072 \r\nL 83.322098 212.364072 \r\nz\r\n\" style=\"fill:#1f77b4;\"/>\r\n   </g>\r\n   <g id=\"patch_6\">\r\n    <path clip-path=\"url(#p09a26c7000)\" d=\"M 103.25067 238.660316 \r\nL 113.214955 238.660316 \r\nL 113.214955 225.684846 \r\nL 103.25067 225.684846 \r\nz\r\n\" style=\"fill:#1f77b4;\"/>\r\n   </g>\r\n   <g id=\"patch_7\">\r\n    <path clip-path=\"url(#p09a26c7000)\" d=\"M 123.179241 238.660316 \r\nL 133.143527 238.660316 \r\nL 133.143527 225.381409 \r\nL 123.179241 225.381409 \r\nz\r\n\" style=\"fill:#1f77b4;\"/>\r\n   </g>\r\n   <g id=\"patch_8\">\r\n    <path clip-path=\"url(#p09a26c7000)\" d=\"M 143.107813 238.660316 \r\nL 153.072098 238.660316 \r\nL 153.072098 215.497289 \r\nL 143.107813 215.497289 \r\nz\r\n\" style=\"fill:#1f77b4;\"/>\r\n   </g>\r\n   <g id=\"patch_9\">\r\n    <path clip-path=\"url(#p09a26c7000)\" d=\"M 163.036384 238.660316 \r\nL 173.00067 238.660316 \r\nL 173.00067 259.894206 \r\nL 163.036384 259.894206 \r\nz\r\n\" style=\"fill:#1f77b4;\"/>\r\n   </g>\r\n   <g id=\"patch_10\">\r\n    <path clip-path=\"url(#p09a26c7000)\" d=\"M 182.964955 238.660316 \r\nL 192.929241 238.660316 \r\nL 192.929241 233.256031 \r\nL 182.964955 233.256031 \r\nz\r\n\" style=\"fill:#1f77b4;\"/>\r\n   </g>\r\n   <g id=\"patch_11\">\r\n    <path clip-path=\"url(#p09a26c7000)\" d=\"M 202.893527 238.660316 \r\nL 212.857813 238.660316 \r\nL 212.857813 239.219181 \r\nL 202.893527 239.219181 \r\nz\r\n\" style=\"fill:#1f77b4;\"/>\r\n   </g>\r\n   <g id=\"patch_12\">\r\n    <path clip-path=\"url(#p09a26c7000)\" d=\"M 222.822098 238.660316 \r\nL 232.786384 238.660316 \r\nL 232.786384 236.346766 \r\nL 222.822098 236.346766 \r\nz\r\n\" style=\"fill:#1f77b4;\"/>\r\n   </g>\r\n   <g id=\"patch_13\">\r\n    <path clip-path=\"url(#p09a26c7000)\" d=\"M 242.75067 238.660316 \r\nL 252.714955 238.660316 \r\nL 252.714955 229.605619 \r\nL 242.75067 229.605619 \r\nz\r\n\" style=\"fill:#1f77b4;\"/>\r\n   </g>\r\n   <g id=\"patch_14\">\r\n    <path clip-path=\"url(#p09a26c7000)\" d=\"M 262.679241 238.660316 \r\nL 272.643527 238.660316 \r\nL 272.643527 203.614951 \r\nL 262.679241 203.614951 \r\nz\r\n\" style=\"fill:#1f77b4;\"/>\r\n   </g>\r\n   <g id=\"patch_15\">\r\n    <path clip-path=\"url(#p09a26c7000)\" d=\"M 282.607813 238.660316 \r\nL 292.572098 238.660316 \r\nL 292.572098 253.428618 \r\nL 282.607813 253.428618 \r\nz\r\n\" style=\"fill:#1f77b4;\"/>\r\n   </g>\r\n   <g id=\"patch_16\">\r\n    <path clip-path=\"url(#p09a26c7000)\" d=\"M 302.536384 238.660316 \r\nL 312.50067 238.660316 \r\nL 312.50067 221.674206 \r\nL 302.536384 221.674206 \r\nz\r\n\" style=\"fill:#1f77b4;\"/>\r\n   </g>\r\n   <g id=\"patch_17\">\r\n    <path clip-path=\"url(#p09a26c7000)\" d=\"M 322.464955 238.660316 \r\nL 332.429241 238.660316 \r\nL 332.429241 183.126959 \r\nL 322.464955 183.126959 \r\nz\r\n\" style=\"fill:#1f77b4;\"/>\r\n   </g>\r\n   <g id=\"patch_18\">\r\n    <path clip-path=\"url(#p09a26c7000)\" d=\"M 342.393527 238.660316 \r\nL 352.357813 238.660316 \r\nL 352.357813 238.422671 \r\nL 342.393527 238.422671 \r\nz\r\n\" style=\"fill:#1f77b4;\"/>\r\n   </g>\r\n   <g id=\"patch_19\">\r\n    <path clip-path=\"url(#p09a26c7000)\" d=\"M 362.322098 238.660316 \r\nL 372.286384 238.660316 \r\nL 372.286384 218.162077 \r\nL 362.322098 218.162077 \r\nz\r\n\" style=\"fill:#1f77b4;\"/>\r\n   </g>\r\n   <g id=\"patch_20\">\r\n    <path clip-path=\"url(#p09a26c7000)\" d=\"M 382.25067 238.660316 \r\nL 392.214955 238.660316 \r\nL 392.214955 178.127406 \r\nL 382.25067 178.127406 \r\nz\r\n\" style=\"fill:#1f77b4;\"/>\r\n   </g>\r\n   <g id=\"patch_21\">\r\n    <path clip-path=\"url(#p09a26c7000)\" d=\"M 402.179241 238.660316 \r\nL 412.143527 238.660316 \r\nL 412.143527 225.772946 \r\nL 402.179241 225.772946 \r\nz\r\n\" style=\"fill:#1f77b4;\"/>\r\n   </g>\r\n   <g id=\"patch_22\">\r\n    <path clip-path=\"url(#p09a26c7000)\" d=\"M 422.107813 238.660316 \r\nL 432.072098 238.660316 \r\nL 432.072098 231.993206 \r\nL 422.107813 231.993206 \r\nz\r\n\" style=\"fill:#1f77b4;\"/>\r\n   </g>\r\n   <g id=\"patch_23\">\r\n    <path clip-path=\"url(#p09a26c7000)\" d=\"M 442.036384 238.660316 \r\nL 452.00067 238.660316 \r\nL 452.00067 200.833722 \r\nL 442.036384 200.833722 \r\nz\r\n\" style=\"fill:#1f77b4;\"/>\r\n   </g>\r\n   <g id=\"patch_24\">\r\n    <path clip-path=\"url(#p09a26c7000)\" d=\"M 461.964955 238.660316 \r\nL 471.929241 238.660316 \r\nL 471.929241 237.845059 \r\nL 461.964955 237.845059 \r\nz\r\n\" style=\"fill:#1f77b4;\"/>\r\n   </g>\r\n   <g id=\"patch_25\">\r\n    <path clip-path=\"url(#p09a26c7000)\" d=\"M 481.893527 238.660316 \r\nL 491.857813 238.660316 \r\nL 491.857813 239.335691 \r\nL 481.893527 239.335691 \r\nz\r\n\" style=\"fill:#1f77b4;\"/>\r\n   </g>\r\n   <g id=\"patch_26\">\r\n    <path clip-path=\"url(#p09a26c7000)\" d=\"M 501.822098 238.660316 \r\nL 511.786384 238.660316 \r\nL 511.786384 272.221262 \r\nL 501.822098 272.221262 \r\nz\r\n\" style=\"fill:#1f77b4;\"/>\r\n   </g>\r\n   <g id=\"patch_27\">\r\n    <path clip-path=\"url(#p09a26c7000)\" d=\"M 521.75067 238.660316 \r\nL 531.714955 238.660316 \r\nL 531.714955 225.514815 \r\nL 521.75067 225.514815 \r\nz\r\n\" style=\"fill:#1f77b4;\"/>\r\n   </g>\r\n   <g id=\"patch_28\">\r\n    <path clip-path=\"url(#p09a26c7000)\" d=\"M 541.679241 238.660316 \r\nL 551.643527 238.660316 \r\nL 551.643527 216.490848 \r\nL 541.679241 216.490848 \r\nz\r\n\" style=\"fill:#1f77b4;\"/>\r\n   </g>\r\n   <g id=\"patch_29\">\r\n    <path clip-path=\"url(#p09a26c7000)\" d=\"M 561.607812 238.660316 \r\nL 571.572098 238.660316 \r\nL 571.572098 208.357556 \r\nL 561.607812 208.357556 \r\nz\r\n\" style=\"fill:#1f77b4;\"/>\r\n   </g>\r\n   <g id=\"patch_30\">\r\n    <path clip-path=\"url(#p09a26c7000)\" d=\"M 581.536384 238.660316 \r\nL 591.50067 238.660316 \r\nL 591.50067 237.224977 \r\nL 581.536384 237.224977 \r\nz\r\n\" style=\"fill:#1f77b4;\"/>\r\n   </g>\r\n   <g id=\"patch_31\">\r\n    <path clip-path=\"url(#p09a26c7000)\" d=\"M 601.464955 238.660316 \r\nL 611.429241 238.660316 \r\nL 611.429241 236.56203 \r\nL 601.464955 236.56203 \r\nz\r\n\" style=\"fill:#1f77b4;\"/>\r\n   </g>\r\n   <g id=\"patch_32\">\r\n    <path clip-path=\"url(#p09a26c7000)\" d=\"M 621.393527 238.660316 \r\nL 631.357812 238.660316 \r\nL 631.357812 220.837383 \r\nL 621.393527 220.837383 \r\nz\r\n\" style=\"fill:#1f77b4;\"/>\r\n   </g>\r\n   <g id=\"patch_33\">\r\n    <path clip-path=\"url(#p09a26c7000)\" d=\"M 641.322098 238.660316 \r\nL 651.286384 238.660316 \r\nL 651.286384 250.454262 \r\nL 641.322098 250.454262 \r\nz\r\n\" style=\"fill:#1f77b4;\"/>\r\n   </g>\r\n   <g id=\"patch_34\">\r\n    <path clip-path=\"url(#p09a26c7000)\" d=\"M 661.25067 238.660316 \r\nL 671.214955 238.660316 \r\nL 671.214955 215.663375 \r\nL 661.25067 215.663375 \r\nz\r\n\" style=\"fill:#1f77b4;\"/>\r\n   </g>\r\n   <g id=\"patch_35\">\r\n    <path clip-path=\"url(#p09a26c7000)\" d=\"M 681.179241 238.660316 \r\nL 691.143527 238.660316 \r\nL 691.143527 211.763392 \r\nL 681.179241 211.763392 \r\nz\r\n\" style=\"fill:#1f77b4;\"/>\r\n   </g>\r\n   <g id=\"patch_36\">\r\n    <path clip-path=\"url(#p09a26c7000)\" d=\"M 701.107812 238.660316 \r\nL 711.072098 238.660316 \r\nL 711.072098 318.534545 \r\nL 701.107812 318.534545 \r\nz\r\n\" style=\"fill:#1f77b4;\"/>\r\n   </g>\r\n   <g id=\"patch_37\">\r\n    <path clip-path=\"url(#p09a26c7000)\" d=\"M 721.036384 238.660316 \r\nL 731.00067 238.660316 \r\nL 731.00067 256.403022 \r\nL 721.036384 256.403022 \r\nz\r\n\" style=\"fill:#1f77b4;\"/>\r\n   </g>\r\n   <g id=\"patch_38\">\r\n    <path clip-path=\"url(#p09a26c7000)\" d=\"M 740.964955 238.660316 \r\nL 750.929241 238.660316 \r\nL 750.929241 227.624253 \r\nL 740.964955 227.624253 \r\nz\r\n\" style=\"fill:#1f77b4;\"/>\r\n   </g>\r\n   <g id=\"patch_39\">\r\n    <path clip-path=\"url(#p09a26c7000)\" d=\"M 760.893527 238.660316 \r\nL 770.857812 238.660316 \r\nL 770.857812 245.675493 \r\nL 760.893527 245.675493 \r\nz\r\n\" style=\"fill:#1f77b4;\"/>\r\n   </g>\r\n   <g id=\"patch_40\">\r\n    <path clip-path=\"url(#p09a26c7000)\" d=\"M 780.822098 238.660316 \r\nL 790.786384 238.660316 \r\nL 790.786384 176.104271 \r\nL 780.822098 176.104271 \r\nz\r\n\" style=\"fill:#1f77b4;\"/>\r\n   </g>\r\n   <g id=\"patch_41\">\r\n    <path clip-path=\"url(#p09a26c7000)\" d=\"M 800.75067 238.660316 \r\nL 810.714955 238.660316 \r\nL 810.714955 106.582991 \r\nL 800.75067 106.582991 \r\nz\r\n\" style=\"fill:#1f77b4;\"/>\r\n   </g>\r\n   <g id=\"patch_42\">\r\n    <path clip-path=\"url(#p09a26c7000)\" d=\"M 820.679241 238.660316 \r\nL 830.643527 238.660316 \r\nL 830.643527 101.699764 \r\nL 820.679241 101.699764 \r\nz\r\n\" style=\"fill:#1f77b4;\"/>\r\n   </g>\r\n   <g id=\"patch_43\">\r\n    <path clip-path=\"url(#p09a26c7000)\" d=\"M 840.607812 238.660316 \r\nL 850.572098 238.660316 \r\nL 850.572098 54.140482 \r\nL 840.607812 54.140482 \r\nz\r\n\" style=\"fill:#1f77b4;\"/>\r\n   </g>\r\n   <g id=\"patch_44\">\r\n    <path clip-path=\"url(#p09a26c7000)\" d=\"M 860.536384 238.660316 \r\nL 870.50067 238.660316 \r\nL 870.50067 22.025455 \r\nL 860.536384 22.025455 \r\nz\r\n\" style=\"fill:#1f77b4;\"/>\r\n   </g>\r\n   <g id=\"matplotlib.axis_1\">\r\n    <g id=\"xtick_1\">\r\n     <g id=\"line2d_1\">\r\n      <defs>\r\n       <path d=\"M 0 0 \r\nL 0 3.5 \r\n\" id=\"m9033180886\" style=\"stroke:#000000;stroke-width:0.8;\"/>\r\n      </defs>\r\n      <g>\r\n       <use style=\"stroke:#000000;stroke-width:0.8;\" x=\"48.447098\" xlink:href=\"#m9033180886\" y=\"333.36\"/>\r\n      </g>\r\n     </g>\r\n     <g id=\"text_1\">\r\n      <!-- 0 -->\r\n      <g transform=\"translate(51.206473 346.7225)rotate(-90)scale(0.1 -0.1)\">\r\n       <defs>\r\n        <path d=\"M 31.78125 66.40625 \r\nQ 24.171875 66.40625 20.328125 58.90625 \r\nQ 16.5 51.421875 16.5 36.375 \r\nQ 16.5 21.390625 20.328125 13.890625 \r\nQ 24.171875 6.390625 31.78125 6.390625 \r\nQ 39.453125 6.390625 43.28125 13.890625 \r\nQ 47.125 21.390625 47.125 36.375 \r\nQ 47.125 51.421875 43.28125 58.90625 \r\nQ 39.453125 66.40625 31.78125 66.40625 \r\nz\r\nM 31.78125 74.21875 \r\nQ 44.046875 74.21875 50.515625 64.515625 \r\nQ 56.984375 54.828125 56.984375 36.375 \r\nQ 56.984375 17.96875 50.515625 8.265625 \r\nQ 44.046875 -1.421875 31.78125 -1.421875 \r\nQ 19.53125 -1.421875 13.0625 8.265625 \r\nQ 6.59375 17.96875 6.59375 36.375 \r\nQ 6.59375 54.828125 13.0625 64.515625 \r\nQ 19.53125 74.21875 31.78125 74.21875 \r\nz\r\n\" id=\"DejaVuSans-48\"/>\r\n       </defs>\r\n       <use xlink:href=\"#DejaVuSans-48\"/>\r\n      </g>\r\n     </g>\r\n    </g>\r\n    <g id=\"xtick_2\">\r\n     <g id=\"line2d_2\">\r\n      <g>\r\n       <use style=\"stroke:#000000;stroke-width:0.8;\" x=\"68.37567\" xlink:href=\"#m9033180886\" y=\"333.36\"/>\r\n      </g>\r\n     </g>\r\n     <g id=\"text_2\">\r\n      <!-- 1 -->\r\n      <g transform=\"translate(71.135045 346.7225)rotate(-90)scale(0.1 -0.1)\">\r\n       <defs>\r\n        <path d=\"M 12.40625 8.296875 \r\nL 28.515625 8.296875 \r\nL 28.515625 63.921875 \r\nL 10.984375 60.40625 \r\nL 10.984375 69.390625 \r\nL 28.421875 72.90625 \r\nL 38.28125 72.90625 \r\nL 38.28125 8.296875 \r\nL 54.390625 8.296875 \r\nL 54.390625 0 \r\nL 12.40625 0 \r\nz\r\n\" id=\"DejaVuSans-49\"/>\r\n       </defs>\r\n       <use xlink:href=\"#DejaVuSans-49\"/>\r\n      </g>\r\n     </g>\r\n    </g>\r\n    <g id=\"xtick_3\">\r\n     <g id=\"line2d_3\">\r\n      <g>\r\n       <use style=\"stroke:#000000;stroke-width:0.8;\" x=\"88.304241\" xlink:href=\"#m9033180886\" y=\"333.36\"/>\r\n      </g>\r\n     </g>\r\n     <g id=\"text_3\">\r\n      <!-- 2 -->\r\n      <g transform=\"translate(91.063616 346.7225)rotate(-90)scale(0.1 -0.1)\">\r\n       <defs>\r\n        <path d=\"M 19.1875 8.296875 \r\nL 53.609375 8.296875 \r\nL 53.609375 0 \r\nL 7.328125 0 \r\nL 7.328125 8.296875 \r\nQ 12.9375 14.109375 22.625 23.890625 \r\nQ 32.328125 33.6875 34.8125 36.53125 \r\nQ 39.546875 41.84375 41.421875 45.53125 \r\nQ 43.3125 49.21875 43.3125 52.78125 \r\nQ 43.3125 58.59375 39.234375 62.25 \r\nQ 35.15625 65.921875 28.609375 65.921875 \r\nQ 23.96875 65.921875 18.8125 64.3125 \r\nQ 13.671875 62.703125 7.8125 59.421875 \r\nL 7.8125 69.390625 \r\nQ 13.765625 71.78125 18.9375 73 \r\nQ 24.125 74.21875 28.421875 74.21875 \r\nQ 39.75 74.21875 46.484375 68.546875 \r\nQ 53.21875 62.890625 53.21875 53.421875 \r\nQ 53.21875 48.921875 51.53125 44.890625 \r\nQ 49.859375 40.875 45.40625 35.40625 \r\nQ 44.1875 33.984375 37.640625 27.21875 \r\nQ 31.109375 20.453125 19.1875 8.296875 \r\nz\r\n\" id=\"DejaVuSans-50\"/>\r\n       </defs>\r\n       <use xlink:href=\"#DejaVuSans-50\"/>\r\n      </g>\r\n     </g>\r\n    </g>\r\n    <g id=\"xtick_4\">\r\n     <g id=\"line2d_4\">\r\n      <g>\r\n       <use style=\"stroke:#000000;stroke-width:0.8;\" x=\"108.232813\" xlink:href=\"#m9033180886\" y=\"333.36\"/>\r\n      </g>\r\n     </g>\r\n     <g id=\"text_4\">\r\n      <!-- 3 -->\r\n      <g transform=\"translate(110.992188 346.7225)rotate(-90)scale(0.1 -0.1)\">\r\n       <defs>\r\n        <path d=\"M 40.578125 39.3125 \r\nQ 47.65625 37.796875 51.625 33 \r\nQ 55.609375 28.21875 55.609375 21.1875 \r\nQ 55.609375 10.40625 48.1875 4.484375 \r\nQ 40.765625 -1.421875 27.09375 -1.421875 \r\nQ 22.515625 -1.421875 17.65625 -0.515625 \r\nQ 12.796875 0.390625 7.625 2.203125 \r\nL 7.625 11.71875 \r\nQ 11.71875 9.328125 16.59375 8.109375 \r\nQ 21.484375 6.890625 26.8125 6.890625 \r\nQ 36.078125 6.890625 40.9375 10.546875 \r\nQ 45.796875 14.203125 45.796875 21.1875 \r\nQ 45.796875 27.640625 41.28125 31.265625 \r\nQ 36.765625 34.90625 28.71875 34.90625 \r\nL 20.21875 34.90625 \r\nL 20.21875 43.015625 \r\nL 29.109375 43.015625 \r\nQ 36.375 43.015625 40.234375 45.921875 \r\nQ 44.09375 48.828125 44.09375 54.296875 \r\nQ 44.09375 59.90625 40.109375 62.90625 \r\nQ 36.140625 65.921875 28.71875 65.921875 \r\nQ 24.65625 65.921875 20.015625 65.03125 \r\nQ 15.375 64.15625 9.8125 62.3125 \r\nL 9.8125 71.09375 \r\nQ 15.4375 72.65625 20.34375 73.4375 \r\nQ 25.25 74.21875 29.59375 74.21875 \r\nQ 40.828125 74.21875 47.359375 69.109375 \r\nQ 53.90625 64.015625 53.90625 55.328125 \r\nQ 53.90625 49.265625 50.4375 45.09375 \r\nQ 46.96875 40.921875 40.578125 39.3125 \r\nz\r\n\" id=\"DejaVuSans-51\"/>\r\n       </defs>\r\n       <use xlink:href=\"#DejaVuSans-51\"/>\r\n      </g>\r\n     </g>\r\n    </g>\r\n    <g id=\"xtick_5\">\r\n     <g id=\"line2d_5\">\r\n      <g>\r\n       <use style=\"stroke:#000000;stroke-width:0.8;\" x=\"128.161384\" xlink:href=\"#m9033180886\" y=\"333.36\"/>\r\n      </g>\r\n     </g>\r\n     <g id=\"text_5\">\r\n      <!-- 4 -->\r\n      <g transform=\"translate(130.920759 346.7225)rotate(-90)scale(0.1 -0.1)\">\r\n       <defs>\r\n        <path d=\"M 37.796875 64.3125 \r\nL 12.890625 25.390625 \r\nL 37.796875 25.390625 \r\nz\r\nM 35.203125 72.90625 \r\nL 47.609375 72.90625 \r\nL 47.609375 25.390625 \r\nL 58.015625 25.390625 \r\nL 58.015625 17.1875 \r\nL 47.609375 17.1875 \r\nL 47.609375 0 \r\nL 37.796875 0 \r\nL 37.796875 17.1875 \r\nL 4.890625 17.1875 \r\nL 4.890625 26.703125 \r\nz\r\n\" id=\"DejaVuSans-52\"/>\r\n       </defs>\r\n       <use xlink:href=\"#DejaVuSans-52\"/>\r\n      </g>\r\n     </g>\r\n    </g>\r\n    <g id=\"xtick_6\">\r\n     <g id=\"line2d_6\">\r\n      <g>\r\n       <use style=\"stroke:#000000;stroke-width:0.8;\" x=\"148.089955\" xlink:href=\"#m9033180886\" y=\"333.36\"/>\r\n      </g>\r\n     </g>\r\n     <g id=\"text_6\">\r\n      <!-- 5 -->\r\n      <g transform=\"translate(150.84933 346.7225)rotate(-90)scale(0.1 -0.1)\">\r\n       <defs>\r\n        <path d=\"M 10.796875 72.90625 \r\nL 49.515625 72.90625 \r\nL 49.515625 64.59375 \r\nL 19.828125 64.59375 \r\nL 19.828125 46.734375 \r\nQ 21.96875 47.46875 24.109375 47.828125 \r\nQ 26.265625 48.1875 28.421875 48.1875 \r\nQ 40.625 48.1875 47.75 41.5 \r\nQ 54.890625 34.8125 54.890625 23.390625 \r\nQ 54.890625 11.625 47.5625 5.09375 \r\nQ 40.234375 -1.421875 26.90625 -1.421875 \r\nQ 22.3125 -1.421875 17.546875 -0.640625 \r\nQ 12.796875 0.140625 7.71875 1.703125 \r\nL 7.71875 11.625 \r\nQ 12.109375 9.234375 16.796875 8.0625 \r\nQ 21.484375 6.890625 26.703125 6.890625 \r\nQ 35.15625 6.890625 40.078125 11.328125 \r\nQ 45.015625 15.765625 45.015625 23.390625 \r\nQ 45.015625 31 40.078125 35.4375 \r\nQ 35.15625 39.890625 26.703125 39.890625 \r\nQ 22.75 39.890625 18.8125 39.015625 \r\nQ 14.890625 38.140625 10.796875 36.28125 \r\nz\r\n\" id=\"DejaVuSans-53\"/>\r\n       </defs>\r\n       <use xlink:href=\"#DejaVuSans-53\"/>\r\n      </g>\r\n     </g>\r\n    </g>\r\n    <g id=\"xtick_7\">\r\n     <g id=\"line2d_7\">\r\n      <g>\r\n       <use style=\"stroke:#000000;stroke-width:0.8;\" x=\"168.018527\" xlink:href=\"#m9033180886\" y=\"333.36\"/>\r\n      </g>\r\n     </g>\r\n     <g id=\"text_7\">\r\n      <!-- 6 -->\r\n      <g transform=\"translate(170.777902 346.7225)rotate(-90)scale(0.1 -0.1)\">\r\n       <defs>\r\n        <path d=\"M 33.015625 40.375 \r\nQ 26.375 40.375 22.484375 35.828125 \r\nQ 18.609375 31.296875 18.609375 23.390625 \r\nQ 18.609375 15.53125 22.484375 10.953125 \r\nQ 26.375 6.390625 33.015625 6.390625 \r\nQ 39.65625 6.390625 43.53125 10.953125 \r\nQ 47.40625 15.53125 47.40625 23.390625 \r\nQ 47.40625 31.296875 43.53125 35.828125 \r\nQ 39.65625 40.375 33.015625 40.375 \r\nz\r\nM 52.59375 71.296875 \r\nL 52.59375 62.3125 \r\nQ 48.875 64.0625 45.09375 64.984375 \r\nQ 41.3125 65.921875 37.59375 65.921875 \r\nQ 27.828125 65.921875 22.671875 59.328125 \r\nQ 17.53125 52.734375 16.796875 39.40625 \r\nQ 19.671875 43.65625 24.015625 45.921875 \r\nQ 28.375 48.1875 33.59375 48.1875 \r\nQ 44.578125 48.1875 50.953125 41.515625 \r\nQ 57.328125 34.859375 57.328125 23.390625 \r\nQ 57.328125 12.15625 50.6875 5.359375 \r\nQ 44.046875 -1.421875 33.015625 -1.421875 \r\nQ 20.359375 -1.421875 13.671875 8.265625 \r\nQ 6.984375 17.96875 6.984375 36.375 \r\nQ 6.984375 53.65625 15.1875 63.9375 \r\nQ 23.390625 74.21875 37.203125 74.21875 \r\nQ 40.921875 74.21875 44.703125 73.484375 \r\nQ 48.484375 72.75 52.59375 71.296875 \r\nz\r\n\" id=\"DejaVuSans-54\"/>\r\n       </defs>\r\n       <use xlink:href=\"#DejaVuSans-54\"/>\r\n      </g>\r\n     </g>\r\n    </g>\r\n    <g id=\"xtick_8\">\r\n     <g id=\"line2d_8\">\r\n      <g>\r\n       <use style=\"stroke:#000000;stroke-width:0.8;\" x=\"187.947098\" xlink:href=\"#m9033180886\" y=\"333.36\"/>\r\n      </g>\r\n     </g>\r\n     <g id=\"text_8\">\r\n      <!-- 7 -->\r\n      <g transform=\"translate(190.706473 346.7225)rotate(-90)scale(0.1 -0.1)\">\r\n       <defs>\r\n        <path d=\"M 8.203125 72.90625 \r\nL 55.078125 72.90625 \r\nL 55.078125 68.703125 \r\nL 28.609375 0 \r\nL 18.3125 0 \r\nL 43.21875 64.59375 \r\nL 8.203125 64.59375 \r\nz\r\n\" id=\"DejaVuSans-55\"/>\r\n       </defs>\r\n       <use xlink:href=\"#DejaVuSans-55\"/>\r\n      </g>\r\n     </g>\r\n    </g>\r\n    <g id=\"xtick_9\">\r\n     <g id=\"line2d_9\">\r\n      <g>\r\n       <use style=\"stroke:#000000;stroke-width:0.8;\" x=\"207.87567\" xlink:href=\"#m9033180886\" y=\"333.36\"/>\r\n      </g>\r\n     </g>\r\n     <g id=\"text_9\">\r\n      <!-- 8 -->\r\n      <g transform=\"translate(210.635045 346.7225)rotate(-90)scale(0.1 -0.1)\">\r\n       <defs>\r\n        <path d=\"M 31.78125 34.625 \r\nQ 24.75 34.625 20.71875 30.859375 \r\nQ 16.703125 27.09375 16.703125 20.515625 \r\nQ 16.703125 13.921875 20.71875 10.15625 \r\nQ 24.75 6.390625 31.78125 6.390625 \r\nQ 38.8125 6.390625 42.859375 10.171875 \r\nQ 46.921875 13.96875 46.921875 20.515625 \r\nQ 46.921875 27.09375 42.890625 30.859375 \r\nQ 38.875 34.625 31.78125 34.625 \r\nz\r\nM 21.921875 38.8125 \r\nQ 15.578125 40.375 12.03125 44.71875 \r\nQ 8.5 49.078125 8.5 55.328125 \r\nQ 8.5 64.0625 14.71875 69.140625 \r\nQ 20.953125 74.21875 31.78125 74.21875 \r\nQ 42.671875 74.21875 48.875 69.140625 \r\nQ 55.078125 64.0625 55.078125 55.328125 \r\nQ 55.078125 49.078125 51.53125 44.71875 \r\nQ 48 40.375 41.703125 38.8125 \r\nQ 48.828125 37.15625 52.796875 32.3125 \r\nQ 56.78125 27.484375 56.78125 20.515625 \r\nQ 56.78125 9.90625 50.3125 4.234375 \r\nQ 43.84375 -1.421875 31.78125 -1.421875 \r\nQ 19.734375 -1.421875 13.25 4.234375 \r\nQ 6.78125 9.90625 6.78125 20.515625 \r\nQ 6.78125 27.484375 10.78125 32.3125 \r\nQ 14.796875 37.15625 21.921875 38.8125 \r\nz\r\nM 18.3125 54.390625 \r\nQ 18.3125 48.734375 21.84375 45.5625 \r\nQ 25.390625 42.390625 31.78125 42.390625 \r\nQ 38.140625 42.390625 41.71875 45.5625 \r\nQ 45.3125 48.734375 45.3125 54.390625 \r\nQ 45.3125 60.0625 41.71875 63.234375 \r\nQ 38.140625 66.40625 31.78125 66.40625 \r\nQ 25.390625 66.40625 21.84375 63.234375 \r\nQ 18.3125 60.0625 18.3125 54.390625 \r\nz\r\n\" id=\"DejaVuSans-56\"/>\r\n       </defs>\r\n       <use xlink:href=\"#DejaVuSans-56\"/>\r\n      </g>\r\n     </g>\r\n    </g>\r\n    <g id=\"xtick_10\">\r\n     <g id=\"line2d_10\">\r\n      <g>\r\n       <use style=\"stroke:#000000;stroke-width:0.8;\" x=\"227.804241\" xlink:href=\"#m9033180886\" y=\"333.36\"/>\r\n      </g>\r\n     </g>\r\n     <g id=\"text_10\">\r\n      <!-- 9 -->\r\n      <g transform=\"translate(230.563616 346.7225)rotate(-90)scale(0.1 -0.1)\">\r\n       <defs>\r\n        <path d=\"M 10.984375 1.515625 \r\nL 10.984375 10.5 \r\nQ 14.703125 8.734375 18.5 7.8125 \r\nQ 22.3125 6.890625 25.984375 6.890625 \r\nQ 35.75 6.890625 40.890625 13.453125 \r\nQ 46.046875 20.015625 46.78125 33.40625 \r\nQ 43.953125 29.203125 39.59375 26.953125 \r\nQ 35.25 24.703125 29.984375 24.703125 \r\nQ 19.046875 24.703125 12.671875 31.3125 \r\nQ 6.296875 37.9375 6.296875 49.421875 \r\nQ 6.296875 60.640625 12.9375 67.421875 \r\nQ 19.578125 74.21875 30.609375 74.21875 \r\nQ 43.265625 74.21875 49.921875 64.515625 \r\nQ 56.59375 54.828125 56.59375 36.375 \r\nQ 56.59375 19.140625 48.40625 8.859375 \r\nQ 40.234375 -1.421875 26.421875 -1.421875 \r\nQ 22.703125 -1.421875 18.890625 -0.6875 \r\nQ 15.09375 0.046875 10.984375 1.515625 \r\nz\r\nM 30.609375 32.421875 \r\nQ 37.25 32.421875 41.125 36.953125 \r\nQ 45.015625 41.5 45.015625 49.421875 \r\nQ 45.015625 57.28125 41.125 61.84375 \r\nQ 37.25 66.40625 30.609375 66.40625 \r\nQ 23.96875 66.40625 20.09375 61.84375 \r\nQ 16.21875 57.28125 16.21875 49.421875 \r\nQ 16.21875 41.5 20.09375 36.953125 \r\nQ 23.96875 32.421875 30.609375 32.421875 \r\nz\r\n\" id=\"DejaVuSans-57\"/>\r\n       </defs>\r\n       <use xlink:href=\"#DejaVuSans-57\"/>\r\n      </g>\r\n     </g>\r\n    </g>\r\n    <g id=\"xtick_11\">\r\n     <g id=\"line2d_11\">\r\n      <g>\r\n       <use style=\"stroke:#000000;stroke-width:0.8;\" x=\"247.732813\" xlink:href=\"#m9033180886\" y=\"333.36\"/>\r\n      </g>\r\n     </g>\r\n     <g id=\"text_11\">\r\n      <!-- 10 -->\r\n      <g transform=\"translate(250.492188 353.085)rotate(-90)scale(0.1 -0.1)\">\r\n       <use xlink:href=\"#DejaVuSans-49\"/>\r\n       <use x=\"63.623047\" xlink:href=\"#DejaVuSans-48\"/>\r\n      </g>\r\n     </g>\r\n    </g>\r\n    <g id=\"xtick_12\">\r\n     <g id=\"line2d_12\">\r\n      <g>\r\n       <use style=\"stroke:#000000;stroke-width:0.8;\" x=\"267.661384\" xlink:href=\"#m9033180886\" y=\"333.36\"/>\r\n      </g>\r\n     </g>\r\n     <g id=\"text_12\">\r\n      <!-- 11 -->\r\n      <g transform=\"translate(270.420759 353.085)rotate(-90)scale(0.1 -0.1)\">\r\n       <use xlink:href=\"#DejaVuSans-49\"/>\r\n       <use x=\"63.623047\" xlink:href=\"#DejaVuSans-49\"/>\r\n      </g>\r\n     </g>\r\n    </g>\r\n    <g id=\"xtick_13\">\r\n     <g id=\"line2d_13\">\r\n      <g>\r\n       <use style=\"stroke:#000000;stroke-width:0.8;\" x=\"287.589955\" xlink:href=\"#m9033180886\" y=\"333.36\"/>\r\n      </g>\r\n     </g>\r\n     <g id=\"text_13\">\r\n      <!-- 12 -->\r\n      <g transform=\"translate(290.34933 353.085)rotate(-90)scale(0.1 -0.1)\">\r\n       <use xlink:href=\"#DejaVuSans-49\"/>\r\n       <use x=\"63.623047\" xlink:href=\"#DejaVuSans-50\"/>\r\n      </g>\r\n     </g>\r\n    </g>\r\n    <g id=\"xtick_14\">\r\n     <g id=\"line2d_14\">\r\n      <g>\r\n       <use style=\"stroke:#000000;stroke-width:0.8;\" x=\"307.518527\" xlink:href=\"#m9033180886\" y=\"333.36\"/>\r\n      </g>\r\n     </g>\r\n     <g id=\"text_14\">\r\n      <!-- 13 -->\r\n      <g transform=\"translate(310.277902 353.085)rotate(-90)scale(0.1 -0.1)\">\r\n       <use xlink:href=\"#DejaVuSans-49\"/>\r\n       <use x=\"63.623047\" xlink:href=\"#DejaVuSans-51\"/>\r\n      </g>\r\n     </g>\r\n    </g>\r\n    <g id=\"xtick_15\">\r\n     <g id=\"line2d_15\">\r\n      <g>\r\n       <use style=\"stroke:#000000;stroke-width:0.8;\" x=\"327.447098\" xlink:href=\"#m9033180886\" y=\"333.36\"/>\r\n      </g>\r\n     </g>\r\n     <g id=\"text_15\">\r\n      <!-- 14 -->\r\n      <g transform=\"translate(330.206473 353.085)rotate(-90)scale(0.1 -0.1)\">\r\n       <use xlink:href=\"#DejaVuSans-49\"/>\r\n       <use x=\"63.623047\" xlink:href=\"#DejaVuSans-52\"/>\r\n      </g>\r\n     </g>\r\n    </g>\r\n    <g id=\"xtick_16\">\r\n     <g id=\"line2d_16\">\r\n      <g>\r\n       <use style=\"stroke:#000000;stroke-width:0.8;\" x=\"347.37567\" xlink:href=\"#m9033180886\" y=\"333.36\"/>\r\n      </g>\r\n     </g>\r\n     <g id=\"text_16\">\r\n      <!-- 15 -->\r\n      <g transform=\"translate(350.135045 353.085)rotate(-90)scale(0.1 -0.1)\">\r\n       <use xlink:href=\"#DejaVuSans-49\"/>\r\n       <use x=\"63.623047\" xlink:href=\"#DejaVuSans-53\"/>\r\n      </g>\r\n     </g>\r\n    </g>\r\n    <g id=\"xtick_17\">\r\n     <g id=\"line2d_17\">\r\n      <g>\r\n       <use style=\"stroke:#000000;stroke-width:0.8;\" x=\"367.304241\" xlink:href=\"#m9033180886\" y=\"333.36\"/>\r\n      </g>\r\n     </g>\r\n     <g id=\"text_17\">\r\n      <!-- 16 -->\r\n      <g transform=\"translate(370.063616 353.085)rotate(-90)scale(0.1 -0.1)\">\r\n       <use xlink:href=\"#DejaVuSans-49\"/>\r\n       <use x=\"63.623047\" xlink:href=\"#DejaVuSans-54\"/>\r\n      </g>\r\n     </g>\r\n    </g>\r\n    <g id=\"xtick_18\">\r\n     <g id=\"line2d_18\">\r\n      <g>\r\n       <use style=\"stroke:#000000;stroke-width:0.8;\" x=\"387.232813\" xlink:href=\"#m9033180886\" y=\"333.36\"/>\r\n      </g>\r\n     </g>\r\n     <g id=\"text_18\">\r\n      <!-- 17 -->\r\n      <g transform=\"translate(389.992188 353.085)rotate(-90)scale(0.1 -0.1)\">\r\n       <use xlink:href=\"#DejaVuSans-49\"/>\r\n       <use x=\"63.623047\" xlink:href=\"#DejaVuSans-55\"/>\r\n      </g>\r\n     </g>\r\n    </g>\r\n    <g id=\"xtick_19\">\r\n     <g id=\"line2d_19\">\r\n      <g>\r\n       <use style=\"stroke:#000000;stroke-width:0.8;\" x=\"407.161384\" xlink:href=\"#m9033180886\" y=\"333.36\"/>\r\n      </g>\r\n     </g>\r\n     <g id=\"text_19\">\r\n      <!-- 18 -->\r\n      <g transform=\"translate(409.920759 353.085)rotate(-90)scale(0.1 -0.1)\">\r\n       <use xlink:href=\"#DejaVuSans-49\"/>\r\n       <use x=\"63.623047\" xlink:href=\"#DejaVuSans-56\"/>\r\n      </g>\r\n     </g>\r\n    </g>\r\n    <g id=\"xtick_20\">\r\n     <g id=\"line2d_20\">\r\n      <g>\r\n       <use style=\"stroke:#000000;stroke-width:0.8;\" x=\"427.089955\" xlink:href=\"#m9033180886\" y=\"333.36\"/>\r\n      </g>\r\n     </g>\r\n     <g id=\"text_20\">\r\n      <!-- 19 -->\r\n      <g transform=\"translate(429.84933 353.085)rotate(-90)scale(0.1 -0.1)\">\r\n       <use xlink:href=\"#DejaVuSans-49\"/>\r\n       <use x=\"63.623047\" xlink:href=\"#DejaVuSans-57\"/>\r\n      </g>\r\n     </g>\r\n    </g>\r\n    <g id=\"xtick_21\">\r\n     <g id=\"line2d_21\">\r\n      <g>\r\n       <use style=\"stroke:#000000;stroke-width:0.8;\" x=\"447.018527\" xlink:href=\"#m9033180886\" y=\"333.36\"/>\r\n      </g>\r\n     </g>\r\n     <g id=\"text_21\">\r\n      <!-- 20 -->\r\n      <g transform=\"translate(449.777902 353.085)rotate(-90)scale(0.1 -0.1)\">\r\n       <use xlink:href=\"#DejaVuSans-50\"/>\r\n       <use x=\"63.623047\" xlink:href=\"#DejaVuSans-48\"/>\r\n      </g>\r\n     </g>\r\n    </g>\r\n    <g id=\"xtick_22\">\r\n     <g id=\"line2d_22\">\r\n      <g>\r\n       <use style=\"stroke:#000000;stroke-width:0.8;\" x=\"466.947098\" xlink:href=\"#m9033180886\" y=\"333.36\"/>\r\n      </g>\r\n     </g>\r\n     <g id=\"text_22\">\r\n      <!-- 21 -->\r\n      <g transform=\"translate(469.706473 353.085)rotate(-90)scale(0.1 -0.1)\">\r\n       <use xlink:href=\"#DejaVuSans-50\"/>\r\n       <use x=\"63.623047\" xlink:href=\"#DejaVuSans-49\"/>\r\n      </g>\r\n     </g>\r\n    </g>\r\n    <g id=\"xtick_23\">\r\n     <g id=\"line2d_23\">\r\n      <g>\r\n       <use style=\"stroke:#000000;stroke-width:0.8;\" x=\"486.87567\" xlink:href=\"#m9033180886\" y=\"333.36\"/>\r\n      </g>\r\n     </g>\r\n     <g id=\"text_23\">\r\n      <!-- 22 -->\r\n      <g transform=\"translate(489.635045 353.085)rotate(-90)scale(0.1 -0.1)\">\r\n       <use xlink:href=\"#DejaVuSans-50\"/>\r\n       <use x=\"63.623047\" xlink:href=\"#DejaVuSans-50\"/>\r\n      </g>\r\n     </g>\r\n    </g>\r\n    <g id=\"xtick_24\">\r\n     <g id=\"line2d_24\">\r\n      <g>\r\n       <use style=\"stroke:#000000;stroke-width:0.8;\" x=\"506.804241\" xlink:href=\"#m9033180886\" y=\"333.36\"/>\r\n      </g>\r\n     </g>\r\n     <g id=\"text_24\">\r\n      <!-- 23 -->\r\n      <g transform=\"translate(509.563616 353.085)rotate(-90)scale(0.1 -0.1)\">\r\n       <use xlink:href=\"#DejaVuSans-50\"/>\r\n       <use x=\"63.623047\" xlink:href=\"#DejaVuSans-51\"/>\r\n      </g>\r\n     </g>\r\n    </g>\r\n    <g id=\"xtick_25\">\r\n     <g id=\"line2d_25\">\r\n      <g>\r\n       <use style=\"stroke:#000000;stroke-width:0.8;\" x=\"526.732812\" xlink:href=\"#m9033180886\" y=\"333.36\"/>\r\n      </g>\r\n     </g>\r\n     <g id=\"text_25\">\r\n      <!-- 24 -->\r\n      <g transform=\"translate(529.492187 353.085)rotate(-90)scale(0.1 -0.1)\">\r\n       <use xlink:href=\"#DejaVuSans-50\"/>\r\n       <use x=\"63.623047\" xlink:href=\"#DejaVuSans-52\"/>\r\n      </g>\r\n     </g>\r\n    </g>\r\n    <g id=\"xtick_26\">\r\n     <g id=\"line2d_26\">\r\n      <g>\r\n       <use style=\"stroke:#000000;stroke-width:0.8;\" x=\"546.661384\" xlink:href=\"#m9033180886\" y=\"333.36\"/>\r\n      </g>\r\n     </g>\r\n     <g id=\"text_26\">\r\n      <!-- 25 -->\r\n      <g transform=\"translate(549.420759 353.085)rotate(-90)scale(0.1 -0.1)\">\r\n       <use xlink:href=\"#DejaVuSans-50\"/>\r\n       <use x=\"63.623047\" xlink:href=\"#DejaVuSans-53\"/>\r\n      </g>\r\n     </g>\r\n    </g>\r\n    <g id=\"xtick_27\">\r\n     <g id=\"line2d_27\">\r\n      <g>\r\n       <use style=\"stroke:#000000;stroke-width:0.8;\" x=\"566.589955\" xlink:href=\"#m9033180886\" y=\"333.36\"/>\r\n      </g>\r\n     </g>\r\n     <g id=\"text_27\">\r\n      <!-- 26 -->\r\n      <g transform=\"translate(569.34933 353.085)rotate(-90)scale(0.1 -0.1)\">\r\n       <use xlink:href=\"#DejaVuSans-50\"/>\r\n       <use x=\"63.623047\" xlink:href=\"#DejaVuSans-54\"/>\r\n      </g>\r\n     </g>\r\n    </g>\r\n    <g id=\"xtick_28\">\r\n     <g id=\"line2d_28\">\r\n      <g>\r\n       <use style=\"stroke:#000000;stroke-width:0.8;\" x=\"586.518527\" xlink:href=\"#m9033180886\" y=\"333.36\"/>\r\n      </g>\r\n     </g>\r\n     <g id=\"text_28\">\r\n      <!-- 27 -->\r\n      <g transform=\"translate(589.277902 353.085)rotate(-90)scale(0.1 -0.1)\">\r\n       <use xlink:href=\"#DejaVuSans-50\"/>\r\n       <use x=\"63.623047\" xlink:href=\"#DejaVuSans-55\"/>\r\n      </g>\r\n     </g>\r\n    </g>\r\n    <g id=\"xtick_29\">\r\n     <g id=\"line2d_29\">\r\n      <g>\r\n       <use style=\"stroke:#000000;stroke-width:0.8;\" x=\"606.447098\" xlink:href=\"#m9033180886\" y=\"333.36\"/>\r\n      </g>\r\n     </g>\r\n     <g id=\"text_29\">\r\n      <!-- 28 -->\r\n      <g transform=\"translate(609.206473 353.085)rotate(-90)scale(0.1 -0.1)\">\r\n       <use xlink:href=\"#DejaVuSans-50\"/>\r\n       <use x=\"63.623047\" xlink:href=\"#DejaVuSans-56\"/>\r\n      </g>\r\n     </g>\r\n    </g>\r\n    <g id=\"xtick_30\">\r\n     <g id=\"line2d_30\">\r\n      <g>\r\n       <use style=\"stroke:#000000;stroke-width:0.8;\" x=\"626.37567\" xlink:href=\"#m9033180886\" y=\"333.36\"/>\r\n      </g>\r\n     </g>\r\n     <g id=\"text_30\">\r\n      <!-- 29 -->\r\n      <g transform=\"translate(629.135045 353.085)rotate(-90)scale(0.1 -0.1)\">\r\n       <use xlink:href=\"#DejaVuSans-50\"/>\r\n       <use x=\"63.623047\" xlink:href=\"#DejaVuSans-57\"/>\r\n      </g>\r\n     </g>\r\n    </g>\r\n    <g id=\"xtick_31\">\r\n     <g id=\"line2d_31\">\r\n      <g>\r\n       <use style=\"stroke:#000000;stroke-width:0.8;\" x=\"646.304241\" xlink:href=\"#m9033180886\" y=\"333.36\"/>\r\n      </g>\r\n     </g>\r\n     <g id=\"text_31\">\r\n      <!-- 30 -->\r\n      <g transform=\"translate(649.063616 353.085)rotate(-90)scale(0.1 -0.1)\">\r\n       <use xlink:href=\"#DejaVuSans-51\"/>\r\n       <use x=\"63.623047\" xlink:href=\"#DejaVuSans-48\"/>\r\n      </g>\r\n     </g>\r\n    </g>\r\n    <g id=\"xtick_32\">\r\n     <g id=\"line2d_32\">\r\n      <g>\r\n       <use style=\"stroke:#000000;stroke-width:0.8;\" x=\"666.232812\" xlink:href=\"#m9033180886\" y=\"333.36\"/>\r\n      </g>\r\n     </g>\r\n     <g id=\"text_32\">\r\n      <!-- 31 -->\r\n      <g transform=\"translate(668.992187 353.085)rotate(-90)scale(0.1 -0.1)\">\r\n       <use xlink:href=\"#DejaVuSans-51\"/>\r\n       <use x=\"63.623047\" xlink:href=\"#DejaVuSans-49\"/>\r\n      </g>\r\n     </g>\r\n    </g>\r\n    <g id=\"xtick_33\">\r\n     <g id=\"line2d_33\">\r\n      <g>\r\n       <use style=\"stroke:#000000;stroke-width:0.8;\" x=\"686.161384\" xlink:href=\"#m9033180886\" y=\"333.36\"/>\r\n      </g>\r\n     </g>\r\n     <g id=\"text_33\">\r\n      <!-- 32 -->\r\n      <g transform=\"translate(688.920759 353.085)rotate(-90)scale(0.1 -0.1)\">\r\n       <use xlink:href=\"#DejaVuSans-51\"/>\r\n       <use x=\"63.623047\" xlink:href=\"#DejaVuSans-50\"/>\r\n      </g>\r\n     </g>\r\n    </g>\r\n    <g id=\"xtick_34\">\r\n     <g id=\"line2d_34\">\r\n      <g>\r\n       <use style=\"stroke:#000000;stroke-width:0.8;\" x=\"706.089955\" xlink:href=\"#m9033180886\" y=\"333.36\"/>\r\n      </g>\r\n     </g>\r\n     <g id=\"text_34\">\r\n      <!-- 33 -->\r\n      <g transform=\"translate(708.84933 353.085)rotate(-90)scale(0.1 -0.1)\">\r\n       <use xlink:href=\"#DejaVuSans-51\"/>\r\n       <use x=\"63.623047\" xlink:href=\"#DejaVuSans-51\"/>\r\n      </g>\r\n     </g>\r\n    </g>\r\n    <g id=\"xtick_35\">\r\n     <g id=\"line2d_35\">\r\n      <g>\r\n       <use style=\"stroke:#000000;stroke-width:0.8;\" x=\"726.018527\" xlink:href=\"#m9033180886\" y=\"333.36\"/>\r\n      </g>\r\n     </g>\r\n     <g id=\"text_35\">\r\n      <!-- 34 -->\r\n      <g transform=\"translate(728.777902 353.085)rotate(-90)scale(0.1 -0.1)\">\r\n       <use xlink:href=\"#DejaVuSans-51\"/>\r\n       <use x=\"63.623047\" xlink:href=\"#DejaVuSans-52\"/>\r\n      </g>\r\n     </g>\r\n    </g>\r\n    <g id=\"xtick_36\">\r\n     <g id=\"line2d_36\">\r\n      <g>\r\n       <use style=\"stroke:#000000;stroke-width:0.8;\" x=\"745.947098\" xlink:href=\"#m9033180886\" y=\"333.36\"/>\r\n      </g>\r\n     </g>\r\n     <g id=\"text_36\">\r\n      <!-- 35 -->\r\n      <g transform=\"translate(748.706473 353.085)rotate(-90)scale(0.1 -0.1)\">\r\n       <use xlink:href=\"#DejaVuSans-51\"/>\r\n       <use x=\"63.623047\" xlink:href=\"#DejaVuSans-53\"/>\r\n      </g>\r\n     </g>\r\n    </g>\r\n    <g id=\"xtick_37\">\r\n     <g id=\"line2d_37\">\r\n      <g>\r\n       <use style=\"stroke:#000000;stroke-width:0.8;\" x=\"765.87567\" xlink:href=\"#m9033180886\" y=\"333.36\"/>\r\n      </g>\r\n     </g>\r\n     <g id=\"text_37\">\r\n      <!-- 36 -->\r\n      <g transform=\"translate(768.635045 353.085)rotate(-90)scale(0.1 -0.1)\">\r\n       <use xlink:href=\"#DejaVuSans-51\"/>\r\n       <use x=\"63.623047\" xlink:href=\"#DejaVuSans-54\"/>\r\n      </g>\r\n     </g>\r\n    </g>\r\n    <g id=\"xtick_38\">\r\n     <g id=\"line2d_38\">\r\n      <g>\r\n       <use style=\"stroke:#000000;stroke-width:0.8;\" x=\"785.804241\" xlink:href=\"#m9033180886\" y=\"333.36\"/>\r\n      </g>\r\n     </g>\r\n     <g id=\"text_38\">\r\n      <!-- 37 -->\r\n      <g transform=\"translate(788.563616 353.085)rotate(-90)scale(0.1 -0.1)\">\r\n       <use xlink:href=\"#DejaVuSans-51\"/>\r\n       <use x=\"63.623047\" xlink:href=\"#DejaVuSans-55\"/>\r\n      </g>\r\n     </g>\r\n    </g>\r\n    <g id=\"xtick_39\">\r\n     <g id=\"line2d_39\">\r\n      <g>\r\n       <use style=\"stroke:#000000;stroke-width:0.8;\" x=\"805.732812\" xlink:href=\"#m9033180886\" y=\"333.36\"/>\r\n      </g>\r\n     </g>\r\n     <g id=\"text_39\">\r\n      <!-- 38 -->\r\n      <g transform=\"translate(808.492187 353.085)rotate(-90)scale(0.1 -0.1)\">\r\n       <use xlink:href=\"#DejaVuSans-51\"/>\r\n       <use x=\"63.623047\" xlink:href=\"#DejaVuSans-56\"/>\r\n      </g>\r\n     </g>\r\n    </g>\r\n    <g id=\"xtick_40\">\r\n     <g id=\"line2d_40\">\r\n      <g>\r\n       <use style=\"stroke:#000000;stroke-width:0.8;\" x=\"825.661384\" xlink:href=\"#m9033180886\" y=\"333.36\"/>\r\n      </g>\r\n     </g>\r\n     <g id=\"text_40\">\r\n      <!-- 39 -->\r\n      <g transform=\"translate(828.420759 353.085)rotate(-90)scale(0.1 -0.1)\">\r\n       <use xlink:href=\"#DejaVuSans-51\"/>\r\n       <use x=\"63.623047\" xlink:href=\"#DejaVuSans-57\"/>\r\n      </g>\r\n     </g>\r\n    </g>\r\n    <g id=\"xtick_41\">\r\n     <g id=\"line2d_41\">\r\n      <g>\r\n       <use style=\"stroke:#000000;stroke-width:0.8;\" x=\"845.589955\" xlink:href=\"#m9033180886\" y=\"333.36\"/>\r\n      </g>\r\n     </g>\r\n     <g id=\"text_41\">\r\n      <!-- 40 -->\r\n      <g transform=\"translate(848.34933 353.085)rotate(-90)scale(0.1 -0.1)\">\r\n       <use xlink:href=\"#DejaVuSans-52\"/>\r\n       <use x=\"63.623047\" xlink:href=\"#DejaVuSans-48\"/>\r\n      </g>\r\n     </g>\r\n    </g>\r\n    <g id=\"xtick_42\">\r\n     <g id=\"line2d_42\">\r\n      <g>\r\n       <use style=\"stroke:#000000;stroke-width:0.8;\" x=\"865.518527\" xlink:href=\"#m9033180886\" y=\"333.36\"/>\r\n      </g>\r\n     </g>\r\n     <g id=\"text_42\">\r\n      <!-- price -->\r\n      <g transform=\"translate(868.277902 365.249062)rotate(-90)scale(0.1 -0.1)\">\r\n       <defs>\r\n        <path d=\"M 18.109375 8.203125 \r\nL 18.109375 -20.796875 \r\nL 9.078125 -20.796875 \r\nL 9.078125 54.6875 \r\nL 18.109375 54.6875 \r\nL 18.109375 46.390625 \r\nQ 20.953125 51.265625 25.265625 53.625 \r\nQ 29.59375 56 35.59375 56 \r\nQ 45.5625 56 51.78125 48.09375 \r\nQ 58.015625 40.1875 58.015625 27.296875 \r\nQ 58.015625 14.40625 51.78125 6.484375 \r\nQ 45.5625 -1.421875 35.59375 -1.421875 \r\nQ 29.59375 -1.421875 25.265625 0.953125 \r\nQ 20.953125 3.328125 18.109375 8.203125 \r\nz\r\nM 48.6875 27.296875 \r\nQ 48.6875 37.203125 44.609375 42.84375 \r\nQ 40.53125 48.484375 33.40625 48.484375 \r\nQ 26.265625 48.484375 22.1875 42.84375 \r\nQ 18.109375 37.203125 18.109375 27.296875 \r\nQ 18.109375 17.390625 22.1875 11.75 \r\nQ 26.265625 6.109375 33.40625 6.109375 \r\nQ 40.53125 6.109375 44.609375 11.75 \r\nQ 48.6875 17.390625 48.6875 27.296875 \r\nz\r\n\" id=\"DejaVuSans-112\"/>\r\n        <path d=\"M 41.109375 46.296875 \r\nQ 39.59375 47.171875 37.8125 47.578125 \r\nQ 36.03125 48 33.890625 48 \r\nQ 26.265625 48 22.1875 43.046875 \r\nQ 18.109375 38.09375 18.109375 28.8125 \r\nL 18.109375 0 \r\nL 9.078125 0 \r\nL 9.078125 54.6875 \r\nL 18.109375 54.6875 \r\nL 18.109375 46.1875 \r\nQ 20.953125 51.171875 25.484375 53.578125 \r\nQ 30.03125 56 36.53125 56 \r\nQ 37.453125 56 38.578125 55.875 \r\nQ 39.703125 55.765625 41.0625 55.515625 \r\nz\r\n\" id=\"DejaVuSans-114\"/>\r\n        <path d=\"M 9.421875 54.6875 \r\nL 18.40625 54.6875 \r\nL 18.40625 0 \r\nL 9.421875 0 \r\nz\r\nM 9.421875 75.984375 \r\nL 18.40625 75.984375 \r\nL 18.40625 64.59375 \r\nL 9.421875 64.59375 \r\nz\r\n\" id=\"DejaVuSans-105\"/>\r\n        <path d=\"M 48.78125 52.59375 \r\nL 48.78125 44.1875 \r\nQ 44.96875 46.296875 41.140625 47.34375 \r\nQ 37.3125 48.390625 33.40625 48.390625 \r\nQ 24.65625 48.390625 19.8125 42.84375 \r\nQ 14.984375 37.3125 14.984375 27.296875 \r\nQ 14.984375 17.28125 19.8125 11.734375 \r\nQ 24.65625 6.203125 33.40625 6.203125 \r\nQ 37.3125 6.203125 41.140625 7.25 \r\nQ 44.96875 8.296875 48.78125 10.40625 \r\nL 48.78125 2.09375 \r\nQ 45.015625 0.34375 40.984375 -0.53125 \r\nQ 36.96875 -1.421875 32.421875 -1.421875 \r\nQ 20.0625 -1.421875 12.78125 6.34375 \r\nQ 5.515625 14.109375 5.515625 27.296875 \r\nQ 5.515625 40.671875 12.859375 48.328125 \r\nQ 20.21875 56 33.015625 56 \r\nQ 37.15625 56 41.109375 55.140625 \r\nQ 45.0625 54.296875 48.78125 52.59375 \r\nz\r\n\" id=\"DejaVuSans-99\"/>\r\n        <path d=\"M 56.203125 29.59375 \r\nL 56.203125 25.203125 \r\nL 14.890625 25.203125 \r\nQ 15.484375 15.921875 20.484375 11.0625 \r\nQ 25.484375 6.203125 34.421875 6.203125 \r\nQ 39.59375 6.203125 44.453125 7.46875 \r\nQ 49.3125 8.734375 54.109375 11.28125 \r\nL 54.109375 2.78125 \r\nQ 49.265625 0.734375 44.1875 -0.34375 \r\nQ 39.109375 -1.421875 33.890625 -1.421875 \r\nQ 20.796875 -1.421875 13.15625 6.1875 \r\nQ 5.515625 13.8125 5.515625 26.8125 \r\nQ 5.515625 40.234375 12.765625 48.109375 \r\nQ 20.015625 56 32.328125 56 \r\nQ 43.359375 56 49.78125 48.890625 \r\nQ 56.203125 41.796875 56.203125 29.59375 \r\nz\r\nM 47.21875 32.234375 \r\nQ 47.125 39.59375 43.09375 43.984375 \r\nQ 39.0625 48.390625 32.421875 48.390625 \r\nQ 24.90625 48.390625 20.390625 44.140625 \r\nQ 15.875 39.890625 15.1875 32.171875 \r\nz\r\n\" id=\"DejaVuSans-101\"/>\r\n       </defs>\r\n       <use xlink:href=\"#DejaVuSans-112\"/>\r\n       <use x=\"63.476562\" xlink:href=\"#DejaVuSans-114\"/>\r\n       <use x=\"104.589844\" xlink:href=\"#DejaVuSans-105\"/>\r\n       <use x=\"132.373047\" xlink:href=\"#DejaVuSans-99\"/>\r\n       <use x=\"187.353516\" xlink:href=\"#DejaVuSans-101\"/>\r\n      </g>\r\n     </g>\r\n    </g>\r\n   </g>\r\n   <g id=\"matplotlib.axis_2\">\r\n    <g id=\"ytick_1\">\r\n     <g id=\"line2d_43\">\r\n      <defs>\r\n       <path d=\"M 0 0 \r\nL -3.5 0 \r\n\" id=\"m623d80a174\" style=\"stroke:#000000;stroke-width:0.8;\"/>\r\n      </defs>\r\n      <g>\r\n       <use style=\"stroke:#000000;stroke-width:0.8;\" x=\"38.482813\" xlink:href=\"#m623d80a174\" y=\"325.31426\"/>\r\n      </g>\r\n     </g>\r\n     <g id=\"text_43\">\r\n      <!-- −0.4 -->\r\n      <g transform=\"translate(7.2 329.113479)scale(0.1 -0.1)\">\r\n       <defs>\r\n        <path d=\"M 10.59375 35.5 \r\nL 73.1875 35.5 \r\nL 73.1875 27.203125 \r\nL 10.59375 27.203125 \r\nz\r\n\" id=\"DejaVuSans-8722\"/>\r\n        <path d=\"M 10.6875 12.40625 \r\nL 21 12.40625 \r\nL 21 0 \r\nL 10.6875 0 \r\nz\r\n\" id=\"DejaVuSans-46\"/>\r\n       </defs>\r\n       <use xlink:href=\"#DejaVuSans-8722\"/>\r\n       <use x=\"83.789062\" xlink:href=\"#DejaVuSans-48\"/>\r\n       <use x=\"147.412109\" xlink:href=\"#DejaVuSans-46\"/>\r\n       <use x=\"179.199219\" xlink:href=\"#DejaVuSans-52\"/>\r\n      </g>\r\n     </g>\r\n    </g>\r\n    <g id=\"ytick_2\">\r\n     <g id=\"line2d_44\">\r\n      <g>\r\n       <use style=\"stroke:#000000;stroke-width:0.8;\" x=\"38.482813\" xlink:href=\"#m623d80a174\" y=\"281.987288\"/>\r\n      </g>\r\n     </g>\r\n     <g id=\"text_44\">\r\n      <!-- −0.2 -->\r\n      <g transform=\"translate(7.2 285.786506)scale(0.1 -0.1)\">\r\n       <use xlink:href=\"#DejaVuSans-8722\"/>\r\n       <use x=\"83.789062\" xlink:href=\"#DejaVuSans-48\"/>\r\n       <use x=\"147.412109\" xlink:href=\"#DejaVuSans-46\"/>\r\n       <use x=\"179.199219\" xlink:href=\"#DejaVuSans-50\"/>\r\n      </g>\r\n     </g>\r\n    </g>\r\n    <g id=\"ytick_3\">\r\n     <g id=\"line2d_45\">\r\n      <g>\r\n       <use style=\"stroke:#000000;stroke-width:0.8;\" x=\"38.482813\" xlink:href=\"#m623d80a174\" y=\"238.660316\"/>\r\n      </g>\r\n     </g>\r\n     <g id=\"text_45\">\r\n      <!-- 0.0 -->\r\n      <g transform=\"translate(15.579688 242.459534)scale(0.1 -0.1)\">\r\n       <use xlink:href=\"#DejaVuSans-48\"/>\r\n       <use x=\"63.623047\" xlink:href=\"#DejaVuSans-46\"/>\r\n       <use x=\"95.410156\" xlink:href=\"#DejaVuSans-48\"/>\r\n      </g>\r\n     </g>\r\n    </g>\r\n    <g id=\"ytick_4\">\r\n     <g id=\"line2d_46\">\r\n      <g>\r\n       <use style=\"stroke:#000000;stroke-width:0.8;\" x=\"38.482813\" xlink:href=\"#m623d80a174\" y=\"195.333343\"/>\r\n      </g>\r\n     </g>\r\n     <g id=\"text_46\">\r\n      <!-- 0.2 -->\r\n      <g transform=\"translate(15.579688 199.132562)scale(0.1 -0.1)\">\r\n       <use xlink:href=\"#DejaVuSans-48\"/>\r\n       <use x=\"63.623047\" xlink:href=\"#DejaVuSans-46\"/>\r\n       <use x=\"95.410156\" xlink:href=\"#DejaVuSans-50\"/>\r\n      </g>\r\n     </g>\r\n    </g>\r\n    <g id=\"ytick_5\">\r\n     <g id=\"line2d_47\">\r\n      <g>\r\n       <use style=\"stroke:#000000;stroke-width:0.8;\" x=\"38.482813\" xlink:href=\"#m623d80a174\" y=\"152.006371\"/>\r\n      </g>\r\n     </g>\r\n     <g id=\"text_47\">\r\n      <!-- 0.4 -->\r\n      <g transform=\"translate(15.579688 155.80559)scale(0.1 -0.1)\">\r\n       <use xlink:href=\"#DejaVuSans-48\"/>\r\n       <use x=\"63.623047\" xlink:href=\"#DejaVuSans-46\"/>\r\n       <use x=\"95.410156\" xlink:href=\"#DejaVuSans-52\"/>\r\n      </g>\r\n     </g>\r\n    </g>\r\n    <g id=\"ytick_6\">\r\n     <g id=\"line2d_48\">\r\n      <g>\r\n       <use style=\"stroke:#000000;stroke-width:0.8;\" x=\"38.482813\" xlink:href=\"#m623d80a174\" y=\"108.679399\"/>\r\n      </g>\r\n     </g>\r\n     <g id=\"text_48\">\r\n      <!-- 0.6 -->\r\n      <g transform=\"translate(15.579688 112.478618)scale(0.1 -0.1)\">\r\n       <use xlink:href=\"#DejaVuSans-48\"/>\r\n       <use x=\"63.623047\" xlink:href=\"#DejaVuSans-46\"/>\r\n       <use x=\"95.410156\" xlink:href=\"#DejaVuSans-54\"/>\r\n      </g>\r\n     </g>\r\n    </g>\r\n    <g id=\"ytick_7\">\r\n     <g id=\"line2d_49\">\r\n      <g>\r\n       <use style=\"stroke:#000000;stroke-width:0.8;\" x=\"38.482813\" xlink:href=\"#m623d80a174\" y=\"65.352427\"/>\r\n      </g>\r\n     </g>\r\n     <g id=\"text_49\">\r\n      <!-- 0.8 -->\r\n      <g transform=\"translate(15.579688 69.151645)scale(0.1 -0.1)\">\r\n       <use xlink:href=\"#DejaVuSans-48\"/>\r\n       <use x=\"63.623047\" xlink:href=\"#DejaVuSans-46\"/>\r\n       <use x=\"95.410156\" xlink:href=\"#DejaVuSans-56\"/>\r\n      </g>\r\n     </g>\r\n    </g>\r\n    <g id=\"ytick_8\">\r\n     <g id=\"line2d_50\">\r\n      <g>\r\n       <use style=\"stroke:#000000;stroke-width:0.8;\" x=\"38.482813\" xlink:href=\"#m623d80a174\" y=\"22.025455\"/>\r\n      </g>\r\n     </g>\r\n     <g id=\"text_50\">\r\n      <!-- 1.0 -->\r\n      <g transform=\"translate(15.579688 25.824673)scale(0.1 -0.1)\">\r\n       <use xlink:href=\"#DejaVuSans-49\"/>\r\n       <use x=\"63.623047\" xlink:href=\"#DejaVuSans-46\"/>\r\n       <use x=\"95.410156\" xlink:href=\"#DejaVuSans-48\"/>\r\n      </g>\r\n     </g>\r\n    </g>\r\n   </g>\r\n   <g id=\"patch_45\">\r\n    <path d=\"M 38.482813 333.36 \r\nL 38.482813 7.2 \r\n\" style=\"fill:none;stroke:#000000;stroke-linecap:square;stroke-linejoin:miter;stroke-width:0.8;\"/>\r\n   </g>\r\n   <g id=\"patch_46\">\r\n    <path d=\"M 875.482813 333.36 \r\nL 875.482813 7.2 \r\n\" style=\"fill:none;stroke:#000000;stroke-linecap:square;stroke-linejoin:miter;stroke-width:0.8;\"/>\r\n   </g>\r\n   <g id=\"patch_47\">\r\n    <path d=\"M 38.482813 333.36 \r\nL 875.482812 333.36 \r\n\" style=\"fill:none;stroke:#000000;stroke-linecap:square;stroke-linejoin:miter;stroke-width:0.8;\"/>\r\n   </g>\r\n   <g id=\"patch_48\">\r\n    <path d=\"M 38.482813 7.2 \r\nL 875.482812 7.2 \r\n\" style=\"fill:none;stroke:#000000;stroke-linecap:square;stroke-linejoin:miter;stroke-width:0.8;\"/>\r\n   </g>\r\n  </g>\r\n </g>\r\n <defs>\r\n  <clipPath id=\"p09a26c7000\">\r\n   <rect height=\"326.16\" width=\"837\" x=\"38.482813\" y=\"7.2\"/>\r\n  </clipPath>\r\n </defs>\r\n</svg>\r\n",
      "image/png": "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\n"
     },
     "metadata": {
      "needs_background": "light"
     }
    }
   ],
   "source": [
    "newdf.corrwith(newdf['price']).plot.bar(figsize=(15,6))"
=======
       "(814, 40)"
      ]
     },
     "metadata": {},
     "execution_count": 15
    }
   ],
   "source": [
    "X.shape"
   ]
  },
  {
   "cell_type": "code",
   "execution_count": 16,
   "metadata": {},
   "outputs": [],
   "source": [
    "X = np.append(np.ones((814,1)),values=X,axis=1)"
>>>>>>> b76659e7f17657d41387540279ef7eff4469e0cd
   ]
  },
  {
   "cell_type": "code",
<<<<<<< HEAD
   "execution_count": 35,
=======
   "execution_count": 83,
>>>>>>> b76659e7f17657d41387540279ef7eff4469e0cd
   "metadata": {},
   "outputs": [
    {
     "output_type": "execute_result",
     "data": {
      "text/plain": [
       "<class 'statsmodels.iolib.summary.Summary'>\n",
       "\"\"\"\n",
<<<<<<< HEAD
       "                                 OLS Regression Results                                \n",
       "=======================================================================================\n",
       "Dep. Variable:                  Price   R-squared (uncentered):                   0.960\n",
       "Model:                            OLS   Adj. R-squared (uncentered):              0.960\n",
       "Method:                 Least Squares   F-statistic:                              6519.\n",
       "Date:                Thu, 05 Nov 2020   Prob (F-statistic):                        0.00\n",
       "Time:                        15:40:09   Log-Likelihood:                         -9988.3\n",
       "No. Observations:                 814   AIC:                                  1.998e+04\n",
       "Df Residuals:                     811   BIC:                                  2.000e+04\n",
       "Df Model:                           3                                                  \n",
       "Covariance Type:            nonrobust                                                  \n",
       "==============================================================================\n",
       "                 coef    std err          t      P>|t|      [0.025      0.975]\n",
       "------------------------------------------------------------------------------\n",
       "x1          1.174e+04   2398.688      4.893      0.000    7028.062    1.64e+04\n",
       "x2          7254.6624   4030.565      1.800      0.072    -656.906    1.52e+04\n",
       "x3           116.5047      4.307     27.047      0.000     108.050     124.960\n",
       "==============================================================================\n",
       "Omnibus:                      459.287   Durbin-Watson:                   1.851\n",
       "Prob(Omnibus):                  0.000   Jarque-Bera (JB):           113242.939\n",
       "Skew:                          -1.364   Prob(JB):                         0.00\n",
       "Kurtosis:                      60.718   Cond. No.                     4.11e+03\n",
       "==============================================================================\n",
       "\n",
       "Notes:\n",
       "[1] R² is computed without centering (uncentered) since the model does not contain a constant.\n",
       "[2] Standard Errors assume that the covariance matrix of the errors is correctly specified.\n",
       "[3] The condition number is large, 4.11e+03. This might indicate that there are\n",
       "strong multicollinearity or other numerical problems.\n",
       "\"\"\""
      ],
      "text/html": "<table class=\"simpletable\">\n<caption>OLS Regression Results</caption>\n<tr>\n  <th>Dep. Variable:</th>          <td>Price</td>      <th>  R-squared (uncentered):</th>      <td>   0.960</td> \n</tr>\n<tr>\n  <th>Model:</th>                   <td>OLS</td>       <th>  Adj. R-squared (uncentered):</th> <td>   0.960</td> \n</tr>\n<tr>\n  <th>Method:</th>             <td>Least Squares</td>  <th>  F-statistic:       </th>          <td>   6519.</td> \n</tr>\n<tr>\n  <th>Date:</th>             <td>Thu, 05 Nov 2020</td> <th>  Prob (F-statistic):</th>           <td>  0.00</td>  \n</tr>\n<tr>\n  <th>Time:</th>                 <td>15:40:09</td>     <th>  Log-Likelihood:    </th>          <td> -9988.3</td> \n</tr>\n<tr>\n  <th>No. Observations:</th>      <td>   814</td>      <th>  AIC:               </th>          <td>1.998e+04</td>\n</tr>\n<tr>\n  <th>Df Residuals:</th>          <td>   811</td>      <th>  BIC:               </th>          <td>2.000e+04</td>\n</tr>\n<tr>\n  <th>Df Model:</th>              <td>     3</td>      <th>                     </th>              <td> </td>    \n</tr>\n<tr>\n  <th>Covariance Type:</th>      <td>nonrobust</td>    <th>                     </th>              <td> </td>    \n</tr>\n</table>\n<table class=\"simpletable\">\n<tr>\n   <td></td>     <th>coef</th>     <th>std err</th>      <th>t</th>      <th>P>|t|</th>  <th>[0.025</th>    <th>0.975]</th>  \n</tr>\n<tr>\n  <th>x1</th> <td> 1.174e+04</td> <td> 2398.688</td> <td>    4.893</td> <td> 0.000</td> <td> 7028.062</td> <td> 1.64e+04</td>\n</tr>\n<tr>\n  <th>x2</th> <td> 7254.6624</td> <td> 4030.565</td> <td>    1.800</td> <td> 0.072</td> <td> -656.906</td> <td> 1.52e+04</td>\n</tr>\n<tr>\n  <th>x3</th> <td>  116.5047</td> <td>    4.307</td> <td>   27.047</td> <td> 0.000</td> <td>  108.050</td> <td>  124.960</td>\n</tr>\n</table>\n<table class=\"simpletable\">\n<tr>\n  <th>Omnibus:</th>       <td>459.287</td> <th>  Durbin-Watson:     </th>  <td>   1.851</td> \n</tr>\n<tr>\n  <th>Prob(Omnibus):</th> <td> 0.000</td>  <th>  Jarque-Bera (JB):  </th> <td>113242.939</td>\n</tr>\n<tr>\n  <th>Skew:</th>          <td>-1.364</td>  <th>  Prob(JB):          </th>  <td>    0.00</td> \n</tr>\n<tr>\n  <th>Kurtosis:</th>      <td>60.718</td>  <th>  Cond. No.          </th>  <td>4.11e+03</td> \n</tr>\n</table><br/><br/>Notes:<br/>[1] R² is computed without centering (uncentered) since the model does not contain a constant.<br/>[2] Standard Errors assume that the covariance matrix of the errors is correctly specified.<br/>[3] The condition number is large, 4.11e+03. This might indicate that there are<br/>strong multicollinearity or other numerical problems."
     },
     "metadata": {},
     "execution_count": 35
    }
   ],
   "source": [
    "X_opt = X[:,[38,39,40]]\n",
=======
       "                            OLS Regression Results                            \n",
       "==============================================================================\n",
       "Dep. Variable:                  Price   R-squared:                       0.881\n",
       "Model:                            OLS   Adj. R-squared:                  0.878\n",
       "Method:                 Least Squares   F-statistic:                     367.6\n",
       "Date:                Wed, 04 Nov 2020   Prob (F-statistic):               0.00\n",
       "Time:                        11:40:24   Log-Likelihood:                -9640.7\n",
       "No. Observations:                 814   AIC:                         1.932e+04\n",
       "Df Residuals:                     797   BIC:                         1.940e+04\n",
       "Df Model:                          16                                         \n",
       "Covariance Type:            nonrobust                                         \n",
       "==============================================================================\n",
       "                 coef    std err          t      P>|t|      [0.025      0.975]\n",
       "------------------------------------------------------------------------------\n",
       "const       2.968e+04   3269.304      9.079      0.000    2.33e+04    3.61e+04\n",
       "x1           127.9755      1.928     66.384      0.000     124.191     131.760\n",
       "x2          1.143e+05   1.97e+04      5.805      0.000    7.57e+04    1.53e+05\n",
       "x3          1.224e+05   3.41e+04      3.591      0.000    5.55e+04    1.89e+05\n",
       "x4          7.689e+04   7716.227      9.964      0.000    6.17e+04     9.2e+04\n",
       "x5          6.985e+04   1.14e+04      6.118      0.000    4.74e+04    9.23e+04\n",
       "x6          1.098e+05   8966.462     12.242      0.000    9.22e+04    1.27e+05\n",
       "x7           902.2751   7717.606      0.117      0.907   -1.42e+04    1.61e+04\n",
       "x8          8.274e+04   1.97e+04      4.194      0.000     4.4e+04    1.21e+05\n",
       "x9          3.255e+05   3.41e+04      9.556      0.000    2.59e+05    3.92e+05\n",
       "x10         5.064e+04   1.97e+04      2.571      0.010     1.2e+04    8.93e+04\n",
       "x11        -7612.0503   2.43e+04     -0.314      0.754   -5.52e+04       4e+04\n",
       "x12         1.114e+04   9930.133      1.122      0.262   -8351.439    3.06e+04\n",
       "x13        -7.628e+05    3.5e+04    -21.771      0.000   -8.32e+05   -6.94e+05\n",
       "x14         1.306e+05   3.41e+04      3.833      0.000    6.37e+04    1.97e+05\n",
       "x15         6822.1176   3.41e+04      0.200      0.841   -6.01e+04    7.37e+04\n",
       "x16         1.614e+05   1.75e+04      9.237      0.000    1.27e+05    1.96e+05\n",
       "==============================================================================\n",
       "Omnibus:                      988.310   Durbin-Watson:                   1.860\n",
       "Prob(Omnibus):                  0.000   Jarque-Bera (JB):            96003.681\n",
       "Skew:                           6.147   Prob(JB):                         0.00\n",
       "Kurtosis:                      54.763   Cond. No.                     5.07e+04\n",
       "==============================================================================\n",
       "\n",
       "Notes:\n",
       "[1] Standard Errors assume that the covariance matrix of the errors is correctly specified.\n",
       "[2] The condition number is large, 5.07e+04. This might indicate that there are\n",
       "strong multicollinearity or other numerical problems.\n",
       "\"\"\""
      ],
      "text/html": "<table class=\"simpletable\">\n<caption>OLS Regression Results</caption>\n<tr>\n  <th>Dep. Variable:</th>          <td>Price</td>      <th>  R-squared:         </th> <td>   0.881</td> \n</tr>\n<tr>\n  <th>Model:</th>                   <td>OLS</td>       <th>  Adj. R-squared:    </th> <td>   0.878</td> \n</tr>\n<tr>\n  <th>Method:</th>             <td>Least Squares</td>  <th>  F-statistic:       </th> <td>   367.6</td> \n</tr>\n<tr>\n  <th>Date:</th>             <td>Wed, 04 Nov 2020</td> <th>  Prob (F-statistic):</th>  <td>  0.00</td>  \n</tr>\n<tr>\n  <th>Time:</th>                 <td>11:40:24</td>     <th>  Log-Likelihood:    </th> <td> -9640.7</td> \n</tr>\n<tr>\n  <th>No. Observations:</th>      <td>   814</td>      <th>  AIC:               </th> <td>1.932e+04</td>\n</tr>\n<tr>\n  <th>Df Residuals:</th>          <td>   797</td>      <th>  BIC:               </th> <td>1.940e+04</td>\n</tr>\n<tr>\n  <th>Df Model:</th>              <td>    16</td>      <th>                     </th>     <td> </td>    \n</tr>\n<tr>\n  <th>Covariance Type:</th>      <td>nonrobust</td>    <th>                     </th>     <td> </td>    \n</tr>\n</table>\n<table class=\"simpletable\">\n<tr>\n    <td></td>       <th>coef</th>     <th>std err</th>      <th>t</th>      <th>P>|t|</th>  <th>[0.025</th>    <th>0.975]</th>  \n</tr>\n<tr>\n  <th>const</th> <td> 2.968e+04</td> <td> 3269.304</td> <td>    9.079</td> <td> 0.000</td> <td> 2.33e+04</td> <td> 3.61e+04</td>\n</tr>\n<tr>\n  <th>x1</th>    <td>  127.9755</td> <td>    1.928</td> <td>   66.384</td> <td> 0.000</td> <td>  124.191</td> <td>  131.760</td>\n</tr>\n<tr>\n  <th>x2</th>    <td> 1.143e+05</td> <td> 1.97e+04</td> <td>    5.805</td> <td> 0.000</td> <td> 7.57e+04</td> <td> 1.53e+05</td>\n</tr>\n<tr>\n  <th>x3</th>    <td> 1.224e+05</td> <td> 3.41e+04</td> <td>    3.591</td> <td> 0.000</td> <td> 5.55e+04</td> <td> 1.89e+05</td>\n</tr>\n<tr>\n  <th>x4</th>    <td> 7.689e+04</td> <td> 7716.227</td> <td>    9.964</td> <td> 0.000</td> <td> 6.17e+04</td> <td>  9.2e+04</td>\n</tr>\n<tr>\n  <th>x5</th>    <td> 6.985e+04</td> <td> 1.14e+04</td> <td>    6.118</td> <td> 0.000</td> <td> 4.74e+04</td> <td> 9.23e+04</td>\n</tr>\n<tr>\n  <th>x6</th>    <td> 1.098e+05</td> <td> 8966.462</td> <td>   12.242</td> <td> 0.000</td> <td> 9.22e+04</td> <td> 1.27e+05</td>\n</tr>\n<tr>\n  <th>x7</th>    <td>  902.2751</td> <td> 7717.606</td> <td>    0.117</td> <td> 0.907</td> <td>-1.42e+04</td> <td> 1.61e+04</td>\n</tr>\n<tr>\n  <th>x8</th>    <td> 8.274e+04</td> <td> 1.97e+04</td> <td>    4.194</td> <td> 0.000</td> <td>  4.4e+04</td> <td> 1.21e+05</td>\n</tr>\n<tr>\n  <th>x9</th>    <td> 3.255e+05</td> <td> 3.41e+04</td> <td>    9.556</td> <td> 0.000</td> <td> 2.59e+05</td> <td> 3.92e+05</td>\n</tr>\n<tr>\n  <th>x10</th>   <td> 5.064e+04</td> <td> 1.97e+04</td> <td>    2.571</td> <td> 0.010</td> <td>  1.2e+04</td> <td> 8.93e+04</td>\n</tr>\n<tr>\n  <th>x11</th>   <td>-7612.0503</td> <td> 2.43e+04</td> <td>   -0.314</td> <td> 0.754</td> <td>-5.52e+04</td> <td>    4e+04</td>\n</tr>\n<tr>\n  <th>x12</th>   <td> 1.114e+04</td> <td> 9930.133</td> <td>    1.122</td> <td> 0.262</td> <td>-8351.439</td> <td> 3.06e+04</td>\n</tr>\n<tr>\n  <th>x13</th>   <td>-7.628e+05</td> <td>  3.5e+04</td> <td>  -21.771</td> <td> 0.000</td> <td>-8.32e+05</td> <td>-6.94e+05</td>\n</tr>\n<tr>\n  <th>x14</th>   <td> 1.306e+05</td> <td> 3.41e+04</td> <td>    3.833</td> <td> 0.000</td> <td> 6.37e+04</td> <td> 1.97e+05</td>\n</tr>\n<tr>\n  <th>x15</th>   <td> 6822.1176</td> <td> 3.41e+04</td> <td>    0.200</td> <td> 0.841</td> <td>-6.01e+04</td> <td> 7.37e+04</td>\n</tr>\n<tr>\n  <th>x16</th>   <td> 1.614e+05</td> <td> 1.75e+04</td> <td>    9.237</td> <td> 0.000</td> <td> 1.27e+05</td> <td> 1.96e+05</td>\n</tr>\n</table>\n<table class=\"simpletable\">\n<tr>\n  <th>Omnibus:</th>       <td>988.310</td> <th>  Durbin-Watson:     </th> <td>   1.860</td> \n</tr>\n<tr>\n  <th>Prob(Omnibus):</th> <td> 0.000</td>  <th>  Jarque-Bera (JB):  </th> <td>96003.681</td>\n</tr>\n<tr>\n  <th>Skew:</th>          <td> 6.147</td>  <th>  Prob(JB):          </th> <td>    0.00</td> \n</tr>\n<tr>\n  <th>Kurtosis:</th>      <td>54.763</td>  <th>  Cond. No.          </th> <td>5.07e+04</td> \n</tr>\n</table><br/><br/>Notes:<br/>[1] Standard Errors assume that the covariance matrix of the errors is correctly specified.<br/>[2] The condition number is large, 5.07e+04. This might indicate that there are<br/>strong multicollinearity or other numerical problems."
     },
     "metadata": {},
     "execution_count": 83
    }
   ],
   "source": [
    "z = [0,3,4,5,6,14,15,16,17,26,28,30,31,35,36,37,38]\n",
    "X_opt = X[:,z]\n",
>>>>>>> b76659e7f17657d41387540279ef7eff4469e0cd
    "regressor = sm.OLS(endog=y,exog=X_opt).fit()\n",
    "regressor.summary()"
   ]
  },
  {
   "cell_type": "code",
<<<<<<< HEAD
   "execution_count": 37,
   "metadata": {},
   "outputs": [],
   "source": [
    "trainx, testx, trainy, testy = train_test_split(X_opt,y,test_size=.2,random_state=0)"
   ]
  },
  {
   "cell_type": "code",
   "execution_count": 38,
   "metadata": {},
   "outputs": [
    {
     "output_type": "stream",
     "name": "stdout",
     "text": [
      "87.78990122184246\n"
     ]
    }
   ],
   "source": [
    "reg_model = LinearRegression()\n",
    "reg_model.fit(trainx,trainy)\n",
    "score_predict = reg_model.score(testx,testy) * 100\n",
    "print(score_predict)"
=======
   "execution_count": 84,
   "metadata": {},
   "outputs": [
    {
     "output_type": "execute_result",
     "data": {
      "text/plain": [
       "x7       9.069598e-01\n",
       "x15      8.414185e-01\n",
       "x11      7.537006e-01\n",
       "x12      2.622322e-01\n",
       "x10      1.033002e-02\n",
       "x3       3.494249e-04\n",
       "x14      1.365296e-04\n",
       "x8       3.051416e-05\n",
       "x2       9.306833e-09\n",
       "x5       1.488749e-09\n",
       "const    8.448303e-19\n",
       "x16      2.248079e-19\n",
       "x9       1.473126e-20\n",
       "x4       4.030878e-22\n",
       "x6       1.068613e-31\n",
       "x13      7.916157e-83\n",
       "x1       0.000000e+00\n",
       "dtype: float64"
      ]
     },
     "metadata": {},
     "execution_count": 84
    }
   ],
   "source": [
    "regressor.pvalues.sort_values(ascending=False)"
>>>>>>> b76659e7f17657d41387540279ef7eff4469e0cd
   ]
  },
  {
   "cell_type": "code",
   "execution_count": null,
   "metadata": {},
   "outputs": [],
   "source": []
  }
 ]
}