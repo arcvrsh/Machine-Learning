{
 "metadata": {
  "language_info": {
   "codemirror_mode": {
    "name": "ipython",
    "version": 3
   },
   "file_extension": ".py",
   "mimetype": "text/x-python",
   "name": "python",
   "nbconvert_exporter": "python",
   "pygments_lexer": "ipython3",
   "version": "3.8.0-final"
  },
  "orig_nbformat": 2,
  "kernelspec": {
   "name": "python3",
   "display_name": "Python 3.8.0 64-bit",
   "metadata": {
    "interpreter": {
     "hash": "4d21c5017a3395ea95cb512be2638581094a384049928509a361c83b57b948d5"
    }
   }
  }
 },
 "nbformat": 4,
 "nbformat_minor": 2,
 "cells": [
  {
   "cell_type": "code",
   "execution_count": 5,
   "metadata": {},
   "outputs": [],
   "source": [
    "import pandas as pd \n",
    "import matplotlib.pyplot as plt\n",
    "import scipy.cluster.hierarchy as sch\n",
    "import plotly.express as px "
   ]
  },
  {
   "cell_type": "code",
   "execution_count": 6,
   "metadata": {},
   "outputs": [
    {
     "output_type": "execute_result",
     "data": {
      "text/plain": [
       "   CustomerID   Genre  Age  Annual Income (k$)  Spending Score (1-100)\n",
       "0           1    Male   19                  15                      39\n",
       "1           2    Male   21                  15                      81\n",
       "2           3  Female   20                  16                       6\n",
       "3           4  Female   23                  16                      77\n",
       "4           5  Female   31                  17                      40"
      ],
      "text/html": "<div>\n<style scoped>\n    .dataframe tbody tr th:only-of-type {\n        vertical-align: middle;\n    }\n\n    .dataframe tbody tr th {\n        vertical-align: top;\n    }\n\n    .dataframe thead th {\n        text-align: right;\n    }\n</style>\n<table border=\"1\" class=\"dataframe\">\n  <thead>\n    <tr style=\"text-align: right;\">\n      <th></th>\n      <th>CustomerID</th>\n      <th>Genre</th>\n      <th>Age</th>\n      <th>Annual Income (k$)</th>\n      <th>Spending Score (1-100)</th>\n    </tr>\n  </thead>\n  <tbody>\n    <tr>\n      <th>0</th>\n      <td>1</td>\n      <td>Male</td>\n      <td>19</td>\n      <td>15</td>\n      <td>39</td>\n    </tr>\n    <tr>\n      <th>1</th>\n      <td>2</td>\n      <td>Male</td>\n      <td>21</td>\n      <td>15</td>\n      <td>81</td>\n    </tr>\n    <tr>\n      <th>2</th>\n      <td>3</td>\n      <td>Female</td>\n      <td>20</td>\n      <td>16</td>\n      <td>6</td>\n    </tr>\n    <tr>\n      <th>3</th>\n      <td>4</td>\n      <td>Female</td>\n      <td>23</td>\n      <td>16</td>\n      <td>77</td>\n    </tr>\n    <tr>\n      <th>4</th>\n      <td>5</td>\n      <td>Female</td>\n      <td>31</td>\n      <td>17</td>\n      <td>40</td>\n    </tr>\n  </tbody>\n</table>\n</div>"
     },
     "metadata": {},
     "execution_count": 6
    }
   ],
   "source": [
    "df = pd.read_csv('../../datasets/Mall_Customers.csv')\n",
    "df.head()"
   ]
  },
  {
   "cell_type": "code",
   "execution_count": 7,
   "metadata": {},
   "outputs": [
    {
     "output_type": "execute_result",
     "data": {
      "text/plain": [
       "   Id  Gender  Age  Income  Spending_Score\n",
       "0   1    Male   19      15              39\n",
       "1   2    Male   21      15              81\n",
       "2   3  Female   20      16               6\n",
       "3   4  Female   23      16              77\n",
       "4   5  Female   31      17              40"
      ],
      "text/html": "<div>\n<style scoped>\n    .dataframe tbody tr th:only-of-type {\n        vertical-align: middle;\n    }\n\n    .dataframe tbody tr th {\n        vertical-align: top;\n    }\n\n    .dataframe thead th {\n        text-align: right;\n    }\n</style>\n<table border=\"1\" class=\"dataframe\">\n  <thead>\n    <tr style=\"text-align: right;\">\n      <th></th>\n      <th>Id</th>\n      <th>Gender</th>\n      <th>Age</th>\n      <th>Income</th>\n      <th>Spending_Score</th>\n    </tr>\n  </thead>\n  <tbody>\n    <tr>\n      <th>0</th>\n      <td>1</td>\n      <td>Male</td>\n      <td>19</td>\n      <td>15</td>\n      <td>39</td>\n    </tr>\n    <tr>\n      <th>1</th>\n      <td>2</td>\n      <td>Male</td>\n      <td>21</td>\n      <td>15</td>\n      <td>81</td>\n    </tr>\n    <tr>\n      <th>2</th>\n      <td>3</td>\n      <td>Female</td>\n      <td>20</td>\n      <td>16</td>\n      <td>6</td>\n    </tr>\n    <tr>\n      <th>3</th>\n      <td>4</td>\n      <td>Female</td>\n      <td>23</td>\n      <td>16</td>\n      <td>77</td>\n    </tr>\n    <tr>\n      <th>4</th>\n      <td>5</td>\n      <td>Female</td>\n      <td>31</td>\n      <td>17</td>\n      <td>40</td>\n    </tr>\n  </tbody>\n</table>\n</div>"
     },
     "metadata": {},
     "execution_count": 7
    }
   ],
   "source": [
    "df.columns = ['Id','Gender','Age','Income','Spending_Score']\n",
    "df.head()"
   ]
  },
  {
   "cell_type": "code",
   "execution_count": 8,
   "metadata": {},
   "outputs": [
    {
     "output_type": "execute_result",
     "data": {
      "text/plain": [
       "     Income  Spending_Score\n",
       "0        15              39\n",
       "1        15              81\n",
       "2        16               6\n",
       "3        16              77\n",
       "4        17              40\n",
       "..      ...             ...\n",
       "195     120              79\n",
       "196     126              28\n",
       "197     126              74\n",
       "198     137              18\n",
       "199     137              83\n",
       "\n",
       "[200 rows x 2 columns]"
      ],
      "text/html": "<div>\n<style scoped>\n    .dataframe tbody tr th:only-of-type {\n        vertical-align: middle;\n    }\n\n    .dataframe tbody tr th {\n        vertical-align: top;\n    }\n\n    .dataframe thead th {\n        text-align: right;\n    }\n</style>\n<table border=\"1\" class=\"dataframe\">\n  <thead>\n    <tr style=\"text-align: right;\">\n      <th></th>\n      <th>Income</th>\n      <th>Spending_Score</th>\n    </tr>\n  </thead>\n  <tbody>\n    <tr>\n      <th>0</th>\n      <td>15</td>\n      <td>39</td>\n    </tr>\n    <tr>\n      <th>1</th>\n      <td>15</td>\n      <td>81</td>\n    </tr>\n    <tr>\n      <th>2</th>\n      <td>16</td>\n      <td>6</td>\n    </tr>\n    <tr>\n      <th>3</th>\n      <td>16</td>\n      <td>77</td>\n    </tr>\n    <tr>\n      <th>4</th>\n      <td>17</td>\n      <td>40</td>\n    </tr>\n    <tr>\n      <th>...</th>\n      <td>...</td>\n      <td>...</td>\n    </tr>\n    <tr>\n      <th>195</th>\n      <td>120</td>\n      <td>79</td>\n    </tr>\n    <tr>\n      <th>196</th>\n      <td>126</td>\n      <td>28</td>\n    </tr>\n    <tr>\n      <th>197</th>\n      <td>126</td>\n      <td>74</td>\n    </tr>\n    <tr>\n      <th>198</th>\n      <td>137</td>\n      <td>18</td>\n    </tr>\n    <tr>\n      <th>199</th>\n      <td>137</td>\n      <td>83</td>\n    </tr>\n  </tbody>\n</table>\n<p>200 rows × 2 columns</p>\n</div>"
     },
     "metadata": {},
     "execution_count": 8
    }
   ],
   "source": [
    "x = df[['Income','Spending_Score']]\n",
    "x"
   ]
  },
  {
   "source": [
    "## Dendrogram to find Clusters"
   ],
   "cell_type": "markdown",
   "metadata": {}
  },
  {
   "cell_type": "code",
   "execution_count": 20,
   "metadata": {},
   "outputs": [
    {
     "output_type": "display_data",
     "data": {
      "text/plain": "<Figure size 921.6x633.6 with 1 Axes>",
      "image/svg+xml": "<?xml version=\"1.0\" encoding=\"utf-8\" standalone=\"no\"?>\r\n<!DOCTYPE svg PUBLIC \"-//W3C//DTD SVG 1.1//EN\"\r\n  \"http://www.w3.org/Graphics/SVG/1.1/DTD/svg11.dtd\">\r\n<!-- Created with matplotlib (https://matplotlib.org/) -->\r\n<svg height=\"534.3905pt\" version=\"1.1\" viewBox=\"0 0 794.9135 534.3905\" width=\"794.9135pt\" xmlns=\"http://www.w3.org/2000/svg\" xmlns:xlink=\"http://www.w3.org/1999/xlink\">\r\n <metadata>\r\n  <rdf:RDF xmlns:cc=\"http://creativecommons.org/ns#\" xmlns:dc=\"http://purl.org/dc/elements/1.1/\" xmlns:rdf=\"http://www.w3.org/1999/02/22-rdf-syntax-ns#\">\r\n   <cc:Work>\r\n    <dc:type rdf:resource=\"http://purl.org/dc/dcmitype/StillImage\"/>\r\n    <dc:date>2020-12-11T16:25:35.683983</dc:date>\r\n    <dc:format>image/svg+xml</dc:format>\r\n    <dc:creator>\r\n     <cc:Agent>\r\n      <dc:title>Matplotlib v3.3.2, https://matplotlib.org/</dc:title>\r\n     </cc:Agent>\r\n    </dc:creator>\r\n   </cc:Work>\r\n  </rdf:RDF>\r\n </metadata>\r\n <defs>\r\n  <style type=\"text/css\">*{stroke-linecap:butt;stroke-linejoin:round;}</style>\r\n </defs>\r\n <g id=\"figure_1\">\r\n  <g id=\"patch_1\">\r\n   <path d=\"M 0 534.3905 \r\nL 794.9135 534.3905 \r\nL 794.9135 0 \r\nL 0 0 \r\nz\r\n\" style=\"fill:none;\"/>\r\n  </g>\r\n  <g id=\"axes_1\">\r\n   <g id=\"patch_2\">\r\n    <path d=\"M 73.4735 506.157 \r\nL 787.7135 506.157 \r\nL 787.7135 27.789 \r\nL 73.4735 27.789 \r\nz\r\n\" style=\"fill:#ffffff;\"/>\r\n   </g>\r\n   <g id=\"matplotlib.axis_1\">\r\n    <g id=\"text_1\">\r\n     <!-- Customers dataset -->\r\n     <g transform=\"translate(347.197 523.53025)scale(0.176 -0.176)\">\r\n      <defs>\r\n       <path d=\"M 64.40625 67.28125 \r\nL 64.40625 56.890625 \r\nQ 59.421875 61.53125 53.78125 63.8125 \r\nQ 48.140625 66.109375 41.796875 66.109375 \r\nQ 29.296875 66.109375 22.65625 58.46875 \r\nQ 16.015625 50.828125 16.015625 36.375 \r\nQ 16.015625 21.96875 22.65625 14.328125 \r\nQ 29.296875 6.6875 41.796875 6.6875 \r\nQ 48.140625 6.6875 53.78125 8.984375 \r\nQ 59.421875 11.28125 64.40625 15.921875 \r\nL 64.40625 5.609375 \r\nQ 59.234375 2.09375 53.4375 0.328125 \r\nQ 47.65625 -1.421875 41.21875 -1.421875 \r\nQ 24.65625 -1.421875 15.125 8.703125 \r\nQ 5.609375 18.84375 5.609375 36.375 \r\nQ 5.609375 53.953125 15.125 64.078125 \r\nQ 24.65625 74.21875 41.21875 74.21875 \r\nQ 47.75 74.21875 53.53125 72.484375 \r\nQ 59.328125 70.75 64.40625 67.28125 \r\nz\r\n\" id=\"DejaVuSans-67\"/>\r\n       <path d=\"M 8.5 21.578125 \r\nL 8.5 54.6875 \r\nL 17.484375 54.6875 \r\nL 17.484375 21.921875 \r\nQ 17.484375 14.15625 20.5 10.265625 \r\nQ 23.53125 6.390625 29.59375 6.390625 \r\nQ 36.859375 6.390625 41.078125 11.03125 \r\nQ 45.3125 15.671875 45.3125 23.6875 \r\nL 45.3125 54.6875 \r\nL 54.296875 54.6875 \r\nL 54.296875 0 \r\nL 45.3125 0 \r\nL 45.3125 8.40625 \r\nQ 42.046875 3.421875 37.71875 1 \r\nQ 33.40625 -1.421875 27.6875 -1.421875 \r\nQ 18.265625 -1.421875 13.375 4.4375 \r\nQ 8.5 10.296875 8.5 21.578125 \r\nz\r\nM 31.109375 56 \r\nz\r\n\" id=\"DejaVuSans-117\"/>\r\n       <path d=\"M 44.28125 53.078125 \r\nL 44.28125 44.578125 \r\nQ 40.484375 46.53125 36.375 47.5 \r\nQ 32.28125 48.484375 27.875 48.484375 \r\nQ 21.1875 48.484375 17.84375 46.4375 \r\nQ 14.5 44.390625 14.5 40.28125 \r\nQ 14.5 37.15625 16.890625 35.375 \r\nQ 19.28125 33.59375 26.515625 31.984375 \r\nL 29.59375 31.296875 \r\nQ 39.15625 29.25 43.1875 25.515625 \r\nQ 47.21875 21.78125 47.21875 15.09375 \r\nQ 47.21875 7.46875 41.1875 3.015625 \r\nQ 35.15625 -1.421875 24.609375 -1.421875 \r\nQ 20.21875 -1.421875 15.453125 -0.5625 \r\nQ 10.6875 0.296875 5.421875 2 \r\nL 5.421875 11.28125 \r\nQ 10.40625 8.6875 15.234375 7.390625 \r\nQ 20.0625 6.109375 24.8125 6.109375 \r\nQ 31.15625 6.109375 34.5625 8.28125 \r\nQ 37.984375 10.453125 37.984375 14.40625 \r\nQ 37.984375 18.0625 35.515625 20.015625 \r\nQ 33.0625 21.96875 24.703125 23.78125 \r\nL 21.578125 24.515625 \r\nQ 13.234375 26.265625 9.515625 29.90625 \r\nQ 5.8125 33.546875 5.8125 39.890625 \r\nQ 5.8125 47.609375 11.28125 51.796875 \r\nQ 16.75 56 26.8125 56 \r\nQ 31.78125 56 36.171875 55.265625 \r\nQ 40.578125 54.546875 44.28125 53.078125 \r\nz\r\n\" id=\"DejaVuSans-115\"/>\r\n       <path d=\"M 18.3125 70.21875 \r\nL 18.3125 54.6875 \r\nL 36.8125 54.6875 \r\nL 36.8125 47.703125 \r\nL 18.3125 47.703125 \r\nL 18.3125 18.015625 \r\nQ 18.3125 11.328125 20.140625 9.421875 \r\nQ 21.96875 7.515625 27.59375 7.515625 \r\nL 36.8125 7.515625 \r\nL 36.8125 0 \r\nL 27.59375 0 \r\nQ 17.1875 0 13.234375 3.875 \r\nQ 9.28125 7.765625 9.28125 18.015625 \r\nL 9.28125 47.703125 \r\nL 2.6875 47.703125 \r\nL 2.6875 54.6875 \r\nL 9.28125 54.6875 \r\nL 9.28125 70.21875 \r\nz\r\n\" id=\"DejaVuSans-116\"/>\r\n       <path d=\"M 30.609375 48.390625 \r\nQ 23.390625 48.390625 19.1875 42.75 \r\nQ 14.984375 37.109375 14.984375 27.296875 \r\nQ 14.984375 17.484375 19.15625 11.84375 \r\nQ 23.34375 6.203125 30.609375 6.203125 \r\nQ 37.796875 6.203125 41.984375 11.859375 \r\nQ 46.1875 17.53125 46.1875 27.296875 \r\nQ 46.1875 37.015625 41.984375 42.703125 \r\nQ 37.796875 48.390625 30.609375 48.390625 \r\nz\r\nM 30.609375 56 \r\nQ 42.328125 56 49.015625 48.375 \r\nQ 55.71875 40.765625 55.71875 27.296875 \r\nQ 55.71875 13.875 49.015625 6.21875 \r\nQ 42.328125 -1.421875 30.609375 -1.421875 \r\nQ 18.84375 -1.421875 12.171875 6.21875 \r\nQ 5.515625 13.875 5.515625 27.296875 \r\nQ 5.515625 40.765625 12.171875 48.375 \r\nQ 18.84375 56 30.609375 56 \r\nz\r\n\" id=\"DejaVuSans-111\"/>\r\n       <path d=\"M 52 44.1875 \r\nQ 55.375 50.25 60.0625 53.125 \r\nQ 64.75 56 71.09375 56 \r\nQ 79.640625 56 84.28125 50.015625 \r\nQ 88.921875 44.046875 88.921875 33.015625 \r\nL 88.921875 0 \r\nL 79.890625 0 \r\nL 79.890625 32.71875 \r\nQ 79.890625 40.578125 77.09375 44.375 \r\nQ 74.3125 48.1875 68.609375 48.1875 \r\nQ 61.625 48.1875 57.5625 43.546875 \r\nQ 53.515625 38.921875 53.515625 30.90625 \r\nL 53.515625 0 \r\nL 44.484375 0 \r\nL 44.484375 32.71875 \r\nQ 44.484375 40.625 41.703125 44.40625 \r\nQ 38.921875 48.1875 33.109375 48.1875 \r\nQ 26.21875 48.1875 22.15625 43.53125 \r\nQ 18.109375 38.875 18.109375 30.90625 \r\nL 18.109375 0 \r\nL 9.078125 0 \r\nL 9.078125 54.6875 \r\nL 18.109375 54.6875 \r\nL 18.109375 46.1875 \r\nQ 21.1875 51.21875 25.484375 53.609375 \r\nQ 29.78125 56 35.6875 56 \r\nQ 41.65625 56 45.828125 52.96875 \r\nQ 50 49.953125 52 44.1875 \r\nz\r\n\" id=\"DejaVuSans-109\"/>\r\n       <path d=\"M 56.203125 29.59375 \r\nL 56.203125 25.203125 \r\nL 14.890625 25.203125 \r\nQ 15.484375 15.921875 20.484375 11.0625 \r\nQ 25.484375 6.203125 34.421875 6.203125 \r\nQ 39.59375 6.203125 44.453125 7.46875 \r\nQ 49.3125 8.734375 54.109375 11.28125 \r\nL 54.109375 2.78125 \r\nQ 49.265625 0.734375 44.1875 -0.34375 \r\nQ 39.109375 -1.421875 33.890625 -1.421875 \r\nQ 20.796875 -1.421875 13.15625 6.1875 \r\nQ 5.515625 13.8125 5.515625 26.8125 \r\nQ 5.515625 40.234375 12.765625 48.109375 \r\nQ 20.015625 56 32.328125 56 \r\nQ 43.359375 56 49.78125 48.890625 \r\nQ 56.203125 41.796875 56.203125 29.59375 \r\nz\r\nM 47.21875 32.234375 \r\nQ 47.125 39.59375 43.09375 43.984375 \r\nQ 39.0625 48.390625 32.421875 48.390625 \r\nQ 24.90625 48.390625 20.390625 44.140625 \r\nQ 15.875 39.890625 15.1875 32.171875 \r\nz\r\n\" id=\"DejaVuSans-101\"/>\r\n       <path d=\"M 41.109375 46.296875 \r\nQ 39.59375 47.171875 37.8125 47.578125 \r\nQ 36.03125 48 33.890625 48 \r\nQ 26.265625 48 22.1875 43.046875 \r\nQ 18.109375 38.09375 18.109375 28.8125 \r\nL 18.109375 0 \r\nL 9.078125 0 \r\nL 9.078125 54.6875 \r\nL 18.109375 54.6875 \r\nL 18.109375 46.1875 \r\nQ 20.953125 51.171875 25.484375 53.578125 \r\nQ 30.03125 56 36.53125 56 \r\nQ 37.453125 56 38.578125 55.875 \r\nQ 39.703125 55.765625 41.0625 55.515625 \r\nz\r\n\" id=\"DejaVuSans-114\"/>\r\n       <path id=\"DejaVuSans-32\"/>\r\n       <path d=\"M 45.40625 46.390625 \r\nL 45.40625 75.984375 \r\nL 54.390625 75.984375 \r\nL 54.390625 0 \r\nL 45.40625 0 \r\nL 45.40625 8.203125 \r\nQ 42.578125 3.328125 38.25 0.953125 \r\nQ 33.9375 -1.421875 27.875 -1.421875 \r\nQ 17.96875 -1.421875 11.734375 6.484375 \r\nQ 5.515625 14.40625 5.515625 27.296875 \r\nQ 5.515625 40.1875 11.734375 48.09375 \r\nQ 17.96875 56 27.875 56 \r\nQ 33.9375 56 38.25 53.625 \r\nQ 42.578125 51.265625 45.40625 46.390625 \r\nz\r\nM 14.796875 27.296875 \r\nQ 14.796875 17.390625 18.875 11.75 \r\nQ 22.953125 6.109375 30.078125 6.109375 \r\nQ 37.203125 6.109375 41.296875 11.75 \r\nQ 45.40625 17.390625 45.40625 27.296875 \r\nQ 45.40625 37.203125 41.296875 42.84375 \r\nQ 37.203125 48.484375 30.078125 48.484375 \r\nQ 22.953125 48.484375 18.875 42.84375 \r\nQ 14.796875 37.203125 14.796875 27.296875 \r\nz\r\n\" id=\"DejaVuSans-100\"/>\r\n       <path d=\"M 34.28125 27.484375 \r\nQ 23.390625 27.484375 19.1875 25 \r\nQ 14.984375 22.515625 14.984375 16.5 \r\nQ 14.984375 11.71875 18.140625 8.90625 \r\nQ 21.296875 6.109375 26.703125 6.109375 \r\nQ 34.1875 6.109375 38.703125 11.40625 \r\nQ 43.21875 16.703125 43.21875 25.484375 \r\nL 43.21875 27.484375 \r\nz\r\nM 52.203125 31.203125 \r\nL 52.203125 0 \r\nL 43.21875 0 \r\nL 43.21875 8.296875 \r\nQ 40.140625 3.328125 35.546875 0.953125 \r\nQ 30.953125 -1.421875 24.3125 -1.421875 \r\nQ 15.921875 -1.421875 10.953125 3.296875 \r\nQ 6 8.015625 6 15.921875 \r\nQ 6 25.140625 12.171875 29.828125 \r\nQ 18.359375 34.515625 30.609375 34.515625 \r\nL 43.21875 34.515625 \r\nL 43.21875 35.40625 \r\nQ 43.21875 41.609375 39.140625 45 \r\nQ 35.0625 48.390625 27.6875 48.390625 \r\nQ 23 48.390625 18.546875 47.265625 \r\nQ 14.109375 46.140625 10.015625 43.890625 \r\nL 10.015625 52.203125 \r\nQ 14.9375 54.109375 19.578125 55.046875 \r\nQ 24.21875 56 28.609375 56 \r\nQ 40.484375 56 46.34375 49.84375 \r\nQ 52.203125 43.703125 52.203125 31.203125 \r\nz\r\n\" id=\"DejaVuSans-97\"/>\r\n      </defs>\r\n      <use xlink:href=\"#DejaVuSans-67\"/>\r\n      <use x=\"69.824219\" xlink:href=\"#DejaVuSans-117\"/>\r\n      <use x=\"133.203125\" xlink:href=\"#DejaVuSans-115\"/>\r\n      <use x=\"185.302734\" xlink:href=\"#DejaVuSans-116\"/>\r\n      <use x=\"224.511719\" xlink:href=\"#DejaVuSans-111\"/>\r\n      <use x=\"285.693359\" xlink:href=\"#DejaVuSans-109\"/>\r\n      <use x=\"383.105469\" xlink:href=\"#DejaVuSans-101\"/>\r\n      <use x=\"444.628906\" xlink:href=\"#DejaVuSans-114\"/>\r\n      <use x=\"485.742188\" xlink:href=\"#DejaVuSans-115\"/>\r\n      <use x=\"537.841797\" xlink:href=\"#DejaVuSans-32\"/>\r\n      <use x=\"569.628906\" xlink:href=\"#DejaVuSans-100\"/>\r\n      <use x=\"633.105469\" xlink:href=\"#DejaVuSans-97\"/>\r\n      <use x=\"694.384766\" xlink:href=\"#DejaVuSans-116\"/>\r\n      <use x=\"733.59375\" xlink:href=\"#DejaVuSans-97\"/>\r\n      <use x=\"794.873047\" xlink:href=\"#DejaVuSans-115\"/>\r\n      <use x=\"846.972656\" xlink:href=\"#DejaVuSans-101\"/>\r\n      <use x=\"908.496094\" xlink:href=\"#DejaVuSans-116\"/>\r\n     </g>\r\n    </g>\r\n   </g>\r\n   <g id=\"matplotlib.axis_2\">\r\n    <g id=\"ytick_1\">\r\n     <g id=\"line2d_1\">\r\n      <defs>\r\n       <path d=\"M 0 0 \r\nL -3.5 0 \r\n\" id=\"madcb2358bb\" style=\"stroke:#000000;stroke-width:1.6;\"/>\r\n      </defs>\r\n      <g>\r\n       <use style=\"stroke:#000000;stroke-width:1.6;\" x=\"73.4735\" xlink:href=\"#madcb2358bb\" y=\"506.157\"/>\r\n      </g>\r\n     </g>\r\n     <g id=\"text_2\">\r\n      <!-- 0 -->\r\n      <g transform=\"translate(48.5935 512.23575)scale(0.16 -0.16)\">\r\n       <defs>\r\n        <path d=\"M 31.78125 66.40625 \r\nQ 24.171875 66.40625 20.328125 58.90625 \r\nQ 16.5 51.421875 16.5 36.375 \r\nQ 16.5 21.390625 20.328125 13.890625 \r\nQ 24.171875 6.390625 31.78125 6.390625 \r\nQ 39.453125 6.390625 43.28125 13.890625 \r\nQ 47.125 21.390625 47.125 36.375 \r\nQ 47.125 51.421875 43.28125 58.90625 \r\nQ 39.453125 66.40625 31.78125 66.40625 \r\nz\r\nM 31.78125 74.21875 \r\nQ 44.046875 74.21875 50.515625 64.515625 \r\nQ 56.984375 54.828125 56.984375 36.375 \r\nQ 56.984375 17.96875 50.515625 8.265625 \r\nQ 44.046875 -1.421875 31.78125 -1.421875 \r\nQ 19.53125 -1.421875 13.0625 8.265625 \r\nQ 6.59375 17.96875 6.59375 36.375 \r\nQ 6.59375 54.828125 13.0625 64.515625 \r\nQ 19.53125 74.21875 31.78125 74.21875 \r\nz\r\n\" id=\"DejaVuSans-48\"/>\r\n       </defs>\r\n       <use xlink:href=\"#DejaVuSans-48\"/>\r\n      </g>\r\n     </g>\r\n    </g>\r\n    <g id=\"ytick_2\">\r\n     <g id=\"line2d_2\">\r\n      <g>\r\n       <use style=\"stroke:#000000;stroke-width:1.6;\" x=\"73.4735\" xlink:href=\"#madcb2358bb\" y=\"450.003013\"/>\r\n      </g>\r\n     </g>\r\n     <g id=\"text_3\">\r\n      <!-- 50 -->\r\n      <g transform=\"translate(38.4135 456.081763)scale(0.16 -0.16)\">\r\n       <defs>\r\n        <path d=\"M 10.796875 72.90625 \r\nL 49.515625 72.90625 \r\nL 49.515625 64.59375 \r\nL 19.828125 64.59375 \r\nL 19.828125 46.734375 \r\nQ 21.96875 47.46875 24.109375 47.828125 \r\nQ 26.265625 48.1875 28.421875 48.1875 \r\nQ 40.625 48.1875 47.75 41.5 \r\nQ 54.890625 34.8125 54.890625 23.390625 \r\nQ 54.890625 11.625 47.5625 5.09375 \r\nQ 40.234375 -1.421875 26.90625 -1.421875 \r\nQ 22.3125 -1.421875 17.546875 -0.640625 \r\nQ 12.796875 0.140625 7.71875 1.703125 \r\nL 7.71875 11.625 \r\nQ 12.109375 9.234375 16.796875 8.0625 \r\nQ 21.484375 6.890625 26.703125 6.890625 \r\nQ 35.15625 6.890625 40.078125 11.328125 \r\nQ 45.015625 15.765625 45.015625 23.390625 \r\nQ 45.015625 31 40.078125 35.4375 \r\nQ 35.15625 39.890625 26.703125 39.890625 \r\nQ 22.75 39.890625 18.8125 39.015625 \r\nQ 14.890625 38.140625 10.796875 36.28125 \r\nz\r\n\" id=\"DejaVuSans-53\"/>\r\n       </defs>\r\n       <use xlink:href=\"#DejaVuSans-53\"/>\r\n       <use x=\"63.623047\" xlink:href=\"#DejaVuSans-48\"/>\r\n      </g>\r\n     </g>\r\n    </g>\r\n    <g id=\"ytick_3\">\r\n     <g id=\"line2d_3\">\r\n      <g>\r\n       <use style=\"stroke:#000000;stroke-width:1.6;\" x=\"73.4735\" xlink:href=\"#madcb2358bb\" y=\"393.849026\"/>\r\n      </g>\r\n     </g>\r\n     <g id=\"text_4\">\r\n      <!-- 100 -->\r\n      <g transform=\"translate(28.2335 399.927776)scale(0.16 -0.16)\">\r\n       <defs>\r\n        <path d=\"M 12.40625 8.296875 \r\nL 28.515625 8.296875 \r\nL 28.515625 63.921875 \r\nL 10.984375 60.40625 \r\nL 10.984375 69.390625 \r\nL 28.421875 72.90625 \r\nL 38.28125 72.90625 \r\nL 38.28125 8.296875 \r\nL 54.390625 8.296875 \r\nL 54.390625 0 \r\nL 12.40625 0 \r\nz\r\n\" id=\"DejaVuSans-49\"/>\r\n       </defs>\r\n       <use xlink:href=\"#DejaVuSans-49\"/>\r\n       <use x=\"63.623047\" xlink:href=\"#DejaVuSans-48\"/>\r\n       <use x=\"127.246094\" xlink:href=\"#DejaVuSans-48\"/>\r\n      </g>\r\n     </g>\r\n    </g>\r\n    <g id=\"ytick_4\">\r\n     <g id=\"line2d_4\">\r\n      <g>\r\n       <use style=\"stroke:#000000;stroke-width:1.6;\" x=\"73.4735\" xlink:href=\"#madcb2358bb\" y=\"337.69504\"/>\r\n      </g>\r\n     </g>\r\n     <g id=\"text_5\">\r\n      <!-- 150 -->\r\n      <g transform=\"translate(28.2335 343.77379)scale(0.16 -0.16)\">\r\n       <use xlink:href=\"#DejaVuSans-49\"/>\r\n       <use x=\"63.623047\" xlink:href=\"#DejaVuSans-53\"/>\r\n       <use x=\"127.246094\" xlink:href=\"#DejaVuSans-48\"/>\r\n      </g>\r\n     </g>\r\n    </g>\r\n    <g id=\"ytick_5\">\r\n     <g id=\"line2d_5\">\r\n      <g>\r\n       <use style=\"stroke:#000000;stroke-width:1.6;\" x=\"73.4735\" xlink:href=\"#madcb2358bb\" y=\"281.541053\"/>\r\n      </g>\r\n     </g>\r\n     <g id=\"text_6\">\r\n      <!-- 200 -->\r\n      <g transform=\"translate(28.2335 287.619803)scale(0.16 -0.16)\">\r\n       <defs>\r\n        <path d=\"M 19.1875 8.296875 \r\nL 53.609375 8.296875 \r\nL 53.609375 0 \r\nL 7.328125 0 \r\nL 7.328125 8.296875 \r\nQ 12.9375 14.109375 22.625 23.890625 \r\nQ 32.328125 33.6875 34.8125 36.53125 \r\nQ 39.546875 41.84375 41.421875 45.53125 \r\nQ 43.3125 49.21875 43.3125 52.78125 \r\nQ 43.3125 58.59375 39.234375 62.25 \r\nQ 35.15625 65.921875 28.609375 65.921875 \r\nQ 23.96875 65.921875 18.8125 64.3125 \r\nQ 13.671875 62.703125 7.8125 59.421875 \r\nL 7.8125 69.390625 \r\nQ 13.765625 71.78125 18.9375 73 \r\nQ 24.125 74.21875 28.421875 74.21875 \r\nQ 39.75 74.21875 46.484375 68.546875 \r\nQ 53.21875 62.890625 53.21875 53.421875 \r\nQ 53.21875 48.921875 51.53125 44.890625 \r\nQ 49.859375 40.875 45.40625 35.40625 \r\nQ 44.1875 33.984375 37.640625 27.21875 \r\nQ 31.109375 20.453125 19.1875 8.296875 \r\nz\r\n\" id=\"DejaVuSans-50\"/>\r\n       </defs>\r\n       <use xlink:href=\"#DejaVuSans-50\"/>\r\n       <use x=\"63.623047\" xlink:href=\"#DejaVuSans-48\"/>\r\n       <use x=\"127.246094\" xlink:href=\"#DejaVuSans-48\"/>\r\n      </g>\r\n     </g>\r\n    </g>\r\n    <g id=\"ytick_6\">\r\n     <g id=\"line2d_6\">\r\n      <g>\r\n       <use style=\"stroke:#000000;stroke-width:1.6;\" x=\"73.4735\" xlink:href=\"#madcb2358bb\" y=\"225.387066\"/>\r\n      </g>\r\n     </g>\r\n     <g id=\"text_7\">\r\n      <!-- 250 -->\r\n      <g transform=\"translate(28.2335 231.465816)scale(0.16 -0.16)\">\r\n       <use xlink:href=\"#DejaVuSans-50\"/>\r\n       <use x=\"63.623047\" xlink:href=\"#DejaVuSans-53\"/>\r\n       <use x=\"127.246094\" xlink:href=\"#DejaVuSans-48\"/>\r\n      </g>\r\n     </g>\r\n    </g>\r\n    <g id=\"ytick_7\">\r\n     <g id=\"line2d_7\">\r\n      <g>\r\n       <use style=\"stroke:#000000;stroke-width:1.6;\" x=\"73.4735\" xlink:href=\"#madcb2358bb\" y=\"169.233079\"/>\r\n      </g>\r\n     </g>\r\n     <g id=\"text_8\">\r\n      <!-- 300 -->\r\n      <g transform=\"translate(28.2335 175.311829)scale(0.16 -0.16)\">\r\n       <defs>\r\n        <path d=\"M 40.578125 39.3125 \r\nQ 47.65625 37.796875 51.625 33 \r\nQ 55.609375 28.21875 55.609375 21.1875 \r\nQ 55.609375 10.40625 48.1875 4.484375 \r\nQ 40.765625 -1.421875 27.09375 -1.421875 \r\nQ 22.515625 -1.421875 17.65625 -0.515625 \r\nQ 12.796875 0.390625 7.625 2.203125 \r\nL 7.625 11.71875 \r\nQ 11.71875 9.328125 16.59375 8.109375 \r\nQ 21.484375 6.890625 26.8125 6.890625 \r\nQ 36.078125 6.890625 40.9375 10.546875 \r\nQ 45.796875 14.203125 45.796875 21.1875 \r\nQ 45.796875 27.640625 41.28125 31.265625 \r\nQ 36.765625 34.90625 28.71875 34.90625 \r\nL 20.21875 34.90625 \r\nL 20.21875 43.015625 \r\nL 29.109375 43.015625 \r\nQ 36.375 43.015625 40.234375 45.921875 \r\nQ 44.09375 48.828125 44.09375 54.296875 \r\nQ 44.09375 59.90625 40.109375 62.90625 \r\nQ 36.140625 65.921875 28.71875 65.921875 \r\nQ 24.65625 65.921875 20.015625 65.03125 \r\nQ 15.375 64.15625 9.8125 62.3125 \r\nL 9.8125 71.09375 \r\nQ 15.4375 72.65625 20.34375 73.4375 \r\nQ 25.25 74.21875 29.59375 74.21875 \r\nQ 40.828125 74.21875 47.359375 69.109375 \r\nQ 53.90625 64.015625 53.90625 55.328125 \r\nQ 53.90625 49.265625 50.4375 45.09375 \r\nQ 46.96875 40.921875 40.578125 39.3125 \r\nz\r\n\" id=\"DejaVuSans-51\"/>\r\n       </defs>\r\n       <use xlink:href=\"#DejaVuSans-51\"/>\r\n       <use x=\"63.623047\" xlink:href=\"#DejaVuSans-48\"/>\r\n       <use x=\"127.246094\" xlink:href=\"#DejaVuSans-48\"/>\r\n      </g>\r\n     </g>\r\n    </g>\r\n    <g id=\"ytick_8\">\r\n     <g id=\"line2d_8\">\r\n      <g>\r\n       <use style=\"stroke:#000000;stroke-width:1.6;\" x=\"73.4735\" xlink:href=\"#madcb2358bb\" y=\"113.079093\"/>\r\n      </g>\r\n     </g>\r\n     <g id=\"text_9\">\r\n      <!-- 350 -->\r\n      <g transform=\"translate(28.2335 119.157843)scale(0.16 -0.16)\">\r\n       <use xlink:href=\"#DejaVuSans-51\"/>\r\n       <use x=\"63.623047\" xlink:href=\"#DejaVuSans-53\"/>\r\n       <use x=\"127.246094\" xlink:href=\"#DejaVuSans-48\"/>\r\n      </g>\r\n     </g>\r\n    </g>\r\n    <g id=\"ytick_9\">\r\n     <g id=\"line2d_9\">\r\n      <g>\r\n       <use style=\"stroke:#000000;stroke-width:1.6;\" x=\"73.4735\" xlink:href=\"#madcb2358bb\" y=\"56.925106\"/>\r\n      </g>\r\n     </g>\r\n     <g id=\"text_10\">\r\n      <!-- 400 -->\r\n      <g transform=\"translate(28.2335 63.003856)scale(0.16 -0.16)\">\r\n       <defs>\r\n        <path d=\"M 37.796875 64.3125 \r\nL 12.890625 25.390625 \r\nL 37.796875 25.390625 \r\nz\r\nM 35.203125 72.90625 \r\nL 47.609375 72.90625 \r\nL 47.609375 25.390625 \r\nL 58.015625 25.390625 \r\nL 58.015625 17.1875 \r\nL 47.609375 17.1875 \r\nL 47.609375 0 \r\nL 37.796875 0 \r\nL 37.796875 17.1875 \r\nL 4.890625 17.1875 \r\nL 4.890625 26.703125 \r\nz\r\n\" id=\"DejaVuSans-52\"/>\r\n       </defs>\r\n       <use xlink:href=\"#DejaVuSans-52\"/>\r\n       <use x=\"63.623047\" xlink:href=\"#DejaVuSans-48\"/>\r\n       <use x=\"127.246094\" xlink:href=\"#DejaVuSans-48\"/>\r\n      </g>\r\n     </g>\r\n    </g>\r\n    <g id=\"text_11\">\r\n     <!-- Euclidean Distance -->\r\n     <g transform=\"translate(20.57325 351.0845)rotate(-90)scale(0.176 -0.176)\">\r\n      <defs>\r\n       <path d=\"M 9.8125 72.90625 \r\nL 55.90625 72.90625 \r\nL 55.90625 64.59375 \r\nL 19.671875 64.59375 \r\nL 19.671875 43.015625 \r\nL 54.390625 43.015625 \r\nL 54.390625 34.71875 \r\nL 19.671875 34.71875 \r\nL 19.671875 8.296875 \r\nL 56.78125 8.296875 \r\nL 56.78125 0 \r\nL 9.8125 0 \r\nz\r\n\" id=\"DejaVuSans-69\"/>\r\n       <path d=\"M 48.78125 52.59375 \r\nL 48.78125 44.1875 \r\nQ 44.96875 46.296875 41.140625 47.34375 \r\nQ 37.3125 48.390625 33.40625 48.390625 \r\nQ 24.65625 48.390625 19.8125 42.84375 \r\nQ 14.984375 37.3125 14.984375 27.296875 \r\nQ 14.984375 17.28125 19.8125 11.734375 \r\nQ 24.65625 6.203125 33.40625 6.203125 \r\nQ 37.3125 6.203125 41.140625 7.25 \r\nQ 44.96875 8.296875 48.78125 10.40625 \r\nL 48.78125 2.09375 \r\nQ 45.015625 0.34375 40.984375 -0.53125 \r\nQ 36.96875 -1.421875 32.421875 -1.421875 \r\nQ 20.0625 -1.421875 12.78125 6.34375 \r\nQ 5.515625 14.109375 5.515625 27.296875 \r\nQ 5.515625 40.671875 12.859375 48.328125 \r\nQ 20.21875 56 33.015625 56 \r\nQ 37.15625 56 41.109375 55.140625 \r\nQ 45.0625 54.296875 48.78125 52.59375 \r\nz\r\n\" id=\"DejaVuSans-99\"/>\r\n       <path d=\"M 9.421875 75.984375 \r\nL 18.40625 75.984375 \r\nL 18.40625 0 \r\nL 9.421875 0 \r\nz\r\n\" id=\"DejaVuSans-108\"/>\r\n       <path d=\"M 9.421875 54.6875 \r\nL 18.40625 54.6875 \r\nL 18.40625 0 \r\nL 9.421875 0 \r\nz\r\nM 9.421875 75.984375 \r\nL 18.40625 75.984375 \r\nL 18.40625 64.59375 \r\nL 9.421875 64.59375 \r\nz\r\n\" id=\"DejaVuSans-105\"/>\r\n       <path d=\"M 54.890625 33.015625 \r\nL 54.890625 0 \r\nL 45.90625 0 \r\nL 45.90625 32.71875 \r\nQ 45.90625 40.484375 42.875 44.328125 \r\nQ 39.84375 48.1875 33.796875 48.1875 \r\nQ 26.515625 48.1875 22.3125 43.546875 \r\nQ 18.109375 38.921875 18.109375 30.90625 \r\nL 18.109375 0 \r\nL 9.078125 0 \r\nL 9.078125 54.6875 \r\nL 18.109375 54.6875 \r\nL 18.109375 46.1875 \r\nQ 21.34375 51.125 25.703125 53.5625 \r\nQ 30.078125 56 35.796875 56 \r\nQ 45.21875 56 50.046875 50.171875 \r\nQ 54.890625 44.34375 54.890625 33.015625 \r\nz\r\n\" id=\"DejaVuSans-110\"/>\r\n       <path d=\"M 19.671875 64.796875 \r\nL 19.671875 8.109375 \r\nL 31.59375 8.109375 \r\nQ 46.6875 8.109375 53.6875 14.9375 \r\nQ 60.6875 21.78125 60.6875 36.53125 \r\nQ 60.6875 51.171875 53.6875 57.984375 \r\nQ 46.6875 64.796875 31.59375 64.796875 \r\nz\r\nM 9.8125 72.90625 \r\nL 30.078125 72.90625 \r\nQ 51.265625 72.90625 61.171875 64.09375 \r\nQ 71.09375 55.28125 71.09375 36.53125 \r\nQ 71.09375 17.671875 61.125 8.828125 \r\nQ 51.171875 0 30.078125 0 \r\nL 9.8125 0 \r\nz\r\n\" id=\"DejaVuSans-68\"/>\r\n      </defs>\r\n      <use xlink:href=\"#DejaVuSans-69\"/>\r\n      <use x=\"63.183594\" xlink:href=\"#DejaVuSans-117\"/>\r\n      <use x=\"126.5625\" xlink:href=\"#DejaVuSans-99\"/>\r\n      <use x=\"181.542969\" xlink:href=\"#DejaVuSans-108\"/>\r\n      <use x=\"209.326172\" xlink:href=\"#DejaVuSans-105\"/>\r\n      <use x=\"237.109375\" xlink:href=\"#DejaVuSans-100\"/>\r\n      <use x=\"300.585938\" xlink:href=\"#DejaVuSans-101\"/>\r\n      <use x=\"362.109375\" xlink:href=\"#DejaVuSans-97\"/>\r\n      <use x=\"423.388672\" xlink:href=\"#DejaVuSans-110\"/>\r\n      <use x=\"486.767578\" xlink:href=\"#DejaVuSans-32\"/>\r\n      <use x=\"518.554688\" xlink:href=\"#DejaVuSans-68\"/>\r\n      <use x=\"595.556641\" xlink:href=\"#DejaVuSans-105\"/>\r\n      <use x=\"623.339844\" xlink:href=\"#DejaVuSans-115\"/>\r\n      <use x=\"675.439453\" xlink:href=\"#DejaVuSans-116\"/>\r\n      <use x=\"714.648438\" xlink:href=\"#DejaVuSans-97\"/>\r\n      <use x=\"775.927734\" xlink:href=\"#DejaVuSans-110\"/>\r\n      <use x=\"839.306641\" xlink:href=\"#DejaVuSans-99\"/>\r\n      <use x=\"894.287109\" xlink:href=\"#DejaVuSans-101\"/>\r\n     </g>\r\n    </g>\r\n   </g>\r\n   <g id=\"LineCollection_1\">\r\n    <path clip-path=\"url(#p63ef2e4a59)\" d=\"M 78.8303 506.157 \r\nL 78.8303 504.568725 \r\nL 82.4015 504.568725 \r\nL 82.4015 506.157 \r\n\" style=\"fill:none;stroke:#ff7f0e;stroke-width:2.8;\"/>\r\n    <path clip-path=\"url(#p63ef2e4a59)\" d=\"M 85.9727 506.157 \r\nL 85.9727 503.910841 \r\nL 89.5439 503.910841 \r\nL 89.5439 506.157 \r\n\" style=\"fill:none;stroke:#ff7f0e;stroke-width:2.8;\"/>\r\n    <path clip-path=\"url(#p63ef2e4a59)\" d=\"M 80.6159 504.568725 \r\nL 80.6159 500.109031 \r\nL 87.7583 500.109031 \r\nL 87.7583 503.910841 \r\n\" style=\"fill:none;stroke:#ff7f0e;stroke-width:2.8;\"/>\r\n    <path clip-path=\"url(#p63ef2e4a59)\" d=\"M 75.2591 506.157 \r\nL 75.2591 499.107494 \r\nL 84.1871 499.107494 \r\nL 84.1871 500.109031 \r\n\" style=\"fill:none;stroke:#ff7f0e;stroke-width:2.8;\"/>\r\n    <path clip-path=\"url(#p63ef2e4a59)\" d=\"M 93.1151 506.157 \r\nL 93.1151 502.107678 \r\nL 96.6863 502.107678 \r\nL 96.6863 506.157 \r\n\" style=\"fill:none;stroke:#ff7f0e;stroke-width:2.8;\"/>\r\n    <path clip-path=\"url(#p63ef2e4a59)\" d=\"M 103.8287 506.157 \r\nL 103.8287 499.05402 \r\nL 107.3999 499.05402 \r\nL 107.3999 506.157 \r\n\" style=\"fill:none;stroke:#ff7f0e;stroke-width:2.8;\"/>\r\n    <path clip-path=\"url(#p63ef2e4a59)\" d=\"M 114.5423 506.157 \r\nL 114.5423 505.03392 \r\nL 118.1135 505.03392 \r\nL 118.1135 506.157 \r\n\" style=\"fill:none;stroke:#ff7f0e;stroke-width:2.8;\"/>\r\n    <path clip-path=\"url(#p63ef2e4a59)\" d=\"M 110.9711 506.157 \r\nL 110.9711 499.024486 \r\nL 116.3279 499.024486 \r\nL 116.3279 505.03392 \r\n\" style=\"fill:none;stroke:#ff7f0e;stroke-width:2.8;\"/>\r\n    <path clip-path=\"url(#p63ef2e4a59)\" d=\"M 105.6143 499.05402 \r\nL 105.6143 493.124113 \r\nL 113.6495 493.124113 \r\nL 113.6495 499.024486 \r\n\" style=\"fill:none;stroke:#ff7f0e;stroke-width:2.8;\"/>\r\n    <path clip-path=\"url(#p63ef2e4a59)\" d=\"M 100.2575 506.157 \r\nL 100.2575 489.89495 \r\nL 109.6319 489.89495 \r\nL 109.6319 493.124113 \r\n\" style=\"fill:none;stroke:#ff7f0e;stroke-width:2.8;\"/>\r\n    <path clip-path=\"url(#p63ef2e4a59)\" d=\"M 94.9007 502.107678 \r\nL 94.9007 483.158989 \r\nL 104.9447 483.158989 \r\nL 104.9447 489.89495 \r\n\" style=\"fill:none;stroke:#ff7f0e;stroke-width:2.8;\"/>\r\n    <path clip-path=\"url(#p63ef2e4a59)\" d=\"M 79.7231 499.107494 \r\nL 79.7231 472.529752 \r\nL 99.9227 472.529752 \r\nL 99.9227 483.158989 \r\n\" style=\"fill:none;stroke:#ff7f0e;stroke-width:2.8;\"/>\r\n    <path clip-path=\"url(#p63ef2e4a59)\" d=\"M 125.2559 506.157 \r\nL 125.2559 501.526424 \r\nL 128.8271 501.526424 \r\nL 128.8271 506.157 \r\n\" style=\"fill:none;stroke:#ff7f0e;stroke-width:2.8;\"/>\r\n    <path clip-path=\"url(#p63ef2e4a59)\" d=\"M 121.6847 506.157 \r\nL 121.6847 499.143369 \r\nL 127.0415 499.143369 \r\nL 127.0415 501.526424 \r\n\" style=\"fill:none;stroke:#ff7f0e;stroke-width:2.8;\"/>\r\n    <path clip-path=\"url(#p63ef2e4a59)\" d=\"M 132.3983 506.157 \r\nL 132.3983 500.541601 \r\nL 135.9695 500.541601 \r\nL 135.9695 506.157 \r\n\" style=\"fill:none;stroke:#ff7f0e;stroke-width:2.8;\"/>\r\n    <path clip-path=\"url(#p63ef2e4a59)\" d=\"M 143.1119 506.157 \r\nL 143.1119 500.430395 \r\nL 146.6831 500.430395 \r\nL 146.6831 506.157 \r\n\" style=\"fill:none;stroke:#ff7f0e;stroke-width:2.8;\"/>\r\n    <path clip-path=\"url(#p63ef2e4a59)\" d=\"M 139.5407 506.157 \r\nL 139.5407 498.763984 \r\nL 144.8975 498.763984 \r\nL 144.8975 500.430395 \r\n\" style=\"fill:none;stroke:#ff7f0e;stroke-width:2.8;\"/>\r\n    <path clip-path=\"url(#p63ef2e4a59)\" d=\"M 134.1839 500.541601 \r\nL 134.1839 488.298031 \r\nL 142.2191 488.298031 \r\nL 142.2191 498.763984 \r\n\" style=\"fill:none;stroke:#ff7f0e;stroke-width:2.8;\"/>\r\n    <path clip-path=\"url(#p63ef2e4a59)\" d=\"M 124.3631 499.143369 \r\nL 124.3631 471.572344 \r\nL 138.2015 471.572344 \r\nL 138.2015 488.298031 \r\n\" style=\"fill:none;stroke:#ff7f0e;stroke-width:2.8;\"/>\r\n    <path clip-path=\"url(#p63ef2e4a59)\" d=\"M 89.8229 472.529752 \r\nL 89.8229 444.060737 \r\nL 131.2823 444.060737 \r\nL 131.2823 471.572344 \r\n\" style=\"fill:none;stroke:#ff7f0e;stroke-width:2.8;\"/>\r\n    <path clip-path=\"url(#p63ef2e4a59)\" d=\"M 153.8255 506.157 \r\nL 153.8255 504.568725 \r\nL 157.3967 504.568725 \r\nL 157.3967 506.157 \r\n\" style=\"fill:none;stroke:#ff7f0e;stroke-width:2.8;\"/>\r\n    <path clip-path=\"url(#p63ef2e4a59)\" d=\"M 150.2543 506.157 \r\nL 150.2543 504.106546 \r\nL 155.6111 504.106546 \r\nL 155.6111 504.568725 \r\n\" style=\"fill:none;stroke:#ff7f0e;stroke-width:2.8;\"/>\r\n    <path clip-path=\"url(#p63ef2e4a59)\" d=\"M 164.5391 506.157 \r\nL 164.5391 503.910841 \r\nL 168.1103 503.910841 \r\nL 168.1103 506.157 \r\n\" style=\"fill:none;stroke:#ff7f0e;stroke-width:2.8;\"/>\r\n    <path clip-path=\"url(#p63ef2e4a59)\" d=\"M 160.9679 506.157 \r\nL 160.9679 501.481246 \r\nL 166.3247 501.481246 \r\nL 166.3247 503.910841 \r\n\" style=\"fill:none;stroke:#ff7f0e;stroke-width:2.8;\"/>\r\n    <path clip-path=\"url(#p63ef2e4a59)\" d=\"M 152.9327 504.106546 \r\nL 152.9327 488.222855 \r\nL 163.6463 488.222855 \r\nL 163.6463 501.481246 \r\n\" style=\"fill:none;stroke:#ff7f0e;stroke-width:2.8;\"/>\r\n    <path clip-path=\"url(#p63ef2e4a59)\" d=\"M 175.2527 506.157 \r\nL 175.2527 502.60551 \r\nL 178.8239 502.60551 \r\nL 178.8239 506.157 \r\n\" style=\"fill:none;stroke:#ff7f0e;stroke-width:2.8;\"/>\r\n    <path clip-path=\"url(#p63ef2e4a59)\" d=\"M 171.6815 506.157 \r\nL 171.6815 498.763984 \r\nL 177.0383 498.763984 \r\nL 177.0383 502.60551 \r\n\" style=\"fill:none;stroke:#ff7f0e;stroke-width:2.8;\"/>\r\n    <path clip-path=\"url(#p63ef2e4a59)\" d=\"M 185.9663 506.157 \r\nL 185.9663 502.787761 \r\nL 189.5375 502.787761 \r\nL 189.5375 506.157 \r\n\" style=\"fill:none;stroke:#ff7f0e;stroke-width:2.8;\"/>\r\n    <path clip-path=\"url(#p63ef2e4a59)\" d=\"M 182.3951 506.157 \r\nL 182.3951 497.628493 \r\nL 187.7519 497.628493 \r\nL 187.7519 502.787761 \r\n\" style=\"fill:none;stroke:#ff7f0e;stroke-width:2.8;\"/>\r\n    <path clip-path=\"url(#p63ef2e4a59)\" d=\"M 174.3599 498.763984 \r\nL 174.3599 484.917229 \r\nL 185.0735 484.917229 \r\nL 185.0735 497.628493 \r\n\" style=\"fill:none;stroke:#ff7f0e;stroke-width:2.8;\"/>\r\n    <path clip-path=\"url(#p63ef2e4a59)\" d=\"M 158.2895 488.222855 \r\nL 158.2895 473.600599 \r\nL 179.7167 473.600599 \r\nL 179.7167 484.917229 \r\n\" style=\"fill:none;stroke:#ff7f0e;stroke-width:2.8;\"/>\r\n    <path clip-path=\"url(#p63ef2e4a59)\" d=\"M 193.1087 506.157 \r\nL 193.1087 504.568725 \r\nL 196.6799 504.568725 \r\nL 196.6799 506.157 \r\n\" style=\"fill:none;stroke:#ff7f0e;stroke-width:2.8;\"/>\r\n    <path clip-path=\"url(#p63ef2e4a59)\" d=\"M 200.2511 506.157 \r\nL 200.2511 502.980451 \r\nL 203.8223 502.980451 \r\nL 203.8223 506.157 \r\n\" style=\"fill:none;stroke:#ff7f0e;stroke-width:2.8;\"/>\r\n    <path clip-path=\"url(#p63ef2e4a59)\" d=\"M 194.8943 504.568725 \r\nL 194.8943 492.633329 \r\nL 202.0367 492.633329 \r\nL 202.0367 502.980451 \r\n\" style=\"fill:none;stroke:#ff7f0e;stroke-width:2.8;\"/>\r\n    <path clip-path=\"url(#p63ef2e4a59)\" d=\"M 207.3935 506.157 \r\nL 207.3935 503.645717 \r\nL 210.9647 503.645717 \r\nL 210.9647 506.157 \r\n\" style=\"fill:none;stroke:#ff7f0e;stroke-width:2.8;\"/>\r\n    <path clip-path=\"url(#p63ef2e4a59)\" d=\"M 214.5359 506.157 \r\nL 214.5359 504.568725 \r\nL 218.1071 504.568725 \r\nL 218.1071 506.157 \r\n\" style=\"fill:none;stroke:#ff7f0e;stroke-width:2.8;\"/>\r\n    <path clip-path=\"url(#p63ef2e4a59)\" d=\"M 225.2495 506.157 \r\nL 225.2495 502.787761 \r\nL 228.8207 502.787761 \r\nL 228.8207 506.157 \r\n\" style=\"fill:none;stroke:#ff7f0e;stroke-width:2.8;\"/>\r\n    <path clip-path=\"url(#p63ef2e4a59)\" d=\"M 221.6783 506.157 \r\nL 221.6783 498.349105 \r\nL 227.0351 498.349105 \r\nL 227.0351 502.787761 \r\n\" style=\"fill:none;stroke:#ff7f0e;stroke-width:2.8;\"/>\r\n    <path clip-path=\"url(#p63ef2e4a59)\" d=\"M 216.3215 504.568725 \r\nL 216.3215 495.677597 \r\nL 224.3567 495.677597 \r\nL 224.3567 498.349105 \r\n\" style=\"fill:none;stroke:#ff7f0e;stroke-width:2.8;\"/>\r\n    <path clip-path=\"url(#p63ef2e4a59)\" d=\"M 209.1791 503.645717 \r\nL 209.1791 484.395402 \r\nL 220.3391 484.395402 \r\nL 220.3391 495.677597 \r\n\" style=\"fill:none;stroke:#ff7f0e;stroke-width:2.8;\"/>\r\n    <path clip-path=\"url(#p63ef2e4a59)\" d=\"M 198.4655 492.633329 \r\nL 198.4655 465.264262 \r\nL 214.7591 465.264262 \r\nL 214.7591 484.395402 \r\n\" style=\"fill:none;stroke:#ff7f0e;stroke-width:2.8;\"/>\r\n    <path clip-path=\"url(#p63ef2e4a59)\" d=\"M 169.0031 473.600599 \r\nL 169.0031 414.986107 \r\nL 206.6123 414.986107 \r\nL 206.6123 465.264262 \r\n\" style=\"fill:none;stroke:#ff7f0e;stroke-width:2.8;\"/>\r\n    <path clip-path=\"url(#p63ef2e4a59)\" d=\"M 232.3919 506.157 \r\nL 232.3919 505.03392 \r\nL 235.9631 505.03392 \r\nL 235.9631 506.157 \r\n\" style=\"fill:none;stroke:#ff7f0e;stroke-width:2.8;\"/>\r\n    <path clip-path=\"url(#p63ef2e4a59)\" d=\"M 239.5343 506.157 \r\nL 239.5343 501.664681 \r\nL 243.1055 501.664681 \r\nL 243.1055 506.157 \r\n\" style=\"fill:none;stroke:#ff7f0e;stroke-width:2.8;\"/>\r\n    <path clip-path=\"url(#p63ef2e4a59)\" d=\"M 234.1775 505.03392 \r\nL 234.1775 498.835416 \r\nL 241.3199 498.835416 \r\nL 241.3199 501.664681 \r\n\" style=\"fill:none;stroke:#ff7f0e;stroke-width:2.8;\"/>\r\n    <path clip-path=\"url(#p63ef2e4a59)\" d=\"M 250.2479 506.157 \r\nL 250.2479 503.645717 \r\nL 253.8191 503.645717 \r\nL 253.8191 506.157 \r\n\" style=\"fill:none;stroke:#ff7f0e;stroke-width:2.8;\"/>\r\n    <path clip-path=\"url(#p63ef2e4a59)\" d=\"M 246.6767 506.157 \r\nL 246.6767 502.005148 \r\nL 252.0335 502.005148 \r\nL 252.0335 503.645717 \r\n\" style=\"fill:none;stroke:#ff7f0e;stroke-width:2.8;\"/>\r\n    <path clip-path=\"url(#p63ef2e4a59)\" d=\"M 260.9615 506.157 \r\nL 260.9615 506.157 \r\nL 264.5327 506.157 \r\nL 264.5327 506.157 \r\n\" style=\"fill:none;stroke:#ff7f0e;stroke-width:2.8;\"/>\r\n    <path clip-path=\"url(#p63ef2e4a59)\" d=\"M 257.3903 506.157 \r\nL 257.3903 504.860179 \r\nL 262.7471 504.860179 \r\nL 262.7471 506.157 \r\n\" style=\"fill:none;stroke:#ff7f0e;stroke-width:2.8;\"/>\r\n    <path clip-path=\"url(#p63ef2e4a59)\" d=\"M 268.1039 506.157 \r\nL 268.1039 505.03392 \r\nL 271.6751 505.03392 \r\nL 271.6751 506.157 \r\n\" style=\"fill:none;stroke:#ff7f0e;stroke-width:2.8;\"/>\r\n    <path clip-path=\"url(#p63ef2e4a59)\" d=\"M 275.2463 506.157 \r\nL 275.2463 504.568725 \r\nL 278.8175 504.568725 \r\nL 278.8175 506.157 \r\n\" style=\"fill:none;stroke:#ff7f0e;stroke-width:2.8;\"/>\r\n    <path clip-path=\"url(#p63ef2e4a59)\" d=\"M 269.8895 505.03392 \r\nL 269.8895 500.598039 \r\nL 277.0319 500.598039 \r\nL 277.0319 504.568725 \r\n\" style=\"fill:none;stroke:#ff7f0e;stroke-width:2.8;\"/>\r\n    <path clip-path=\"url(#p63ef2e4a59)\" d=\"M 260.0687 504.860179 \r\nL 260.0687 498.876549 \r\nL 273.4607 498.876549 \r\nL 273.4607 500.598039 \r\n\" style=\"fill:none;stroke:#ff7f0e;stroke-width:2.8;\"/>\r\n    <path clip-path=\"url(#p63ef2e4a59)\" d=\"M 249.3551 502.005148 \r\nL 249.3551 490.263291 \r\nL 266.7647 490.263291 \r\nL 266.7647 498.876549 \r\n\" style=\"fill:none;stroke:#ff7f0e;stroke-width:2.8;\"/>\r\n    <path clip-path=\"url(#p63ef2e4a59)\" d=\"M 237.7487 498.835416 \r\nL 237.7487 485.928645 \r\nL 258.0599 485.928645 \r\nL 258.0599 490.263291 \r\n\" style=\"fill:none;stroke:#ff7f0e;stroke-width:2.8;\"/>\r\n    <path clip-path=\"url(#p63ef2e4a59)\" d=\"M 285.9599 506.157 \r\nL 285.9599 505.03392 \r\nL 289.5311 505.03392 \r\nL 289.5311 506.157 \r\n\" style=\"fill:none;stroke:#ff7f0e;stroke-width:2.8;\"/>\r\n    <path clip-path=\"url(#p63ef2e4a59)\" d=\"M 282.3887 506.157 \r\nL 282.3887 504.211769 \r\nL 287.7455 504.211769 \r\nL 287.7455 505.03392 \r\n\" style=\"fill:none;stroke:#ff7f0e;stroke-width:2.8;\"/>\r\n    <path clip-path=\"url(#p63ef2e4a59)\" d=\"M 300.2447 506.157 \r\nL 300.2447 505.03392 \r\nL 303.8159 505.03392 \r\nL 303.8159 506.157 \r\n\" style=\"fill:none;stroke:#ff7f0e;stroke-width:2.8;\"/>\r\n    <path clip-path=\"url(#p63ef2e4a59)\" d=\"M 296.6735 506.157 \r\nL 296.6735 502.914948 \r\nL 302.0303 502.914948 \r\nL 302.0303 505.03392 \r\n\" style=\"fill:none;stroke:#ff7f0e;stroke-width:2.8;\"/>\r\n    <path clip-path=\"url(#p63ef2e4a59)\" d=\"M 293.1023 506.157 \r\nL 293.1023 499.264303 \r\nL 299.3519 499.264303 \r\nL 299.3519 502.914948 \r\n\" style=\"fill:none;stroke:#ff7f0e;stroke-width:2.8;\"/>\r\n    <path clip-path=\"url(#p63ef2e4a59)\" d=\"M 285.0671 504.211769 \r\nL 285.0671 495.942882 \r\nL 296.2271 495.942882 \r\nL 296.2271 499.264303 \r\n\" style=\"fill:none;stroke:#ff7f0e;stroke-width:2.8;\"/>\r\n    <path clip-path=\"url(#p63ef2e4a59)\" d=\"M 314.5295 506.157 \r\nL 314.5295 505.03392 \r\nL 318.1007 505.03392 \r\nL 318.1007 506.157 \r\n\" style=\"fill:none;stroke:#ff7f0e;stroke-width:2.8;\"/>\r\n    <path clip-path=\"url(#p63ef2e4a59)\" d=\"M 310.9583 506.157 \r\nL 310.9583 502.914948 \r\nL 316.3151 502.914948 \r\nL 316.3151 505.03392 \r\n\" style=\"fill:none;stroke:#ff7f0e;stroke-width:2.8;\"/>\r\n    <path clip-path=\"url(#p63ef2e4a59)\" d=\"M 307.3871 506.157 \r\nL 307.3871 501.572046 \r\nL 313.6367 501.572046 \r\nL 313.6367 502.914948 \r\n\" style=\"fill:none;stroke:#ff7f0e;stroke-width:2.8;\"/>\r\n    <path clip-path=\"url(#p63ef2e4a59)\" d=\"M 325.2431 506.157 \r\nL 325.2431 505.03392 \r\nL 328.8143 505.03392 \r\nL 328.8143 506.157 \r\n\" style=\"fill:none;stroke:#ff7f0e;stroke-width:2.8;\"/>\r\n    <path clip-path=\"url(#p63ef2e4a59)\" d=\"M 332.3855 506.157 \r\nL 332.3855 504.568725 \r\nL 335.9567 504.568725 \r\nL 335.9567 506.157 \r\n\" style=\"fill:none;stroke:#ff7f0e;stroke-width:2.8;\"/>\r\n    <path clip-path=\"url(#p63ef2e4a59)\" d=\"M 327.0287 505.03392 \r\nL 327.0287 503.293697 \r\nL 334.1711 503.293697 \r\nL 334.1711 504.568725 \r\n\" style=\"fill:none;stroke:#ff7f0e;stroke-width:2.8;\"/>\r\n    <path clip-path=\"url(#p63ef2e4a59)\" d=\"M 321.6719 506.157 \r\nL 321.6719 501.326451 \r\nL 330.5999 501.326451 \r\nL 330.5999 503.293697 \r\n\" style=\"fill:none;stroke:#ff7f0e;stroke-width:2.8;\"/>\r\n    <path clip-path=\"url(#p63ef2e4a59)\" d=\"M 310.5119 501.572046 \r\nL 310.5119 497.669674 \r\nL 326.1359 497.669674 \r\nL 326.1359 501.326451 \r\n\" style=\"fill:none;stroke:#ff7f0e;stroke-width:2.8;\"/>\r\n    <path clip-path=\"url(#p63ef2e4a59)\" d=\"M 343.0991 506.157 \r\nL 343.0991 506.157 \r\nL 346.6703 506.157 \r\nL 346.6703 506.157 \r\n\" style=\"fill:none;stroke:#ff7f0e;stroke-width:2.8;\"/>\r\n    <path clip-path=\"url(#p63ef2e4a59)\" d=\"M 339.5279 506.157 \r\nL 339.5279 502.056093 \r\nL 344.8847 502.056093 \r\nL 344.8847 506.157 \r\n\" style=\"fill:none;stroke:#ff7f0e;stroke-width:2.8;\"/>\r\n    <path clip-path=\"url(#p63ef2e4a59)\" d=\"M 353.8127 506.157 \r\nL 353.8127 504.568725 \r\nL 357.3839 504.568725 \r\nL 357.3839 506.157 \r\n\" style=\"fill:none;stroke:#ff7f0e;stroke-width:2.8;\"/>\r\n    <path clip-path=\"url(#p63ef2e4a59)\" d=\"M 350.2415 506.157 \r\nL 350.2415 501.218854 \r\nL 355.5983 501.218854 \r\nL 355.5983 504.568725 \r\n\" style=\"fill:none;stroke:#ff7f0e;stroke-width:2.8;\"/>\r\n    <path clip-path=\"url(#p63ef2e4a59)\" d=\"M 342.2063 502.056093 \r\nL 342.2063 497.337665 \r\nL 352.9199 497.337665 \r\nL 352.9199 501.218854 \r\n\" style=\"fill:none;stroke:#ff7f0e;stroke-width:2.8;\"/>\r\n    <path clip-path=\"url(#p63ef2e4a59)\" d=\"M 318.3239 497.669674 \r\nL 318.3239 482.598486 \r\nL 347.5631 482.598486 \r\nL 347.5631 497.337665 \r\n\" style=\"fill:none;stroke:#ff7f0e;stroke-width:2.8;\"/>\r\n    <path clip-path=\"url(#p63ef2e4a59)\" d=\"M 290.6471 495.942882 \r\nL 290.6471 475.756409 \r\nL 332.9435 475.756409 \r\nL 332.9435 482.598486 \r\n\" style=\"fill:none;stroke:#ff7f0e;stroke-width:2.8;\"/>\r\n    <path clip-path=\"url(#p63ef2e4a59)\" d=\"M 247.9043 485.928645 \r\nL 247.9043 451.389169 \r\nL 311.7953 451.389169 \r\nL 311.7953 475.756409 \r\n\" style=\"fill:none;stroke:#ff7f0e;stroke-width:2.8;\"/>\r\n    <path clip-path=\"url(#p63ef2e4a59)\" d=\"M 364.5263 506.157 \r\nL 364.5263 503.645717 \r\nL 368.0975 503.645717 \r\nL 368.0975 506.157 \r\n\" style=\"fill:none;stroke:#ff7f0e;stroke-width:2.8;\"/>\r\n    <path clip-path=\"url(#p63ef2e4a59)\" d=\"M 360.9551 506.157 \r\nL 360.9551 499.770898 \r\nL 366.3119 499.770898 \r\nL 366.3119 503.645717 \r\n\" style=\"fill:none;stroke:#ff7f0e;stroke-width:2.8;\"/>\r\n    <path clip-path=\"url(#p63ef2e4a59)\" d=\"M 375.2399 506.157 \r\nL 375.2399 504.568725 \r\nL 378.8111 504.568725 \r\nL 378.8111 506.157 \r\n\" style=\"fill:none;stroke:#ff7f0e;stroke-width:2.8;\"/>\r\n    <path clip-path=\"url(#p63ef2e4a59)\" d=\"M 371.6687 506.157 \r\nL 371.6687 498.763984 \r\nL 377.0255 498.763984 \r\nL 377.0255 504.568725 \r\n\" style=\"fill:none;stroke:#ff7f0e;stroke-width:2.8;\"/>\r\n    <path clip-path=\"url(#p63ef2e4a59)\" d=\"M 363.6335 499.770898 \r\nL 363.6335 491.229472 \r\nL 374.3471 491.229472 \r\nL 374.3471 498.763984 \r\n\" style=\"fill:none;stroke:#ff7f0e;stroke-width:2.8;\"/>\r\n    <path clip-path=\"url(#p63ef2e4a59)\" d=\"M 382.3823 506.157 \r\nL 382.3823 503.645717 \r\nL 385.9535 503.645717 \r\nL 385.9535 506.157 \r\n\" style=\"fill:none;stroke:#ff7f0e;stroke-width:2.8;\"/>\r\n    <path clip-path=\"url(#p63ef2e4a59)\" d=\"M 396.6671 506.157 \r\nL 396.6671 505.03392 \r\nL 400.2383 505.03392 \r\nL 400.2383 506.157 \r\n\" style=\"fill:none;stroke:#ff7f0e;stroke-width:2.8;\"/>\r\n    <path clip-path=\"url(#p63ef2e4a59)\" d=\"M 393.0959 506.157 \r\nL 393.0959 504.70711 \r\nL 398.4527 504.70711 \r\nL 398.4527 505.03392 \r\n\" style=\"fill:none;stroke:#ff7f0e;stroke-width:2.8;\"/>\r\n    <path clip-path=\"url(#p63ef2e4a59)\" d=\"M 389.5247 506.157 \r\nL 389.5247 502.460492 \r\nL 395.7743 502.460492 \r\nL 395.7743 504.70711 \r\n\" style=\"fill:none;stroke:#ff7f0e;stroke-width:2.8;\"/>\r\n    <path clip-path=\"url(#p63ef2e4a59)\" d=\"M 384.1679 503.645717 \r\nL 384.1679 499.340976 \r\nL 392.6495 499.340976 \r\nL 392.6495 502.460492 \r\n\" style=\"fill:none;stroke:#ff7f0e;stroke-width:2.8;\"/>\r\n    <path clip-path=\"url(#p63ef2e4a59)\" d=\"M 403.8095 506.157 \r\nL 403.8095 505.03392 \r\nL 407.3807 505.03392 \r\nL 407.3807 506.157 \r\n\" style=\"fill:none;stroke:#ff7f0e;stroke-width:2.8;\"/>\r\n    <path clip-path=\"url(#p63ef2e4a59)\" d=\"M 410.9519 506.157 \r\nL 410.9519 505.03392 \r\nL 414.5231 505.03392 \r\nL 414.5231 506.157 \r\n\" style=\"fill:none;stroke:#ff7f0e;stroke-width:2.8;\"/>\r\n    <path clip-path=\"url(#p63ef2e4a59)\" d=\"M 405.5951 505.03392 \r\nL 405.5951 502.60551 \r\nL 412.7375 502.60551 \r\nL 412.7375 505.03392 \r\n\" style=\"fill:none;stroke:#ff7f0e;stroke-width:2.8;\"/>\r\n    <path clip-path=\"url(#p63ef2e4a59)\" d=\"M 418.0943 506.157 \r\nL 418.0943 503.910841 \r\nL 421.6655 503.910841 \r\nL 421.6655 506.157 \r\n\" style=\"fill:none;stroke:#ff7f0e;stroke-width:2.8;\"/>\r\n    <path clip-path=\"url(#p63ef2e4a59)\" d=\"M 425.2367 506.157 \r\nL 425.2367 503.910841 \r\nL 428.8079 503.910841 \r\nL 428.8079 506.157 \r\n\" style=\"fill:none;stroke:#ff7f0e;stroke-width:2.8;\"/>\r\n    <path clip-path=\"url(#p63ef2e4a59)\" d=\"M 419.8799 503.910841 \r\nL 419.8799 501.664681 \r\nL 427.0223 501.664681 \r\nL 427.0223 503.910841 \r\n\" style=\"fill:none;stroke:#ff7f0e;stroke-width:2.8;\"/>\r\n    <path clip-path=\"url(#p63ef2e4a59)\" d=\"M 409.1663 502.60551 \r\nL 409.1663 499.05402 \r\nL 423.4511 499.05402 \r\nL 423.4511 501.664681 \r\n\" style=\"fill:none;stroke:#ff7f0e;stroke-width:2.8;\"/>\r\n    <path clip-path=\"url(#p63ef2e4a59)\" d=\"M 388.4087 499.340976 \r\nL 388.4087 495.329184 \r\nL 416.3087 495.329184 \r\nL 416.3087 499.05402 \r\n\" style=\"fill:none;stroke:#ff7f0e;stroke-width:2.8;\"/>\r\n    <path clip-path=\"url(#p63ef2e4a59)\" d=\"M 432.3791 506.157 \r\nL 432.3791 504.568725 \r\nL 435.9503 504.568725 \r\nL 435.9503 506.157 \r\n\" style=\"fill:none;stroke:#ff7f0e;stroke-width:2.8;\"/>\r\n    <path clip-path=\"url(#p63ef2e4a59)\" d=\"M 439.5215 506.157 \r\nL 439.5215 505.03392 \r\nL 443.0927 505.03392 \r\nL 443.0927 506.157 \r\n\" style=\"fill:none;stroke:#ff7f0e;stroke-width:2.8;\"/>\r\n    <path clip-path=\"url(#p63ef2e4a59)\" d=\"M 446.6639 506.157 \r\nL 446.6639 505.03392 \r\nL 450.2351 505.03392 \r\nL 450.2351 506.157 \r\n\" style=\"fill:none;stroke:#ff7f0e;stroke-width:2.8;\"/>\r\n    <path clip-path=\"url(#p63ef2e4a59)\" d=\"M 441.3071 505.03392 \r\nL 441.3071 503.645717 \r\nL 448.4495 503.645717 \r\nL 448.4495 505.03392 \r\n\" style=\"fill:none;stroke:#ff7f0e;stroke-width:2.8;\"/>\r\n    <path clip-path=\"url(#p63ef2e4a59)\" d=\"M 434.1647 504.568725 \r\nL 434.1647 502.212874 \r\nL 444.8783 502.212874 \r\nL 444.8783 503.645717 \r\n\" style=\"fill:none;stroke:#ff7f0e;stroke-width:2.8;\"/>\r\n    <path clip-path=\"url(#p63ef2e4a59)\" d=\"M 457.3775 506.157 \r\nL 457.3775 504.568725 \r\nL 460.9487 504.568725 \r\nL 460.9487 506.157 \r\n\" style=\"fill:none;stroke:#ff7f0e;stroke-width:2.8;\"/>\r\n    <path clip-path=\"url(#p63ef2e4a59)\" d=\"M 453.8063 506.157 \r\nL 453.8063 504.106546 \r\nL 459.1631 504.106546 \r\nL 459.1631 504.568725 \r\n\" style=\"fill:none;stroke:#ff7f0e;stroke-width:2.8;\"/>\r\n    <path clip-path=\"url(#p63ef2e4a59)\" d=\"M 464.5199 506.157 \r\nL 464.5199 502.787761 \r\nL 468.0911 502.787761 \r\nL 468.0911 506.157 \r\n\" style=\"fill:none;stroke:#ff7f0e;stroke-width:2.8;\"/>\r\n    <path clip-path=\"url(#p63ef2e4a59)\" d=\"M 456.4847 504.106546 \r\nL 456.4847 500.556596 \r\nL 466.3055 500.556596 \r\nL 466.3055 502.787761 \r\n\" style=\"fill:none;stroke:#ff7f0e;stroke-width:2.8;\"/>\r\n    <path clip-path=\"url(#p63ef2e4a59)\" d=\"M 439.5215 502.212874 \r\nL 439.5215 494.050954 \r\nL 461.3951 494.050954 \r\nL 461.3951 500.556596 \r\n\" style=\"fill:none;stroke:#ff7f0e;stroke-width:2.8;\"/>\r\n    <path clip-path=\"url(#p63ef2e4a59)\" d=\"M 402.3587 495.329184 \r\nL 402.3587 478.714598 \r\nL 450.4583 478.714598 \r\nL 450.4583 494.050954 \r\n\" style=\"fill:none;stroke:#ff7f0e;stroke-width:2.8;\"/>\r\n    <path clip-path=\"url(#p63ef2e4a59)\" d=\"M 475.2335 506.157 \r\nL 475.2335 505.03392 \r\nL 478.8047 505.03392 \r\nL 478.8047 506.157 \r\n\" style=\"fill:none;stroke:#ff7f0e;stroke-width:2.8;\"/>\r\n    <path clip-path=\"url(#p63ef2e4a59)\" d=\"M 471.6623 506.157 \r\nL 471.6623 502.914948 \r\nL 477.0191 502.914948 \r\nL 477.0191 505.03392 \r\n\" style=\"fill:none;stroke:#ff7f0e;stroke-width:2.8;\"/>\r\n    <path clip-path=\"url(#p63ef2e4a59)\" d=\"M 485.9471 506.157 \r\nL 485.9471 505.03392 \r\nL 489.5183 505.03392 \r\nL 489.5183 506.157 \r\n\" style=\"fill:none;stroke:#ff7f0e;stroke-width:2.8;\"/>\r\n    <path clip-path=\"url(#p63ef2e4a59)\" d=\"M 482.3759 506.157 \r\nL 482.3759 503.819123 \r\nL 487.7327 503.819123 \r\nL 487.7327 505.03392 \r\n\" style=\"fill:none;stroke:#ff7f0e;stroke-width:2.8;\"/>\r\n    <path clip-path=\"url(#p63ef2e4a59)\" d=\"M 493.0895 506.157 \r\nL 493.0895 502.787761 \r\nL 496.6607 502.787761 \r\nL 496.6607 506.157 \r\n\" style=\"fill:none;stroke:#ff7f0e;stroke-width:2.8;\"/>\r\n    <path clip-path=\"url(#p63ef2e4a59)\" d=\"M 485.0543 503.819123 \r\nL 485.0543 498.907551 \r\nL 494.8751 498.907551 \r\nL 494.8751 502.787761 \r\n\" style=\"fill:none;stroke:#ff7f0e;stroke-width:2.8;\"/>\r\n    <path clip-path=\"url(#p63ef2e4a59)\" d=\"M 474.3407 502.914948 \r\nL 474.3407 495.537115 \r\nL 489.9647 495.537115 \r\nL 489.9647 498.907551 \r\n\" style=\"fill:none;stroke:#ff7f0e;stroke-width:2.8;\"/>\r\n    <path clip-path=\"url(#p63ef2e4a59)\" d=\"M 500.2319 506.157 \r\nL 500.2319 505.03392 \r\nL 503.8031 505.03392 \r\nL 503.8031 506.157 \r\n\" style=\"fill:none;stroke:#ff7f0e;stroke-width:2.8;\"/>\r\n    <path clip-path=\"url(#p63ef2e4a59)\" d=\"M 514.5167 506.157 \r\nL 514.5167 505.03392 \r\nL 518.0879 505.03392 \r\nL 518.0879 506.157 \r\n\" style=\"fill:none;stroke:#ff7f0e;stroke-width:2.8;\"/>\r\n    <path clip-path=\"url(#p63ef2e4a59)\" d=\"M 510.9455 506.157 \r\nL 510.9455 504.211769 \r\nL 516.3023 504.211769 \r\nL 516.3023 505.03392 \r\n\" style=\"fill:none;stroke:#ff7f0e;stroke-width:2.8;\"/>\r\n    <path clip-path=\"url(#p63ef2e4a59)\" d=\"M 507.3743 506.157 \r\nL 507.3743 502.030542 \r\nL 513.6239 502.030542 \r\nL 513.6239 504.211769 \r\n\" style=\"fill:none;stroke:#ff7f0e;stroke-width:2.8;\"/>\r\n    <path clip-path=\"url(#p63ef2e4a59)\" d=\"M 502.0175 505.03392 \r\nL 502.0175 500.19656 \r\nL 510.4991 500.19656 \r\nL 510.4991 502.030542 \r\n\" style=\"fill:none;stroke:#ff7f0e;stroke-width:2.8;\"/>\r\n    <path clip-path=\"url(#p63ef2e4a59)\" d=\"M 521.6591 506.157 \r\nL 521.6591 503.910841 \r\nL 525.2303 503.910841 \r\nL 525.2303 506.157 \r\n\" style=\"fill:none;stroke:#ff7f0e;stroke-width:2.8;\"/>\r\n    <path clip-path=\"url(#p63ef2e4a59)\" d=\"M 528.8015 506.157 \r\nL 528.8015 503.645717 \r\nL 532.3727 503.645717 \r\nL 532.3727 506.157 \r\n\" style=\"fill:none;stroke:#ff7f0e;stroke-width:2.8;\"/>\r\n    <path clip-path=\"url(#p63ef2e4a59)\" d=\"M 523.4447 503.910841 \r\nL 523.4447 499.75446 \r\nL 530.5871 499.75446 \r\nL 530.5871 503.645717 \r\n\" style=\"fill:none;stroke:#ff7f0e;stroke-width:2.8;\"/>\r\n    <path clip-path=\"url(#p63ef2e4a59)\" d=\"M 506.2583 500.19656 \r\nL 506.2583 493.811634 \r\nL 527.0159 493.811634 \r\nL 527.0159 499.75446 \r\n\" style=\"fill:none;stroke:#ff7f0e;stroke-width:2.8;\"/>\r\n    <path clip-path=\"url(#p63ef2e4a59)\" d=\"M 482.1527 495.537115 \r\nL 482.1527 475.04625 \r\nL 516.6371 475.04625 \r\nL 516.6371 493.811634 \r\n\" style=\"fill:none;stroke:#ff7f0e;stroke-width:2.8;\"/>\r\n    <path clip-path=\"url(#p63ef2e4a59)\" d=\"M 426.4085 478.714598 \r\nL 426.4085 452.021993 \r\nL 499.3949 452.021993 \r\nL 499.3949 475.04625 \r\n\" style=\"fill:none;stroke:#ff7f0e;stroke-width:2.8;\"/>\r\n    <path clip-path=\"url(#p63ef2e4a59)\" d=\"M 368.9903 491.229472 \r\nL 368.9903 433.676348 \r\nL 462.9017 433.676348 \r\nL 462.9017 452.021993 \r\n\" style=\"fill:none;stroke:#ff7f0e;stroke-width:2.8;\"/>\r\n    <path clip-path=\"url(#p63ef2e4a59)\" d=\"M 279.8498 451.389169 \r\nL 279.8498 386.379896 \r\nL 415.946 386.379896 \r\nL 415.946 433.676348 \r\n\" style=\"fill:none;stroke:#ff7f0e;stroke-width:2.8;\"/>\r\n    <path clip-path=\"url(#p63ef2e4a59)\" d=\"M 187.8077 414.986107 \r\nL 187.8077 230.267296 \r\nL 347.8979 230.267296 \r\nL 347.8979 386.379896 \r\n\" style=\"fill:none;stroke:#ff7f0e;stroke-width:2.8;\"/>\r\n    <path clip-path=\"url(#p63ef2e4a59)\" d=\"M 110.5526 444.060737 \r\nL 110.5526 211.278226 \r\nL 267.8528 211.278226 \r\nL 267.8528 230.267296 \r\n\" style=\"fill:none;stroke:#ff7f0e;stroke-width:2.8;\"/>\r\n   </g>\r\n   <g id=\"LineCollection_2\">\r\n    <path clip-path=\"url(#p63ef2e4a59)\" d=\"M 539.5151 506.157 \r\nL 539.5151 497.385467 \r\nL 543.0863 497.385467 \r\nL 543.0863 506.157 \r\n\" style=\"fill:none;stroke:#2ca02c;stroke-width:2.8;\"/>\r\n    <path clip-path=\"url(#p63ef2e4a59)\" d=\"M 535.9439 506.157 \r\nL 535.9439 486.140119 \r\nL 541.3007 486.140119 \r\nL 541.3007 497.385467 \r\n\" style=\"fill:none;stroke:#2ca02c;stroke-width:2.8;\"/>\r\n    <path clip-path=\"url(#p63ef2e4a59)\" d=\"M 560.9423 506.157 \r\nL 560.9423 503.645717 \r\nL 564.5135 503.645717 \r\nL 564.5135 506.157 \r\n\" style=\"fill:none;stroke:#2ca02c;stroke-width:2.8;\"/>\r\n    <path clip-path=\"url(#p63ef2e4a59)\" d=\"M 557.3711 506.157 \r\nL 557.3711 499.143369 \r\nL 562.7279 499.143369 \r\nL 562.7279 503.645717 \r\n\" style=\"fill:none;stroke:#2ca02c;stroke-width:2.8;\"/>\r\n    <path clip-path=\"url(#p63ef2e4a59)\" d=\"M 553.7999 506.157 \r\nL 553.7999 495.68161 \r\nL 560.0495 495.68161 \r\nL 560.0495 499.143369 \r\n\" style=\"fill:none;stroke:#2ca02c;stroke-width:2.8;\"/>\r\n    <path clip-path=\"url(#p63ef2e4a59)\" d=\"M 550.2287 506.157 \r\nL 550.2287 492.192823 \r\nL 556.9247 492.192823 \r\nL 556.9247 495.68161 \r\n\" style=\"fill:none;stroke:#2ca02c;stroke-width:2.8;\"/>\r\n    <path clip-path=\"url(#p63ef2e4a59)\" d=\"M 546.6575 506.157 \r\nL 546.6575 484.252626 \r\nL 553.5767 484.252626 \r\nL 553.5767 492.192823 \r\n\" style=\"fill:none;stroke:#2ca02c;stroke-width:2.8;\"/>\r\n    <path clip-path=\"url(#p63ef2e4a59)\" d=\"M 538.6223 486.140119 \r\nL 538.6223 440.463502 \r\nL 550.1171 440.463502 \r\nL 550.1171 484.252626 \r\n\" style=\"fill:none;stroke:#2ca02c;stroke-width:2.8;\"/>\r\n    <path clip-path=\"url(#p63ef2e4a59)\" d=\"M 571.6559 506.157 \r\nL 571.6559 502.60551 \r\nL 575.2271 502.60551 \r\nL 575.2271 506.157 \r\n\" style=\"fill:none;stroke:#2ca02c;stroke-width:2.8;\"/>\r\n    <path clip-path=\"url(#p63ef2e4a59)\" d=\"M 568.0847 506.157 \r\nL 568.0847 496.238228 \r\nL 573.4415 496.238228 \r\nL 573.4415 502.60551 \r\n\" style=\"fill:none;stroke:#2ca02c;stroke-width:2.8;\"/>\r\n    <path clip-path=\"url(#p63ef2e4a59)\" d=\"M 585.9407 506.157 \r\nL 585.9407 505.03392 \r\nL 589.5119 505.03392 \r\nL 589.5119 506.157 \r\n\" style=\"fill:none;stroke:#2ca02c;stroke-width:2.8;\"/>\r\n    <path clip-path=\"url(#p63ef2e4a59)\" d=\"M 582.3695 506.157 \r\nL 582.3695 504.211769 \r\nL 587.7263 504.211769 \r\nL 587.7263 505.03392 \r\n\" style=\"fill:none;stroke:#2ca02c;stroke-width:2.8;\"/>\r\n    <path clip-path=\"url(#p63ef2e4a59)\" d=\"M 593.0831 506.157 \r\nL 593.0831 502.60551 \r\nL 596.6543 502.60551 \r\nL 596.6543 506.157 \r\n\" style=\"fill:none;stroke:#2ca02c;stroke-width:2.8;\"/>\r\n    <path clip-path=\"url(#p63ef2e4a59)\" d=\"M 585.0479 504.211769 \r\nL 585.0479 499.531781 \r\nL 594.8687 499.531781 \r\nL 594.8687 502.60551 \r\n\" style=\"fill:none;stroke:#2ca02c;stroke-width:2.8;\"/>\r\n    <path clip-path=\"url(#p63ef2e4a59)\" d=\"M 578.7983 506.157 \r\nL 578.7983 497.589145 \r\nL 589.9583 497.589145 \r\nL 589.9583 499.531781 \r\n\" style=\"fill:none;stroke:#2ca02c;stroke-width:2.8;\"/>\r\n    <path clip-path=\"url(#p63ef2e4a59)\" d=\"M 600.2255 506.157 \r\nL 600.2255 501.134435 \r\nL 603.7967 501.134435 \r\nL 603.7967 506.157 \r\n\" style=\"fill:none;stroke:#2ca02c;stroke-width:2.8;\"/>\r\n    <path clip-path=\"url(#p63ef2e4a59)\" d=\"M 610.9391 506.157 \r\nL 610.9391 501.134435 \r\nL 614.5103 501.134435 \r\nL 614.5103 506.157 \r\n\" style=\"fill:none;stroke:#2ca02c;stroke-width:2.8;\"/>\r\n    <path clip-path=\"url(#p63ef2e4a59)\" d=\"M 607.3679 506.157 \r\nL 607.3679 499.173406 \r\nL 612.7247 499.173406 \r\nL 612.7247 501.134435 \r\n\" style=\"fill:none;stroke:#2ca02c;stroke-width:2.8;\"/>\r\n    <path clip-path=\"url(#p63ef2e4a59)\" d=\"M 602.0111 501.134435 \r\nL 602.0111 492.617794 \r\nL 610.0463 492.617794 \r\nL 610.0463 499.173406 \r\n\" style=\"fill:none;stroke:#2ca02c;stroke-width:2.8;\"/>\r\n    <path clip-path=\"url(#p63ef2e4a59)\" d=\"M 584.3783 497.589145 \r\nL 584.3783 488.473965 \r\nL 606.0287 488.473965 \r\nL 606.0287 492.617794 \r\n\" style=\"fill:none;stroke:#2ca02c;stroke-width:2.8;\"/>\r\n    <path clip-path=\"url(#p63ef2e4a59)\" d=\"M 570.7631 496.238228 \r\nL 570.7631 479.0676 \r\nL 595.2035 479.0676 \r\nL 595.2035 488.473965 \r\n\" style=\"fill:none;stroke:#2ca02c;stroke-width:2.8;\"/>\r\n    <path clip-path=\"url(#p63ef2e4a59)\" d=\"M 618.0815 506.157 \r\nL 618.0815 504.568725 \r\nL 621.6527 504.568725 \r\nL 621.6527 506.157 \r\n\" style=\"fill:none;stroke:#2ca02c;stroke-width:2.8;\"/>\r\n    <path clip-path=\"url(#p63ef2e4a59)\" d=\"M 625.2239 506.157 \r\nL 625.2239 503.910841 \r\nL 628.7951 503.910841 \r\nL 628.7951 506.157 \r\n\" style=\"fill:none;stroke:#2ca02c;stroke-width:2.8;\"/>\r\n    <path clip-path=\"url(#p63ef2e4a59)\" d=\"M 619.8671 504.568725 \r\nL 619.8671 500.541601 \r\nL 627.0095 500.541601 \r\nL 627.0095 503.910841 \r\n\" style=\"fill:none;stroke:#2ca02c;stroke-width:2.8;\"/>\r\n    <path clip-path=\"url(#p63ef2e4a59)\" d=\"M 635.9375 506.157 \r\nL 635.9375 504.568725 \r\nL 639.5087 504.568725 \r\nL 639.5087 506.157 \r\n\" style=\"fill:none;stroke:#2ca02c;stroke-width:2.8;\"/>\r\n    <path clip-path=\"url(#p63ef2e4a59)\" d=\"M 632.3663 506.157 \r\nL 632.3663 503.406028 \r\nL 637.7231 503.406028 \r\nL 637.7231 504.568725 \r\n\" style=\"fill:none;stroke:#2ca02c;stroke-width:2.8;\"/>\r\n    <path clip-path=\"url(#p63ef2e4a59)\" d=\"M 646.6511 506.157 \r\nL 646.6511 506.157 \r\nL 650.2223 506.157 \r\nL 650.2223 506.157 \r\n\" style=\"fill:none;stroke:#2ca02c;stroke-width:2.8;\"/>\r\n    <path clip-path=\"url(#p63ef2e4a59)\" d=\"M 643.0799 506.157 \r\nL 643.0799 503.257221 \r\nL 648.4367 503.257221 \r\nL 648.4367 506.157 \r\n\" style=\"fill:none;stroke:#2ca02c;stroke-width:2.8;\"/>\r\n    <path clip-path=\"url(#p63ef2e4a59)\" d=\"M 635.0447 503.406028 \r\nL 635.0447 497.702763 \r\nL 645.7583 497.702763 \r\nL 645.7583 503.257221 \r\n\" style=\"fill:none;stroke:#2ca02c;stroke-width:2.8;\"/>\r\n    <path clip-path=\"url(#p63ef2e4a59)\" d=\"M 623.4383 500.541601 \r\nL 623.4383 491.187284 \r\nL 640.4015 491.187284 \r\nL 640.4015 497.702763 \r\n\" style=\"fill:none;stroke:#2ca02c;stroke-width:2.8;\"/>\r\n    <path clip-path=\"url(#p63ef2e4a59)\" d=\"M 653.7935 506.157 \r\nL 653.7935 503.645717 \r\nL 657.3647 503.645717 \r\nL 657.3647 506.157 \r\n\" style=\"fill:none;stroke:#2ca02c;stroke-width:2.8;\"/>\r\n    <path clip-path=\"url(#p63ef2e4a59)\" d=\"M 660.9359 506.157 \r\nL 660.9359 503.910841 \r\nL 664.5071 503.910841 \r\nL 664.5071 506.157 \r\n\" style=\"fill:none;stroke:#2ca02c;stroke-width:2.8;\"/>\r\n    <path clip-path=\"url(#p63ef2e4a59)\" d=\"M 668.0783 506.157 \r\nL 668.0783 499.325573 \r\nL 671.6495 499.325573 \r\nL 671.6495 506.157 \r\n\" style=\"fill:none;stroke:#2ca02c;stroke-width:2.8;\"/>\r\n    <path clip-path=\"url(#p63ef2e4a59)\" d=\"M 662.7215 503.910841 \r\nL 662.7215 491.665354 \r\nL 669.8639 491.665354 \r\nL 669.8639 499.325573 \r\n\" style=\"fill:none;stroke:#2ca02c;stroke-width:2.8;\"/>\r\n    <path clip-path=\"url(#p63ef2e4a59)\" d=\"M 655.5791 503.645717 \r\nL 655.5791 477.949285 \r\nL 666.2927 477.949285 \r\nL 666.2927 491.665354 \r\n\" style=\"fill:none;stroke:#2ca02c;stroke-width:2.8;\"/>\r\n    <path clip-path=\"url(#p63ef2e4a59)\" d=\"M 631.9199 491.187284 \r\nL 631.9199 450.133254 \r\nL 660.9359 450.133254 \r\nL 660.9359 477.949285 \r\n\" style=\"fill:none;stroke:#2ca02c;stroke-width:2.8;\"/>\r\n    <path clip-path=\"url(#p63ef2e4a59)\" d=\"M 582.9833 479.0676 \r\nL 582.9833 428.076954 \r\nL 646.4279 428.076954 \r\nL 646.4279 450.133254 \r\n\" style=\"fill:none;stroke:#2ca02c;stroke-width:2.8;\"/>\r\n    <path clip-path=\"url(#p63ef2e4a59)\" d=\"M 544.3697 440.463502 \r\nL 544.3697 379.453162 \r\nL 614.7056 379.453162 \r\nL 614.7056 428.076954 \r\n\" style=\"fill:none;stroke:#2ca02c;stroke-width:2.8;\"/>\r\n   </g>\r\n   <g id=\"LineCollection_3\">\r\n    <path clip-path=\"url(#p63ef2e4a59)\" d=\"M 678.7919 506.157 \r\nL 678.7919 506.157 \r\nL 682.3631 506.157 \r\nL 682.3631 506.157 \r\n\" style=\"fill:none;stroke:#d62728;stroke-width:2.8;\"/>\r\n    <path clip-path=\"url(#p63ef2e4a59)\" d=\"M 675.2207 506.157 \r\nL 675.2207 499.672896 \r\nL 680.5775 499.672896 \r\nL 680.5775 506.157 \r\n\" style=\"fill:none;stroke:#d62728;stroke-width:2.8;\"/>\r\n    <path clip-path=\"url(#p63ef2e4a59)\" d=\"M 689.5055 506.157 \r\nL 689.5055 503.910841 \r\nL 693.0767 503.910841 \r\nL 693.0767 506.157 \r\n\" style=\"fill:none;stroke:#d62728;stroke-width:2.8;\"/>\r\n    <path clip-path=\"url(#p63ef2e4a59)\" d=\"M 685.9343 506.157 \r\nL 685.9343 503.257221 \r\nL 691.2911 503.257221 \r\nL 691.2911 503.910841 \r\n\" style=\"fill:none;stroke:#d62728;stroke-width:2.8;\"/>\r\n    <path clip-path=\"url(#p63ef2e4a59)\" d=\"M 700.2191 506.157 \r\nL 700.2191 503.910841 \r\nL 703.7903 503.910841 \r\nL 703.7903 506.157 \r\n\" style=\"fill:none;stroke:#d62728;stroke-width:2.8;\"/>\r\n    <path clip-path=\"url(#p63ef2e4a59)\" d=\"M 696.6479 506.157 \r\nL 696.6479 502.266538 \r\nL 702.0047 502.266538 \r\nL 702.0047 503.910841 \r\n\" style=\"fill:none;stroke:#d62728;stroke-width:2.8;\"/>\r\n    <path clip-path=\"url(#p63ef2e4a59)\" d=\"M 688.6127 503.257221 \r\nL 688.6127 497.125688 \r\nL 699.3263 497.125688 \r\nL 699.3263 502.266538 \r\n\" style=\"fill:none;stroke:#d62728;stroke-width:2.8;\"/>\r\n    <path clip-path=\"url(#p63ef2e4a59)\" d=\"M 677.8991 499.672896 \r\nL 677.8991 487.596902 \r\nL 693.9695 487.596902 \r\nL 693.9695 497.125688 \r\n\" style=\"fill:none;stroke:#d62728;stroke-width:2.8;\"/>\r\n    <path clip-path=\"url(#p63ef2e4a59)\" d=\"M 714.5039 506.157 \r\nL 714.5039 505.03392 \r\nL 718.0751 505.03392 \r\nL 718.0751 506.157 \r\n\" style=\"fill:none;stroke:#d62728;stroke-width:2.8;\"/>\r\n    <path clip-path=\"url(#p63ef2e4a59)\" d=\"M 710.9327 506.157 \r\nL 710.9327 503.483535 \r\nL 716.2895 503.483535 \r\nL 716.2895 505.03392 \r\n\" style=\"fill:none;stroke:#d62728;stroke-width:2.8;\"/>\r\n    <path clip-path=\"url(#p63ef2e4a59)\" d=\"M 707.3615 506.157 \r\nL 707.3615 501.030866 \r\nL 713.6111 501.030866 \r\nL 713.6111 503.483535 \r\n\" style=\"fill:none;stroke:#d62728;stroke-width:2.8;\"/>\r\n    <path clip-path=\"url(#p63ef2e4a59)\" d=\"M 721.6463 506.157 \r\nL 721.6463 500.430395 \r\nL 725.2175 500.430395 \r\nL 725.2175 506.157 \r\n\" style=\"fill:none;stroke:#d62728;stroke-width:2.8;\"/>\r\n    <path clip-path=\"url(#p63ef2e4a59)\" d=\"M 710.4863 501.030866 \r\nL 710.4863 491.138214 \r\nL 723.4319 491.138214 \r\nL 723.4319 500.430395 \r\n\" style=\"fill:none;stroke:#d62728;stroke-width:2.8;\"/>\r\n    <path clip-path=\"url(#p63ef2e4a59)\" d=\"M 732.3599 506.157 \r\nL 732.3599 503.645717 \r\nL 735.9311 503.645717 \r\nL 735.9311 506.157 \r\n\" style=\"fill:none;stroke:#d62728;stroke-width:2.8;\"/>\r\n    <path clip-path=\"url(#p63ef2e4a59)\" d=\"M 728.7887 506.157 \r\nL 728.7887 497.727665 \r\nL 734.1455 497.727665 \r\nL 734.1455 503.645717 \r\n\" style=\"fill:none;stroke:#d62728;stroke-width:2.8;\"/>\r\n    <path clip-path=\"url(#p63ef2e4a59)\" d=\"M 739.5023 506.157 \r\nL 739.5023 503.910841 \r\nL 743.0735 503.910841 \r\nL 743.0735 506.157 \r\n\" style=\"fill:none;stroke:#d62728;stroke-width:2.8;\"/>\r\n    <path clip-path=\"url(#p63ef2e4a59)\" d=\"M 750.2159 506.157 \r\nL 750.2159 505.03392 \r\nL 753.7871 505.03392 \r\nL 753.7871 506.157 \r\n\" style=\"fill:none;stroke:#d62728;stroke-width:2.8;\"/>\r\n    <path clip-path=\"url(#p63ef2e4a59)\" d=\"M 746.6447 506.157 \r\nL 746.6447 500.178952 \r\nL 752.0015 500.178952 \r\nL 752.0015 505.03392 \r\n\" style=\"fill:none;stroke:#d62728;stroke-width:2.8;\"/>\r\n    <path clip-path=\"url(#p63ef2e4a59)\" d=\"M 741.2879 503.910841 \r\nL 741.2879 495.701697 \r\nL 749.3231 495.701697 \r\nL 749.3231 500.178952 \r\n\" style=\"fill:none;stroke:#d62728;stroke-width:2.8;\"/>\r\n    <path clip-path=\"url(#p63ef2e4a59)\" d=\"M 731.4671 497.727665 \r\nL 731.4671 482.802972 \r\nL 745.3055 482.802972 \r\nL 745.3055 495.701697 \r\n\" style=\"fill:none;stroke:#d62728;stroke-width:2.8;\"/>\r\n    <path clip-path=\"url(#p63ef2e4a59)\" d=\"M 716.9591 491.138214 \r\nL 716.9591 472.52505 \r\nL 738.3863 472.52505 \r\nL 738.3863 482.802972 \r\n\" style=\"fill:none;stroke:#d62728;stroke-width:2.8;\"/>\r\n    <path clip-path=\"url(#p63ef2e4a59)\" d=\"M 685.9343 487.596902 \r\nL 685.9343 450.577553 \r\nL 727.6727 450.577553 \r\nL 727.6727 472.52505 \r\n\" style=\"fill:none;stroke:#d62728;stroke-width:2.8;\"/>\r\n    <path clip-path=\"url(#p63ef2e4a59)\" d=\"M 757.3583 506.157 \r\nL 757.3583 497.980856 \r\nL 760.9295 497.980856 \r\nL 760.9295 506.157 \r\n\" style=\"fill:none;stroke:#d62728;stroke-width:2.8;\"/>\r\n    <path clip-path=\"url(#p63ef2e4a59)\" d=\"M 768.0719 506.157 \r\nL 768.0719 503.645717 \r\nL 771.6431 503.645717 \r\nL 771.6431 506.157 \r\n\" style=\"fill:none;stroke:#d62728;stroke-width:2.8;\"/>\r\n    <path clip-path=\"url(#p63ef2e4a59)\" d=\"M 764.5007 506.157 \r\nL 764.5007 497.628493 \r\nL 769.8575 497.628493 \r\nL 769.8575 503.645717 \r\n\" style=\"fill:none;stroke:#d62728;stroke-width:2.8;\"/>\r\n    <path clip-path=\"url(#p63ef2e4a59)\" d=\"M 759.1439 497.980856 \r\nL 759.1439 480.381566 \r\nL 767.1791 480.381566 \r\nL 767.1791 497.628493 \r\n\" style=\"fill:none;stroke:#d62728;stroke-width:2.8;\"/>\r\n    <path clip-path=\"url(#p63ef2e4a59)\" d=\"M 775.2143 506.157 \r\nL 775.2143 494.218499 \r\nL 778.7855 494.218499 \r\nL 778.7855 506.157 \r\n\" style=\"fill:none;stroke:#d62728;stroke-width:2.8;\"/>\r\n    <path clip-path=\"url(#p63ef2e4a59)\" d=\"M 782.3567 506.157 \r\nL 782.3567 489.461219 \r\nL 785.9279 489.461219 \r\nL 785.9279 506.157 \r\n\" style=\"fill:none;stroke:#d62728;stroke-width:2.8;\"/>\r\n    <path clip-path=\"url(#p63ef2e4a59)\" d=\"M 776.9999 494.218499 \r\nL 776.9999 476.613385 \r\nL 784.1423 476.613385 \r\nL 784.1423 489.461219 \r\n\" style=\"fill:none;stroke:#d62728;stroke-width:2.8;\"/>\r\n    <path clip-path=\"url(#p63ef2e4a59)\" d=\"M 763.1615 480.381566 \r\nL 763.1615 446.361983 \r\nL 780.5711 446.361983 \r\nL 780.5711 476.613385 \r\n\" style=\"fill:none;stroke:#d62728;stroke-width:2.8;\"/>\r\n    <path clip-path=\"url(#p63ef2e4a59)\" d=\"M 706.8035 450.577553 \r\nL 706.8035 378.253923 \r\nL 771.8663 378.253923 \r\nL 771.8663 446.361983 \r\n\" style=\"fill:none;stroke:#d62728;stroke-width:2.8;\"/>\r\n   </g>\r\n   <g id=\"LineCollection_4\">\r\n    <path clip-path=\"url(#p63ef2e4a59)\" d=\"M 579.53765 379.453162 \r\nL 579.53765 62.69812 \r\nL 739.3349 62.69812 \r\nL 739.3349 378.253923 \r\n\" style=\"fill:none;stroke:#1f77b4;stroke-width:2.8;\"/>\r\n    <path clip-path=\"url(#p63ef2e4a59)\" d=\"M 189.2027 211.278226 \r\nL 189.2027 50.568429 \r\nL 659.436275 50.568429 \r\nL 659.436275 62.69812 \r\n\" style=\"fill:none;stroke:#1f77b4;stroke-width:2.8;\"/>\r\n   </g>\r\n   <g id=\"patch_3\">\r\n    <path d=\"M 73.4735 506.157 \r\nL 73.4735 27.789 \r\n\" style=\"fill:none;stroke:#000000;stroke-linecap:square;stroke-linejoin:miter;stroke-width:0.8;\"/>\r\n   </g>\r\n   <g id=\"patch_4\">\r\n    <path d=\"M 787.7135 506.157 \r\nL 787.7135 27.789 \r\n\" style=\"fill:none;stroke:#000000;stroke-linecap:square;stroke-linejoin:miter;stroke-width:0.8;\"/>\r\n   </g>\r\n   <g id=\"patch_5\">\r\n    <path d=\"M 73.4735 506.157 \r\nL 787.7135 506.157 \r\n\" style=\"fill:none;stroke:#000000;stroke-linecap:square;stroke-linejoin:miter;stroke-width:0.8;\"/>\r\n   </g>\r\n   <g id=\"patch_6\">\r\n    <path d=\"M 73.4735 27.789 \r\nL 787.7135 27.789 \r\n\" style=\"fill:none;stroke:#000000;stroke-linecap:square;stroke-linejoin:miter;stroke-width:0.8;\"/>\r\n   </g>\r\n   <g id=\"text_12\">\r\n    <!-- Mall Customers Dendrogram -->\r\n    <g transform=\"translate(293.003 21.789)scale(0.192 -0.192)\">\r\n     <defs>\r\n      <path d=\"M 9.8125 72.90625 \r\nL 24.515625 72.90625 \r\nL 43.109375 23.296875 \r\nL 61.8125 72.90625 \r\nL 76.515625 72.90625 \r\nL 76.515625 0 \r\nL 66.890625 0 \r\nL 66.890625 64.015625 \r\nL 48.09375 14.015625 \r\nL 38.1875 14.015625 \r\nL 19.390625 64.015625 \r\nL 19.390625 0 \r\nL 9.8125 0 \r\nz\r\n\" id=\"DejaVuSans-77\"/>\r\n      <path d=\"M 45.40625 27.984375 \r\nQ 45.40625 37.75 41.375 43.109375 \r\nQ 37.359375 48.484375 30.078125 48.484375 \r\nQ 22.859375 48.484375 18.828125 43.109375 \r\nQ 14.796875 37.75 14.796875 27.984375 \r\nQ 14.796875 18.265625 18.828125 12.890625 \r\nQ 22.859375 7.515625 30.078125 7.515625 \r\nQ 37.359375 7.515625 41.375 12.890625 \r\nQ 45.40625 18.265625 45.40625 27.984375 \r\nz\r\nM 54.390625 6.78125 \r\nQ 54.390625 -7.171875 48.1875 -13.984375 \r\nQ 42 -20.796875 29.203125 -20.796875 \r\nQ 24.46875 -20.796875 20.265625 -20.09375 \r\nQ 16.0625 -19.390625 12.109375 -17.921875 \r\nL 12.109375 -9.1875 \r\nQ 16.0625 -11.328125 19.921875 -12.34375 \r\nQ 23.78125 -13.375 27.78125 -13.375 \r\nQ 36.625 -13.375 41.015625 -8.765625 \r\nQ 45.40625 -4.15625 45.40625 5.171875 \r\nL 45.40625 9.625 \r\nQ 42.625 4.78125 38.28125 2.390625 \r\nQ 33.9375 0 27.875 0 \r\nQ 17.828125 0 11.671875 7.65625 \r\nQ 5.515625 15.328125 5.515625 27.984375 \r\nQ 5.515625 40.671875 11.671875 48.328125 \r\nQ 17.828125 56 27.875 56 \r\nQ 33.9375 56 38.28125 53.609375 \r\nQ 42.625 51.21875 45.40625 46.390625 \r\nL 45.40625 54.6875 \r\nL 54.390625 54.6875 \r\nz\r\n\" id=\"DejaVuSans-103\"/>\r\n     </defs>\r\n     <use xlink:href=\"#DejaVuSans-77\"/>\r\n     <use x=\"86.279297\" xlink:href=\"#DejaVuSans-97\"/>\r\n     <use x=\"147.558594\" xlink:href=\"#DejaVuSans-108\"/>\r\n     <use x=\"175.341797\" xlink:href=\"#DejaVuSans-108\"/>\r\n     <use x=\"203.125\" xlink:href=\"#DejaVuSans-32\"/>\r\n     <use x=\"234.912109\" xlink:href=\"#DejaVuSans-67\"/>\r\n     <use x=\"304.736328\" xlink:href=\"#DejaVuSans-117\"/>\r\n     <use x=\"368.115234\" xlink:href=\"#DejaVuSans-115\"/>\r\n     <use x=\"420.214844\" xlink:href=\"#DejaVuSans-116\"/>\r\n     <use x=\"459.423828\" xlink:href=\"#DejaVuSans-111\"/>\r\n     <use x=\"520.605469\" xlink:href=\"#DejaVuSans-109\"/>\r\n     <use x=\"618.017578\" xlink:href=\"#DejaVuSans-101\"/>\r\n     <use x=\"679.541016\" xlink:href=\"#DejaVuSans-114\"/>\r\n     <use x=\"720.654297\" xlink:href=\"#DejaVuSans-115\"/>\r\n     <use x=\"772.753906\" xlink:href=\"#DejaVuSans-32\"/>\r\n     <use x=\"804.541016\" xlink:href=\"#DejaVuSans-68\"/>\r\n     <use x=\"881.542969\" xlink:href=\"#DejaVuSans-101\"/>\r\n     <use x=\"943.066406\" xlink:href=\"#DejaVuSans-110\"/>\r\n     <use x=\"1006.445312\" xlink:href=\"#DejaVuSans-100\"/>\r\n     <use x=\"1069.921875\" xlink:href=\"#DejaVuSans-114\"/>\r\n     <use x=\"1108.785156\" xlink:href=\"#DejaVuSans-111\"/>\r\n     <use x=\"1169.966797\" xlink:href=\"#DejaVuSans-103\"/>\r\n     <use x=\"1233.443359\" xlink:href=\"#DejaVuSans-114\"/>\r\n     <use x=\"1274.556641\" xlink:href=\"#DejaVuSans-97\"/>\r\n     <use x=\"1335.835938\" xlink:href=\"#DejaVuSans-109\"/>\r\n    </g>\r\n   </g>\r\n  </g>\r\n </g>\r\n <defs>\r\n  <clipPath id=\"p63ef2e4a59\">\r\n   <rect height=\"478.368\" width=\"714.24\" x=\"73.4735\" y=\"27.789\"/>\r\n  </clipPath>\r\n </defs>\r\n</svg>\r\n",
      "image/png": "[encoded data removed]"
     },
     "metadata": {
      "needs_background": "light"
     }
    }
   ],
   "source": [
    "plt.style.use('seaborn-poster')\n",
    "dendrogram = sch.dendrogram(sch.linkage(x,method='ward'))\n",
    "plt.title('Mall Customers Dendrogram')\n",
    "plt.xlabel('Customers dataset')\n",
    "plt.ylabel('Euclidean Distance')\n",
    "plt.xticks([])\n",
    "plt.show()"
   ]
  },
  {
   "cell_type": "code",
   "execution_count": 10,
   "metadata": {},
   "outputs": [],
   "source": [
    "from sklearn.cluster import AgglomerativeClustering"
   ]
  },
  {
   "cell_type": "code",
   "execution_count": 18,
   "metadata": {},
   "outputs": [
    {
     "output_type": "execute_result",
     "data": {
      "text/plain": [
       "      Id  Gender  Age  Income  Spending_Score  groups\n",
       "0      1    Male   19      15              39       4\n",
       "1      2    Male   21      15              81       3\n",
       "2      3  Female   20      16               6       4\n",
       "3      4  Female   23      16              77       3\n",
       "4      5  Female   31      17              40       4\n",
       "..   ...     ...  ...     ...             ...     ...\n",
       "195  196  Female   35     120              79       2\n",
       "196  197  Female   45     126              28       0\n",
       "197  198    Male   32     126              74       2\n",
       "198  199    Male   32     137              18       0\n",
       "199  200    Male   30     137              83       2\n",
       "\n",
       "[200 rows x 6 columns]"
      ],
      "text/html": "<div>\n<style scoped>\n    .dataframe tbody tr th:only-of-type {\n        vertical-align: middle;\n    }\n\n    .dataframe tbody tr th {\n        vertical-align: top;\n    }\n\n    .dataframe thead th {\n        text-align: right;\n    }\n</style>\n<table border=\"1\" class=\"dataframe\">\n  <thead>\n    <tr style=\"text-align: right;\">\n      <th></th>\n      <th>Id</th>\n      <th>Gender</th>\n      <th>Age</th>\n      <th>Income</th>\n      <th>Spending_Score</th>\n      <th>groups</th>\n    </tr>\n  </thead>\n  <tbody>\n    <tr>\n      <th>0</th>\n      <td>1</td>\n      <td>Male</td>\n      <td>19</td>\n      <td>15</td>\n      <td>39</td>\n      <td>4</td>\n    </tr>\n    <tr>\n      <th>1</th>\n      <td>2</td>\n      <td>Male</td>\n      <td>21</td>\n      <td>15</td>\n      <td>81</td>\n      <td>3</td>\n    </tr>\n    <tr>\n      <th>2</th>\n      <td>3</td>\n      <td>Female</td>\n      <td>20</td>\n      <td>16</td>\n      <td>6</td>\n      <td>4</td>\n    </tr>\n    <tr>\n      <th>3</th>\n      <td>4</td>\n      <td>Female</td>\n      <td>23</td>\n      <td>16</td>\n      <td>77</td>\n      <td>3</td>\n    </tr>\n    <tr>\n      <th>4</th>\n      <td>5</td>\n      <td>Female</td>\n      <td>31</td>\n      <td>17</td>\n      <td>40</td>\n      <td>4</td>\n    </tr>\n    <tr>\n      <th>...</th>\n      <td>...</td>\n      <td>...</td>\n      <td>...</td>\n      <td>...</td>\n      <td>...</td>\n      <td>...</td>\n    </tr>\n    <tr>\n      <th>195</th>\n      <td>196</td>\n      <td>Female</td>\n      <td>35</td>\n      <td>120</td>\n      <td>79</td>\n      <td>2</td>\n    </tr>\n    <tr>\n      <th>196</th>\n      <td>197</td>\n      <td>Female</td>\n      <td>45</td>\n      <td>126</td>\n      <td>28</td>\n      <td>0</td>\n    </tr>\n    <tr>\n      <th>197</th>\n      <td>198</td>\n      <td>Male</td>\n      <td>32</td>\n      <td>126</td>\n      <td>74</td>\n      <td>2</td>\n    </tr>\n    <tr>\n      <th>198</th>\n      <td>199</td>\n      <td>Male</td>\n      <td>32</td>\n      <td>137</td>\n      <td>18</td>\n      <td>0</td>\n    </tr>\n    <tr>\n      <th>199</th>\n      <td>200</td>\n      <td>Male</td>\n      <td>30</td>\n      <td>137</td>\n      <td>83</td>\n      <td>2</td>\n    </tr>\n  </tbody>\n</table>\n<p>200 rows × 6 columns</p>\n</div>"
     },
     "metadata": {},
     "execution_count": 18
    }
   ],
   "source": [
    "model = AgglomerativeClustering(n_clusters=5,affinity='euclidean',linkage='ward')\n",
    "df['groups'] = model.fit_predict(x)\n",
    "df"
   ]
  },
  {
   "cell_type": "code",
   "execution_count": 19,
   "metadata": {},
   "outputs": [
    {
     "output_type": "display_data",
     "data": {
      "application/vnd.plotly.v1+json": {
       "config": {
        "plotlyServerURL": "https://plot.ly"
       },
       "data": [
        {
         "hovertemplate": "Income=%{x}<br>Spending_Score=%{y}<br>groups=%{marker.color}<extra></extra>",
         "legendgroup": "",
         "marker": {
          "color": [
           4,
           3,
           4,
           3,
           4,
           3,
           4,
           3,
           4,
           3,
           4,
           3,
           4,
           3,
           4,
           3,
           4,
           3,
           4,
           3,
           4,
           3,
           4,
           3,
           4,
           3,
           4,
           3,
           4,
           3,
           4,
           3,
           4,
           3,
           4,
           3,
           4,
           3,
           4,
           3,
           4,
           3,
           4,
           1,
           4,
           1,
           1,
           1,
           1,
           1,
           1,
           1,
           1,
           1,
           1,
           1,
           1,
           1,
           1,
           1,
           1,
           1,
           1,
           1,
           1,
           1,
           1,
           1,
           1,
           1,
           1,
           1,
           1,
           1,
           1,
           1,
           1,
           1,
           1,
           1,
           1,
           1,
           1,
           1,
           1,
           1,
           1,
           1,
           1,
           1,
           1,
           1,
           1,
           1,
           1,
           1,
           1,
           1,
           1,
           1,
           1,
           1,
           1,
           1,
           1,
           1,
           1,
           1,
           1,
           1,
           1,
           1,
           1,
           1,
           1,
           1,
           1,
           1,
           1,
           1,
           1,
           1,
           1,
           2,
           1,
           2,
           1,
           2,
           0,
           2,
           0,
           2,
           1,
           2,
           0,
           2,
           0,
           2,
           0,
           2,
           0,
           2,
           1,
           2,
           0,
           2,
           1,
           2,
           0,
           2,
           0,
           2,
           0,
           2,
           0,
           2,
           0,
           2,
           0,
           2,
           1,
           2,
           0,
           2,
           0,
           2,
           0,
           2,
           0,
           2,
           0,
           2,
           0,
           2,
           0,
           2,
           0,
           2,
           0,
           2,
           0,
           2,
           0,
           2,
           0,
           2,
           0,
           2,
           0,
           2,
           0,
           2,
           0,
           2,
           0,
           2,
           0,
           2,
           0,
           2
          ],
          "coloraxis": "coloraxis",
          "symbol": "circle"
         },
         "mode": "markers",
         "name": "",
         "orientation": "v",
         "showlegend": false,
         "type": "scatter",
         "x": [
          15,
          15,
          16,
          16,
          17,
          17,
          18,
          18,
          19,
          19,
          19,
          19,
          20,
          20,
          20,
          20,
          21,
          21,
          23,
          23,
          24,
          24,
          25,
          25,
          28,
          28,
          28,
          28,
          29,
          29,
          30,
          30,
          33,
          33,
          33,
          33,
          34,
          34,
          37,
          37,
          38,
          38,
          39,
          39,
          39,
          39,
          40,
          40,
          40,
          40,
          42,
          42,
          43,
          43,
          43,
          43,
          44,
          44,
          46,
          46,
          46,
          46,
          47,
          47,
          48,
          48,
          48,
          48,
          48,
          48,
          49,
          49,
          50,
          50,
          54,
          54,
          54,
          54,
          54,
          54,
          54,
          54,
          54,
          54,
          54,
          54,
          57,
          57,
          58,
          58,
          59,
          59,
          60,
          60,
          60,
          60,
          60,
          60,
          61,
          61,
          62,
          62,
          62,
          62,
          62,
          62,
          63,
          63,
          63,
          63,
          63,
          63,
          64,
          64,
          65,
          65,
          65,
          65,
          67,
          67,
          67,
          67,
          69,
          69,
          70,
          70,
          71,
          71,
          71,
          71,
          71,
          71,
          72,
          72,
          73,
          73,
          73,
          73,
          74,
          74,
          75,
          75,
          76,
          76,
          77,
          77,
          77,
          77,
          78,
          78,
          78,
          78,
          78,
          78,
          78,
          78,
          78,
          78,
          78,
          78,
          79,
          79,
          81,
          81,
          85,
          85,
          86,
          86,
          87,
          87,
          87,
          87,
          87,
          87,
          88,
          88,
          88,
          88,
          93,
          93,
          97,
          97,
          98,
          98,
          99,
          99,
          101,
          101,
          103,
          103,
          103,
          103,
          113,
          113,
          120,
          120,
          126,
          126,
          137,
          137
         ],
         "xaxis": "x",
         "y": [
          39,
          81,
          6,
          77,
          40,
          76,
          6,
          94,
          3,
          72,
          14,
          99,
          15,
          77,
          13,
          79,
          35,
          66,
          29,
          98,
          35,
          73,
          5,
          73,
          14,
          82,
          32,
          61,
          31,
          87,
          4,
          73,
          4,
          92,
          14,
          81,
          17,
          73,
          26,
          75,
          35,
          92,
          36,
          61,
          28,
          65,
          55,
          47,
          42,
          42,
          52,
          60,
          54,
          60,
          45,
          41,
          50,
          46,
          51,
          46,
          56,
          55,
          52,
          59,
          51,
          59,
          50,
          48,
          59,
          47,
          55,
          42,
          49,
          56,
          47,
          54,
          53,
          48,
          52,
          42,
          51,
          55,
          41,
          44,
          57,
          46,
          58,
          55,
          60,
          46,
          55,
          41,
          49,
          40,
          42,
          52,
          47,
          50,
          42,
          49,
          41,
          48,
          59,
          55,
          56,
          42,
          50,
          46,
          43,
          48,
          52,
          54,
          42,
          46,
          48,
          50,
          43,
          59,
          43,
          57,
          56,
          40,
          58,
          91,
          29,
          77,
          35,
          95,
          11,
          75,
          9,
          75,
          34,
          71,
          5,
          88,
          7,
          73,
          10,
          72,
          5,
          93,
          40,
          87,
          12,
          97,
          36,
          74,
          22,
          90,
          17,
          88,
          20,
          76,
          16,
          89,
          1,
          78,
          1,
          73,
          35,
          83,
          5,
          93,
          26,
          75,
          20,
          95,
          27,
          63,
          13,
          75,
          10,
          92,
          13,
          86,
          15,
          69,
          14,
          90,
          32,
          86,
          15,
          88,
          39,
          97,
          24,
          68,
          17,
          85,
          23,
          69,
          8,
          91,
          16,
          79,
          28,
          74,
          18,
          83
         ],
         "yaxis": "y"
        }
       ],
       "layout": {
        "coloraxis": {
         "colorbar": {
          "title": {
           "text": "groups"
          }
         },
         "colorscale": [
          [
           0,
           "#0d0887"
          ],
          [
           0.1111111111111111,
           "#46039f"
          ],
          [
           0.2222222222222222,
           "#7201a8"
          ],
          [
           0.3333333333333333,
           "#9c179e"
          ],
          [
           0.4444444444444444,
           "#bd3786"
          ],
          [
           0.5555555555555556,
           "#d8576b"
          ],
          [
           0.6666666666666666,
           "#ed7953"
          ],
          [
           0.7777777777777778,
           "#fb9f3a"
          ],
          [
           0.8888888888888888,
           "#fdca26"
          ],
          [
           1,
           "#f0f921"
          ]
         ]
        },
        "legend": {
         "tracegroupgap": 0
        },
        "margin": {
         "t": 60
        },
        "template": {
         "data": {
          "bar": [
           {
            "error_x": {
             "color": "#2a3f5f"
            },
            "error_y": {
             "color": "#2a3f5f"
            },
            "marker": {
             "line": {
              "color": "#E5ECF6",
              "width": 0.5
             }
            },
            "type": "bar"
           }
          ],
          "barpolar": [
           {
            "marker": {
             "line": {
              "color": "#E5ECF6",
              "width": 0.5
             }
            },
            "type": "barpolar"
           }
          ],
          "carpet": [
           {
            "aaxis": {
             "endlinecolor": "#2a3f5f",
             "gridcolor": "white",
             "linecolor": "white",
             "minorgridcolor": "white",
             "startlinecolor": "#2a3f5f"
            },
            "baxis": {
             "endlinecolor": "#2a3f5f",
             "gridcolor": "white",
             "linecolor": "white",
             "minorgridcolor": "white",
             "startlinecolor": "#2a3f5f"
            },
            "type": "carpet"
           }
          ],
          "choropleth": [
           {
            "colorbar": {
             "outlinewidth": 0,
             "ticks": ""
            },
            "type": "choropleth"
           }
          ],
          "contour": [
           {
            "colorbar": {
             "outlinewidth": 0,
             "ticks": ""
            },
            "colorscale": [
             [
              0,
              "#0d0887"
             ],
             [
              0.1111111111111111,
              "#46039f"
             ],
             [
              0.2222222222222222,
              "#7201a8"
             ],
             [
              0.3333333333333333,
              "#9c179e"
             ],
             [
              0.4444444444444444,
              "#bd3786"
             ],
             [
              0.5555555555555556,
              "#d8576b"
             ],
             [
              0.6666666666666666,
              "#ed7953"
             ],
             [
              0.7777777777777778,
              "#fb9f3a"
             ],
             [
              0.8888888888888888,
              "#fdca26"
             ],
             [
              1,
              "#f0f921"
             ]
            ],
            "type": "contour"
           }
          ],
          "contourcarpet": [
           {
            "colorbar": {
             "outlinewidth": 0,
             "ticks": ""
            },
            "type": "contourcarpet"
           }
          ],
          "heatmap": [
           {
            "colorbar": {
             "outlinewidth": 0,
             "ticks": ""
            },
            "colorscale": [
             [
              0,
              "#0d0887"
             ],
             [
              0.1111111111111111,
              "#46039f"
             ],
             [
              0.2222222222222222,
              "#7201a8"
             ],
             [
              0.3333333333333333,
              "#9c179e"
             ],
             [
              0.4444444444444444,
              "#bd3786"
             ],
             [
              0.5555555555555556,
              "#d8576b"
             ],
             [
              0.6666666666666666,
              "#ed7953"
             ],
             [
              0.7777777777777778,
              "#fb9f3a"
             ],
             [
              0.8888888888888888,
              "#fdca26"
             ],
             [
              1,
              "#f0f921"
             ]
            ],
            "type": "heatmap"
           }
          ],
          "heatmapgl": [
           {
            "colorbar": {
             "outlinewidth": 0,
             "ticks": ""
            },
            "colorscale": [
             [
              0,
              "#0d0887"
             ],
             [
              0.1111111111111111,
              "#46039f"
             ],
             [
              0.2222222222222222,
              "#7201a8"
             ],
             [
              0.3333333333333333,
              "#9c179e"
             ],
             [
              0.4444444444444444,
              "#bd3786"
             ],
             [
              0.5555555555555556,
              "#d8576b"
             ],
             [
              0.6666666666666666,
              "#ed7953"
             ],
             [
              0.7777777777777778,
              "#fb9f3a"
             ],
             [
              0.8888888888888888,
              "#fdca26"
             ],
             [
              1,
              "#f0f921"
             ]
            ],
            "type": "heatmapgl"
           }
          ],
          "histogram": [
           {
            "marker": {
             "colorbar": {
              "outlinewidth": 0,
              "ticks": ""
             }
            },
            "type": "histogram"
           }
          ],
          "histogram2d": [
           {
            "colorbar": {
             "outlinewidth": 0,
             "ticks": ""
            },
            "colorscale": [
             [
              0,
              "#0d0887"
             ],
             [
              0.1111111111111111,
              "#46039f"
             ],
             [
              0.2222222222222222,
              "#7201a8"
             ],
             [
              0.3333333333333333,
              "#9c179e"
             ],
             [
              0.4444444444444444,
              "#bd3786"
             ],
             [
              0.5555555555555556,
              "#d8576b"
             ],
             [
              0.6666666666666666,
              "#ed7953"
             ],
             [
              0.7777777777777778,
              "#fb9f3a"
             ],
             [
              0.8888888888888888,
              "#fdca26"
             ],
             [
              1,
              "#f0f921"
             ]
            ],
            "type": "histogram2d"
           }
          ],
          "histogram2dcontour": [
           {
            "colorbar": {
             "outlinewidth": 0,
             "ticks": ""
            },
            "colorscale": [
             [
              0,
              "#0d0887"
             ],
             [
              0.1111111111111111,
              "#46039f"
             ],
             [
              0.2222222222222222,
              "#7201a8"
             ],
             [
              0.3333333333333333,
              "#9c179e"
             ],
             [
              0.4444444444444444,
              "#bd3786"
             ],
             [
              0.5555555555555556,
              "#d8576b"
             ],
             [
              0.6666666666666666,
              "#ed7953"
             ],
             [
              0.7777777777777778,
              "#fb9f3a"
             ],
             [
              0.8888888888888888,
              "#fdca26"
             ],
             [
              1,
              "#f0f921"
             ]
            ],
            "type": "histogram2dcontour"
           }
          ],
          "mesh3d": [
           {
            "colorbar": {
             "outlinewidth": 0,
             "ticks": ""
            },
            "type": "mesh3d"
           }
          ],
          "parcoords": [
           {
            "line": {
             "colorbar": {
              "outlinewidth": 0,
              "ticks": ""
             }
            },
            "type": "parcoords"
           }
          ],
          "pie": [
           {
            "automargin": true,
            "type": "pie"
           }
          ],
          "scatter": [
           {
            "marker": {
             "colorbar": {
              "outlinewidth": 0,
              "ticks": ""
             }
            },
            "type": "scatter"
           }
          ],
          "scatter3d": [
           {
            "line": {
             "colorbar": {
              "outlinewidth": 0,
              "ticks": ""
             }
            },
            "marker": {
             "colorbar": {
              "outlinewidth": 0,
              "ticks": ""
             }
            },
            "type": "scatter3d"
           }
          ],
          "scattercarpet": [
           {
            "marker": {
             "colorbar": {
              "outlinewidth": 0,
              "ticks": ""
             }
            },
            "type": "scattercarpet"
           }
          ],
          "scattergeo": [
           {
            "marker": {
             "colorbar": {
              "outlinewidth": 0,
              "ticks": ""
             }
            },
            "type": "scattergeo"
           }
          ],
          "scattergl": [
           {
            "marker": {
             "colorbar": {
              "outlinewidth": 0,
              "ticks": ""
             }
            },
            "type": "scattergl"
           }
          ],
          "scattermapbox": [
           {
            "marker": {
             "colorbar": {
              "outlinewidth": 0,
              "ticks": ""
             }
            },
            "type": "scattermapbox"
           }
          ],
          "scatterpolar": [
           {
            "marker": {
             "colorbar": {
              "outlinewidth": 0,
              "ticks": ""
             }
            },
            "type": "scatterpolar"
           }
          ],
          "scatterpolargl": [
           {
            "marker": {
             "colorbar": {
              "outlinewidth": 0,
              "ticks": ""
             }
            },
            "type": "scatterpolargl"
           }
          ],
          "scatterternary": [
           {
            "marker": {
             "colorbar": {
              "outlinewidth": 0,
              "ticks": ""
             }
            },
            "type": "scatterternary"
           }
          ],
          "surface": [
           {
            "colorbar": {
             "outlinewidth": 0,
             "ticks": ""
            },
            "colorscale": [
             [
              0,
              "#0d0887"
             ],
             [
              0.1111111111111111,
              "#46039f"
             ],
             [
              0.2222222222222222,
              "#7201a8"
             ],
             [
              0.3333333333333333,
              "#9c179e"
             ],
             [
              0.4444444444444444,
              "#bd3786"
             ],
             [
              0.5555555555555556,
              "#d8576b"
             ],
             [
              0.6666666666666666,
              "#ed7953"
             ],
             [
              0.7777777777777778,
              "#fb9f3a"
             ],
             [
              0.8888888888888888,
              "#fdca26"
             ],
             [
              1,
              "#f0f921"
             ]
            ],
            "type": "surface"
           }
          ],
          "table": [
           {
            "cells": {
             "fill": {
              "color": "#EBF0F8"
             },
             "line": {
              "color": "white"
             }
            },
            "header": {
             "fill": {
              "color": "#C8D4E3"
             },
             "line": {
              "color": "white"
             }
            },
            "type": "table"
           }
          ]
         },
         "layout": {
          "annotationdefaults": {
           "arrowcolor": "#2a3f5f",
           "arrowhead": 0,
           "arrowwidth": 1
          },
          "coloraxis": {
           "colorbar": {
            "outlinewidth": 0,
            "ticks": ""
           }
          },
          "colorscale": {
           "diverging": [
            [
             0,
             "#8e0152"
            ],
            [
             0.1,
             "#c51b7d"
            ],
            [
             0.2,
             "#de77ae"
            ],
            [
             0.3,
             "#f1b6da"
            ],
            [
             0.4,
             "#fde0ef"
            ],
            [
             0.5,
             "#f7f7f7"
            ],
            [
             0.6,
             "#e6f5d0"
            ],
            [
             0.7,
             "#b8e186"
            ],
            [
             0.8,
             "#7fbc41"
            ],
            [
             0.9,
             "#4d9221"
            ],
            [
             1,
             "#276419"
            ]
           ],
           "sequential": [
            [
             0,
             "#0d0887"
            ],
            [
             0.1111111111111111,
             "#46039f"
            ],
            [
             0.2222222222222222,
             "#7201a8"
            ],
            [
             0.3333333333333333,
             "#9c179e"
            ],
            [
             0.4444444444444444,
             "#bd3786"
            ],
            [
             0.5555555555555556,
             "#d8576b"
            ],
            [
             0.6666666666666666,
             "#ed7953"
            ],
            [
             0.7777777777777778,
             "#fb9f3a"
            ],
            [
             0.8888888888888888,
             "#fdca26"
            ],
            [
             1,
             "#f0f921"
            ]
           ],
           "sequentialminus": [
            [
             0,
             "#0d0887"
            ],
            [
             0.1111111111111111,
             "#46039f"
            ],
            [
             0.2222222222222222,
             "#7201a8"
            ],
            [
             0.3333333333333333,
             "#9c179e"
            ],
            [
             0.4444444444444444,
             "#bd3786"
            ],
            [
             0.5555555555555556,
             "#d8576b"
            ],
            [
             0.6666666666666666,
             "#ed7953"
            ],
            [
             0.7777777777777778,
             "#fb9f3a"
            ],
            [
             0.8888888888888888,
             "#fdca26"
            ],
            [
             1,
             "#f0f921"
            ]
           ]
          },
          "colorway": [
           "#636efa",
           "#EF553B",
           "#00cc96",
           "#ab63fa",
           "#FFA15A",
           "#19d3f3",
           "#FF6692",
           "#B6E880",
           "#FF97FF",
           "#FECB52"
          ],
          "font": {
           "color": "#2a3f5f"
          },
          "geo": {
           "bgcolor": "white",
           "lakecolor": "white",
           "landcolor": "#E5ECF6",
           "showlakes": true,
           "showland": true,
           "subunitcolor": "white"
          },
          "hoverlabel": {
           "align": "left"
          },
          "hovermode": "closest",
          "mapbox": {
           "style": "light"
          },
          "paper_bgcolor": "white",
          "plot_bgcolor": "#E5ECF6",
          "polar": {
           "angularaxis": {
            "gridcolor": "white",
            "linecolor": "white",
            "ticks": ""
           },
           "bgcolor": "#E5ECF6",
           "radialaxis": {
            "gridcolor": "white",
            "linecolor": "white",
            "ticks": ""
           }
          },
          "scene": {
           "xaxis": {
            "backgroundcolor": "#E5ECF6",
            "gridcolor": "white",
            "gridwidth": 2,
            "linecolor": "white",
            "showbackground": true,
            "ticks": "",
            "zerolinecolor": "white"
           },
           "yaxis": {
            "backgroundcolor": "#E5ECF6",
            "gridcolor": "white",
            "gridwidth": 2,
            "linecolor": "white",
            "showbackground": true,
            "ticks": "",
            "zerolinecolor": "white"
           },
           "zaxis": {
            "backgroundcolor": "#E5ECF6",
            "gridcolor": "white",
            "gridwidth": 2,
            "linecolor": "white",
            "showbackground": true,
            "ticks": "",
            "zerolinecolor": "white"
           }
          },
          "shapedefaults": {
           "line": {
            "color": "#2a3f5f"
           }
          },
          "ternary": {
           "aaxis": {
            "gridcolor": "white",
            "linecolor": "white",
            "ticks": ""
           },
           "baxis": {
            "gridcolor": "white",
            "linecolor": "white",
            "ticks": ""
           },
           "bgcolor": "#E5ECF6",
           "caxis": {
            "gridcolor": "white",
            "linecolor": "white",
            "ticks": ""
           }
          },
          "title": {
           "x": 0.05
          },
          "xaxis": {
           "automargin": true,
           "gridcolor": "white",
           "linecolor": "white",
           "ticks": "",
           "title": {
            "standoff": 15
           },
           "zerolinecolor": "white",
           "zerolinewidth": 2
          },
          "yaxis": {
           "automargin": true,
           "gridcolor": "white",
           "linecolor": "white",
           "ticks": "",
           "title": {
            "standoff": 15
           },
           "zerolinecolor": "white",
           "zerolinewidth": 2
          }
         }
        },
        "xaxis": {
         "anchor": "y",
         "domain": [
          0,
          1
         ],
         "title": {
          "text": "Income"
         }
        },
        "yaxis": {
         "anchor": "x",
         "domain": [
          0,
          1
         ],
         "title": {
          "text": "Spending_Score"
         }
        }
       }
      }
     },
     "metadata": {}
    }
   ],
   "source": [
    "fig = px.scatter(df,x='Income',y='Spending_Score',color='groups')\n",
    "fig.show()"
   ]
  },
  {
   "cell_type": "code",
   "execution_count": null,
   "metadata": {},
   "outputs": [],
   "source": []
  }
 ]
}